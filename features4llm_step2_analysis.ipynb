{
 "cells": [
  {
   "cell_type": "code",
   "execution_count": 1,
   "metadata": {},
   "outputs": [],
   "source": [
    "import pandas as pd\n",
    "import os\n",
    "from main import get_miner\n",
    "from log_parsing import from_id_to_template\n",
    "import ast\n",
    "from datetime import datetime"
   ]
  },
  {
   "cell_type": "code",
   "execution_count": 2,
   "metadata": {},
   "outputs": [],
   "source": [
    "df = pd.read_csv(f\"output/features_labeled_4llm_step3.csv\")"
   ]
  },
  {
   "cell_type": "code",
   "execution_count": 3,
   "metadata": {},
   "outputs": [
    {
     "data": {
      "text/plain": [
       "Index(['abnormal_time', 'inject_pod', 'inject_time', 'inject_type',\n",
       "       'normal_time', 'result_list_inhealthy_lessoften',\n",
       "       'result_list_inhealthy_moreoften', 'root_cause', 'inject_comp_tdiff',\n",
       "       'nezha_rank_050'],\n",
       "      dtype='object')"
      ]
     },
     "execution_count": 3,
     "metadata": {},
     "output_type": "execute_result"
    }
   ],
   "source": [
    "df.columns"
   ]
  },
  {
   "cell_type": "code",
   "execution_count": 4,
   "metadata": {},
   "outputs": [
    {
     "data": {
      "text/plain": [
       "array(['frontend-579b9bff58-t2dbm', 'cartservice-579f59597d-wc2lz',\n",
       "       'checkoutservice-578fcf4766-9csqn',\n",
       "       'currencyservice-cf787dd48-vpjrd', 'emailservice-55fdc5b988-f6xth',\n",
       "       'paymentservice-9cdb6588f-554sm',\n",
       "       'productcatalogservice-668d5f85fb-wckp8',\n",
       "       'recommendationservice-6cfdd55578-gfj6q',\n",
       "       'shippingservice-7b598fc7d-lmggd', 'adservice-5f6585d649-fnmft',\n",
       "       'productcatalogservice-668d5f85fb-jhwx9'], dtype=object)"
      ]
     },
     "execution_count": 4,
     "metadata": {},
     "output_type": "execute_result"
    }
   ],
   "source": [
    "df.inject_pod.unique()"
   ]
  },
  {
   "cell_type": "code",
   "execution_count": 5,
   "metadata": {},
   "outputs": [
    {
     "data": {
      "text/plain": [
       "array([\"['CpuUsageRate(%)']\",\n",
       "       \"['Serving product page started', 'GetProduct start']\",\n",
       "       \"['Placing order started', 'Order placed complete']\",\n",
       "       \"['NetworkP90(ms)']\",\n",
       "       \"['Start charge card', 'Charge successfully']\",\n",
       "       \"['Received ad request', 'No context provided']\",\n",
       "       \"['Query product with name', 'Query product successfully']\"],\n",
       "      dtype=object)"
      ]
     },
     "execution_count": 5,
     "metadata": {},
     "output_type": "execute_result"
    }
   ],
   "source": [
    "df.root_cause.unique()"
   ]
  },
  {
   "cell_type": "code",
   "execution_count": 6,
   "metadata": {},
   "outputs": [
    {
     "data": {
      "text/plain": [
       "array(['cpu_contention', 'return', 'cpu_consumed', 'exception',\n",
       "       'network_delay'], dtype=object)"
      ]
     },
     "execution_count": 6,
     "metadata": {},
     "output_type": "execute_result"
    }
   ],
   "source": [
    "df.inject_type.unique()"
   ]
  },
  {
   "cell_type": "code",
   "execution_count": 7,
   "metadata": {},
   "outputs": [
    {
     "data": {
      "text/html": [
       "<div>\n",
       "<style scoped>\n",
       "    .dataframe tbody tr th:only-of-type {\n",
       "        vertical-align: middle;\n",
       "    }\n",
       "\n",
       "    .dataframe tbody tr th {\n",
       "        vertical-align: top;\n",
       "    }\n",
       "\n",
       "    .dataframe thead th {\n",
       "        text-align: right;\n",
       "    }\n",
       "</style>\n",
       "<table border=\"1\" class=\"dataframe\">\n",
       "  <thead>\n",
       "    <tr style=\"text-align: right;\">\n",
       "      <th></th>\n",
       "      <th>abnormal_time</th>\n",
       "      <th>inject_pod</th>\n",
       "      <th>inject_time</th>\n",
       "      <th>inject_type</th>\n",
       "      <th>normal_time</th>\n",
       "      <th>result_list_inhealthy_lessoften</th>\n",
       "      <th>result_list_inhealthy_moreoften</th>\n",
       "      <th>root_cause</th>\n",
       "      <th>inject_comp_tdiff</th>\n",
       "      <th>nezha_rank_050</th>\n",
       "    </tr>\n",
       "  </thead>\n",
       "  <tbody>\n",
       "    <tr>\n",
       "      <th>3</th>\n",
       "      <td>2022-08-22 04:04</td>\n",
       "      <td>frontend-579b9bff58-t2dbm</td>\n",
       "      <td>2022-08-22 04:02:07</td>\n",
       "      <td>return</td>\n",
       "      <td>2022-08-22 03:51</td>\n",
       "      <td>[{'score': -1.0, 'deepth': 1, 'pod': 'frontend...</td>\n",
       "      <td>[{'score': 1.0, 'deepth': 4, 'pod': 'adservice...</td>\n",
       "      <td>['Serving product page started', 'GetProduct s...</td>\n",
       "      <td>2</td>\n",
       "      <td>2</td>\n",
       "    </tr>\n",
       "    <tr>\n",
       "      <th>47</th>\n",
       "      <td>2022-08-22 07:55</td>\n",
       "      <td>adservice-5f6585d649-fnmft</td>\n",
       "      <td>2022-08-22 07:53:33</td>\n",
       "      <td>exception</td>\n",
       "      <td>2022-08-22 03:51</td>\n",
       "      <td>[{'score': -1.0, 'deepth': 1, 'pod': 'frontend...</td>\n",
       "      <td>[{'score': 1.0, 'deepth': 1, 'pod': 'frontend-...</td>\n",
       "      <td>['Received ad request', 'No context provided']</td>\n",
       "      <td>2</td>\n",
       "      <td>-1</td>\n",
       "    </tr>\n",
       "    <tr>\n",
       "      <th>51</th>\n",
       "      <td>2022-08-23 12:12</td>\n",
       "      <td>frontend-579b9bff58-t2dbm</td>\n",
       "      <td>2022-08-23 12:10:21</td>\n",
       "      <td>return</td>\n",
       "      <td>2022-08-23 17:00</td>\n",
       "      <td>[{'score': -1.0, 'deepth': 1, 'pod': 'frontend...</td>\n",
       "      <td>[{'score': 1.0, 'deepth': 4, 'pod': 'adservice...</td>\n",
       "      <td>['Serving product page started', 'GetProduct s...</td>\n",
       "      <td>2</td>\n",
       "      <td>2</td>\n",
       "    </tr>\n",
       "    <tr>\n",
       "      <th>83</th>\n",
       "      <td>2022-08-23 14:32</td>\n",
       "      <td>productcatalogservice-668d5f85fb-jhwx9</td>\n",
       "      <td>2022-08-23 14:30:10</td>\n",
       "      <td>network_delay</td>\n",
       "      <td>2022-08-23 17:00</td>\n",
       "      <td>[{'score': -0.5533980582524272, 'deepth': 5, '...</td>\n",
       "      <td>[{'score': 0.7, 'deepth': 3, 'pod': 'currencys...</td>\n",
       "      <td>['NetworkP90(ms)']</td>\n",
       "      <td>2</td>\n",
       "      <td>-1</td>\n",
       "    </tr>\n",
       "    <tr>\n",
       "      <th>103</th>\n",
       "      <td>2022-08-23 16:07</td>\n",
       "      <td>adservice-5f6585d649-fnmft</td>\n",
       "      <td>2022-08-23 16:05:02</td>\n",
       "      <td>network_delay</td>\n",
       "      <td>2022-08-23 17:00</td>\n",
       "      <td>[{'score': -0.5245098039215687, 'deepth': 1, '...</td>\n",
       "      <td>[{'score': 0.7, 'deepth': 3, 'pod': 'currencys...</td>\n",
       "      <td>['NetworkP90(ms)']</td>\n",
       "      <td>2</td>\n",
       "      <td>-1</td>\n",
       "    </tr>\n",
       "    <tr>\n",
       "      <th>107</th>\n",
       "      <td>2022-08-23 16:24</td>\n",
       "      <td>adservice-5f6585d649-fnmft</td>\n",
       "      <td>2022-08-23 16:22:53</td>\n",
       "      <td>exception</td>\n",
       "      <td>2022-08-23 17:00</td>\n",
       "      <td>[{'score': -1.0, 'deepth': 1, 'pod': 'frontend...</td>\n",
       "      <td>[{'score': 1.0, 'deepth': 1, 'pod': 'frontend-...</td>\n",
       "      <td>['Received ad request', 'No context provided']</td>\n",
       "      <td>2</td>\n",
       "      <td>-1</td>\n",
       "    </tr>\n",
       "  </tbody>\n",
       "</table>\n",
       "</div>"
      ],
      "text/plain": [
       "        abnormal_time                              inject_pod  \\\n",
       "3    2022-08-22 04:04               frontend-579b9bff58-t2dbm   \n",
       "47   2022-08-22 07:55              adservice-5f6585d649-fnmft   \n",
       "51   2022-08-23 12:12               frontend-579b9bff58-t2dbm   \n",
       "83   2022-08-23 14:32  productcatalogservice-668d5f85fb-jhwx9   \n",
       "103  2022-08-23 16:07              adservice-5f6585d649-fnmft   \n",
       "107  2022-08-23 16:24              adservice-5f6585d649-fnmft   \n",
       "\n",
       "             inject_time    inject_type       normal_time  \\\n",
       "3    2022-08-22 04:02:07         return  2022-08-22 03:51   \n",
       "47   2022-08-22 07:53:33      exception  2022-08-22 03:51   \n",
       "51   2022-08-23 12:10:21         return  2022-08-23 17:00   \n",
       "83   2022-08-23 14:30:10  network_delay  2022-08-23 17:00   \n",
       "103  2022-08-23 16:05:02  network_delay  2022-08-23 17:00   \n",
       "107  2022-08-23 16:22:53      exception  2022-08-23 17:00   \n",
       "\n",
       "                       result_list_inhealthy_lessoften  \\\n",
       "3    [{'score': -1.0, 'deepth': 1, 'pod': 'frontend...   \n",
       "47   [{'score': -1.0, 'deepth': 1, 'pod': 'frontend...   \n",
       "51   [{'score': -1.0, 'deepth': 1, 'pod': 'frontend...   \n",
       "83   [{'score': -0.5533980582524272, 'deepth': 5, '...   \n",
       "103  [{'score': -0.5245098039215687, 'deepth': 1, '...   \n",
       "107  [{'score': -1.0, 'deepth': 1, 'pod': 'frontend...   \n",
       "\n",
       "                       result_list_inhealthy_moreoften  \\\n",
       "3    [{'score': 1.0, 'deepth': 4, 'pod': 'adservice...   \n",
       "47   [{'score': 1.0, 'deepth': 1, 'pod': 'frontend-...   \n",
       "51   [{'score': 1.0, 'deepth': 4, 'pod': 'adservice...   \n",
       "83   [{'score': 0.7, 'deepth': 3, 'pod': 'currencys...   \n",
       "103  [{'score': 0.7, 'deepth': 3, 'pod': 'currencys...   \n",
       "107  [{'score': 1.0, 'deepth': 1, 'pod': 'frontend-...   \n",
       "\n",
       "                                            root_cause  inject_comp_tdiff  \\\n",
       "3    ['Serving product page started', 'GetProduct s...                  2   \n",
       "47      ['Received ad request', 'No context provided']                  2   \n",
       "51   ['Serving product page started', 'GetProduct s...                  2   \n",
       "83                                  ['NetworkP90(ms)']                  2   \n",
       "103                                 ['NetworkP90(ms)']                  2   \n",
       "107     ['Received ad request', 'No context provided']                  2   \n",
       "\n",
       "     nezha_rank_050  \n",
       "3                 2  \n",
       "47               -1  \n",
       "51                2  \n",
       "83               -1  \n",
       "103              -1  \n",
       "107              -1  "
      ]
     },
     "execution_count": 7,
     "metadata": {},
     "output_type": "execute_result"
    }
   ],
   "source": [
    "mask = (df.inject_comp_tdiff == 2) & (df.nezha_rank_050 != 1)\n",
    "df[mask]"
   ]
  },
  {
   "cell_type": "markdown",
   "metadata": {},
   "source": []
  }
 ],
 "metadata": {
  "kernelspec": {
   "display_name": "python3.8",
   "language": "python",
   "name": "python3"
  },
  "language_info": {
   "codemirror_mode": {
    "name": "ipython",
    "version": 3
   },
   "file_extension": ".py",
   "mimetype": "text/x-python",
   "name": "python",
   "nbconvert_exporter": "python",
   "pygments_lexer": "ipython3",
   "version": "3.8.18"
  }
 },
 "nbformat": 4,
 "nbformat_minor": 2
}
