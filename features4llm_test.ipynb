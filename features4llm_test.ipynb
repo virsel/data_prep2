{
 "cells": [
  {
   "cell_type": "code",
   "execution_count": 1,
   "metadata": {},
   "outputs": [],
   "source": [
    "import pandas as pd\n",
    "import os\n",
    "from main import get_miner\n",
    "from log_parsing import from_id_to_template\n",
    "import ast\n",
    "from datetime import datetime"
   ]
  },
  {
   "cell_type": "code",
   "execution_count": 2,
   "metadata": {},
   "outputs": [],
   "source": [
    "df = pd.read_csv(f\"output/features_labeled.csv\")"
   ]
  },
  {
   "cell_type": "code",
   "execution_count": 3,
   "metadata": {},
   "outputs": [
    {
     "data": {
      "text/html": [
       "<div>\n",
       "<style scoped>\n",
       "    .dataframe tbody tr th:only-of-type {\n",
       "        vertical-align: middle;\n",
       "    }\n",
       "\n",
       "    .dataframe tbody tr th {\n",
       "        vertical-align: top;\n",
       "    }\n",
       "\n",
       "    .dataframe thead th {\n",
       "        text-align: right;\n",
       "    }\n",
       "</style>\n",
       "<table border=\"1\" class=\"dataframe\">\n",
       "  <thead>\n",
       "    <tr style=\"text-align: right;\">\n",
       "      <th></th>\n",
       "      <th>abnormal_time</th>\n",
       "      <th>inject_pod</th>\n",
       "      <th>inject_time</th>\n",
       "      <th>inject_type</th>\n",
       "      <th>normal_time</th>\n",
       "      <th>result_list_inhealthy_lessoften</th>\n",
       "      <th>result_list_inhealthy_moreoften</th>\n",
       "      <th>root_cause</th>\n",
       "    </tr>\n",
       "  </thead>\n",
       "  <tbody>\n",
       "    <tr>\n",
       "      <th>0</th>\n",
       "      <td>2022-08-22 03:54</td>\n",
       "      <td>frontend-579b9bff58-t2dbm</td>\n",
       "      <td>2022-08-22 03:53:54</td>\n",
       "      <td>cpu_contention</td>\n",
       "      <td>2022-08-22 03:51</td>\n",
       "      <td>[{'events': '23_106', 'score': 0.5400894187779...</td>\n",
       "      <td>[{'events': '76_4', 'score': 1.0, 'deepth': 1,...</td>\n",
       "      <td>['CpuUsageRate(%)']</td>\n",
       "    </tr>\n",
       "    <tr>\n",
       "      <th>1</th>\n",
       "      <td>2022-08-22 03:55</td>\n",
       "      <td>frontend-579b9bff58-t2dbm</td>\n",
       "      <td>2022-08-22 03:53:54</td>\n",
       "      <td>cpu_contention</td>\n",
       "      <td>2022-08-22 03:51</td>\n",
       "      <td>[{'events': '76_197', 'score': 1.0, 'deepth': ...</td>\n",
       "      <td>[{'events': '76_4', 'score': 1.0, 'deepth': 1,...</td>\n",
       "      <td>['CpuUsageRate(%)']</td>\n",
       "    </tr>\n",
       "    <tr>\n",
       "      <th>2</th>\n",
       "      <td>2022-08-22 04:03</td>\n",
       "      <td>frontend-579b9bff58-t2dbm</td>\n",
       "      <td>2022-08-22 04:02:07</td>\n",
       "      <td>return</td>\n",
       "      <td>2022-08-22 03:51</td>\n",
       "      <td>[{'events': '18_191', 'score': 1.0, 'deepth': ...</td>\n",
       "      <td>[{'events': '120_198', 'score': 1.0, 'deepth':...</td>\n",
       "      <td>['Serving product page started', 'GetProduct s...</td>\n",
       "    </tr>\n",
       "    <tr>\n",
       "      <th>3</th>\n",
       "      <td>2022-08-22 04:04</td>\n",
       "      <td>frontend-579b9bff58-t2dbm</td>\n",
       "      <td>2022-08-22 04:02:07</td>\n",
       "      <td>return</td>\n",
       "      <td>2022-08-22 03:51</td>\n",
       "      <td>[{'events': '18_191', 'score': 1.0, 'deepth': ...</td>\n",
       "      <td>[{'events': '120_198', 'score': 1.0, 'deepth':...</td>\n",
       "      <td>['Serving product page started', 'GetProduct s...</td>\n",
       "    </tr>\n",
       "    <tr>\n",
       "      <th>4</th>\n",
       "      <td>2022-08-22 04:11</td>\n",
       "      <td>frontend-579b9bff58-t2dbm</td>\n",
       "      <td>2022-08-22 04:10:20</td>\n",
       "      <td>cpu_consumed</td>\n",
       "      <td>2022-08-22 03:51</td>\n",
       "      <td>[{'events': '76_197', 'score': 1.0, 'deepth': ...</td>\n",
       "      <td>[{'events': '104_106', 'score': 0.605582524271...</td>\n",
       "      <td>['CpuUsageRate(%)']</td>\n",
       "    </tr>\n",
       "  </tbody>\n",
       "</table>\n",
       "</div>"
      ],
      "text/plain": [
       "      abnormal_time                 inject_pod          inject_time  \\\n",
       "0  2022-08-22 03:54  frontend-579b9bff58-t2dbm  2022-08-22 03:53:54   \n",
       "1  2022-08-22 03:55  frontend-579b9bff58-t2dbm  2022-08-22 03:53:54   \n",
       "2  2022-08-22 04:03  frontend-579b9bff58-t2dbm  2022-08-22 04:02:07   \n",
       "3  2022-08-22 04:04  frontend-579b9bff58-t2dbm  2022-08-22 04:02:07   \n",
       "4  2022-08-22 04:11  frontend-579b9bff58-t2dbm  2022-08-22 04:10:20   \n",
       "\n",
       "      inject_type       normal_time  \\\n",
       "0  cpu_contention  2022-08-22 03:51   \n",
       "1  cpu_contention  2022-08-22 03:51   \n",
       "2          return  2022-08-22 03:51   \n",
       "3          return  2022-08-22 03:51   \n",
       "4    cpu_consumed  2022-08-22 03:51   \n",
       "\n",
       "                     result_list_inhealthy_lessoften  \\\n",
       "0  [{'events': '23_106', 'score': 0.5400894187779...   \n",
       "1  [{'events': '76_197', 'score': 1.0, 'deepth': ...   \n",
       "2  [{'events': '18_191', 'score': 1.0, 'deepth': ...   \n",
       "3  [{'events': '18_191', 'score': 1.0, 'deepth': ...   \n",
       "4  [{'events': '76_197', 'score': 1.0, 'deepth': ...   \n",
       "\n",
       "                     result_list_inhealthy_moreoften  \\\n",
       "0  [{'events': '76_4', 'score': 1.0, 'deepth': 1,...   \n",
       "1  [{'events': '76_4', 'score': 1.0, 'deepth': 1,...   \n",
       "2  [{'events': '120_198', 'score': 1.0, 'deepth':...   \n",
       "3  [{'events': '120_198', 'score': 1.0, 'deepth':...   \n",
       "4  [{'events': '104_106', 'score': 0.605582524271...   \n",
       "\n",
       "                                          root_cause  \n",
       "0                                ['CpuUsageRate(%)']  \n",
       "1                                ['CpuUsageRate(%)']  \n",
       "2  ['Serving product page started', 'GetProduct s...  \n",
       "3  ['Serving product page started', 'GetProduct s...  \n",
       "4                                ['CpuUsageRate(%)']  "
      ]
     },
     "execution_count": 3,
     "metadata": {},
     "output_type": "execute_result"
    }
   ],
   "source": [
    "df.head()"
   ]
  },
  {
   "cell_type": "code",
   "execution_count": 4,
   "metadata": {},
   "outputs": [
    {
     "name": "stdout",
     "output_type": "stream",
     "text": [
      "[\"[{'events': '165_48', 'score': 1.0, 'deepth': 5, 'pod': 'paymentservice-9cdb6588f-554sm', 'resource_alert': 'NetworkP90(ms)', 'events_actual': '165_199'}, {'events': '158_65', 'score': 1.0, 'deepth': 4, 'pod': 'checkoutservice-578fcf4766-9csqn', 'resource_alert': 'CpuUsageRate(%)', 'events_actual': '158_197'}, {'events': '4_3', 'score': 0.5631067961165048, 'deepth': 1, 'pod': 'frontend-579b9bff58-t2dbm', 'events_actual': '4_42'}, {'events': '104_106', 'score': 0.5342612419700214, 'deepth': 2, 'pod': 'currencyservice-cf787dd48-vpjrd', 'events_actual': '104_23'}, {'events': '4_50', 'score': 0.5294117647058824, 'deepth': 1, 'pod': 'frontend-579b9bff58-t2dbm', 'events_actual': '4_42'}, {'events': '38_84', 'score': 0.5274542429284526, 'deepth': 1, 'pod': 'frontend-579b9bff58-t2dbm'}, {'events': '38_78', 'score': 0.518361581920904, 'deepth': 1, 'pod': 'frontend-579b9bff58-t2dbm'}, {'events': '4_38', 'score': 0.5169082125603864, 'deepth': 1, 'pod': 'frontend-579b9bff58-t2dbm', 'events_actual': '4_42'}, {'events': '98_100', 'score': 0.5138888888888888, 'deepth': 2, 'pod': 'currencyservice-cf787dd48-vpjrd'}, {'events': '198_120', 'score': 0.5119305856832972, 'deepth': 4, 'pod': 'adservice-5f6585d649-fnmft', 'resource_alert': 'MemoryUsageRate(%)'}]\"]\n"
     ]
    }
   ],
   "source": [
    "mask = df.abnormal_time == \"2022-08-22 04:45\"\n",
    "print(df[mask]['result_list_inhealthy_moreoften'].values)"
   ]
  },
  {
   "cell_type": "code",
   "execution_count": 5,
   "metadata": {},
   "outputs": [],
   "source": [
    "df_test = df[mask]"
   ]
  },
  {
   "cell_type": "code",
   "execution_count": 6,
   "metadata": {},
   "outputs": [
    {
     "name": "stderr",
     "output_type": "stream",
     "text": [
      "C:\\Users\\paul-\\AppData\\Local\\Temp\\ipykernel_37984\\2024620825.py:1: SettingWithCopyWarning: \n",
      "A value is trying to be set on a copy of a slice from a DataFrame.\n",
      "Try using .loc[row_indexer,col_indexer] = value instead\n",
      "\n",
      "See the caveats in the documentation: https://pandas.pydata.org/pandas-docs/stable/user_guide/indexing.html#returning-a-view-versus-a-copy\n",
      "  df_test['result_list_inhealthy_lessoften'] = df_test['result_list_inhealthy_lessoften'].apply(lambda x: ast.literal_eval(x))\n",
      "C:\\Users\\paul-\\AppData\\Local\\Temp\\ipykernel_37984\\2024620825.py:2: SettingWithCopyWarning: \n",
      "A value is trying to be set on a copy of a slice from a DataFrame.\n",
      "Try using .loc[row_indexer,col_indexer] = value instead\n",
      "\n",
      "See the caveats in the documentation: https://pandas.pydata.org/pandas-docs/stable/user_guide/indexing.html#returning-a-view-versus-a-copy\n",
      "  df_test['result_list_inhealthy_moreoften'] = df_test['result_list_inhealthy_moreoften'].apply(lambda x: ast.literal_eval(x))\n",
      "C:\\Users\\paul-\\AppData\\Local\\Temp\\ipykernel_37984\\2024620825.py:3: SettingWithCopyWarning: \n",
      "A value is trying to be set on a copy of a slice from a DataFrame.\n",
      "Try using .loc[row_indexer,col_indexer] = value instead\n",
      "\n",
      "See the caveats in the documentation: https://pandas.pydata.org/pandas-docs/stable/user_guide/indexing.html#returning-a-view-versus-a-copy\n",
      "  df_test['root_cause'] = df_test['root_cause'].apply(lambda x: ast.literal_eval(x))\n"
     ]
    }
   ],
   "source": [
    "df_test['result_list_inhealthy_lessoften'] = df_test['result_list_inhealthy_lessoften'].apply(lambda x: ast.literal_eval(x))\n",
    "df_test['result_list_inhealthy_moreoften'] = df_test['result_list_inhealthy_moreoften'].apply(lambda x: ast.literal_eval(x))\n",
    "df_test['root_cause'] = df_test['root_cause'].apply(lambda x: ast.literal_eval(x))"
   ]
  },
  {
   "cell_type": "code",
   "execution_count": 7,
   "metadata": {},
   "outputs": [
    {
     "data": {
      "text/plain": [
       "array(['cpu_contention'], dtype=object)"
      ]
     },
     "execution_count": 7,
     "metadata": {},
     "output_type": "execute_result"
    }
   ],
   "source": [
    "df_test['inject_type'].unique()"
   ]
  },
  {
   "cell_type": "code",
   "execution_count": 8,
   "metadata": {},
   "outputs": [
    {
     "data": {
      "text/plain": [
       "array([\"['CpuUsageRate(%)']\"], dtype=object)"
      ]
     },
     "execution_count": 8,
     "metadata": {},
     "output_type": "execute_result"
    }
   ],
   "source": [
    "df_test['root_cause'].apply(str).unique()"
   ]
  },
  {
   "cell_type": "code",
   "execution_count": 9,
   "metadata": {},
   "outputs": [
    {
     "name": "stderr",
     "output_type": "stream",
     "text": [
      "C:\\Users\\paul-\\AppData\\Local\\Temp\\ipykernel_37984\\4218699836.py:8: SettingWithCopyWarning: \n",
      "A value is trying to be set on a copy of a slice from a DataFrame.\n",
      "Try using .loc[row_indexer,col_indexer] = value instead\n",
      "\n",
      "See the caveats in the documentation: https://pandas.pydata.org/pandas-docs/stable/user_guide/indexing.html#returning-a-view-versus-a-copy\n",
      "  df_test[\"inject_comp_tdiff\"] = df_test.apply(lambda row: get_timediff(row['inject_time'], row['abnormal_time']), axis=1)\n"
     ]
    }
   ],
   "source": [
    "def get_timediff(inject_time, abnormal_time):\n",
    "    inject_dt = datetime.strptime(inject_time, '%Y-%m-%d %H:%M:%S')\n",
    "    abnormal_dt = datetime.strptime(abnormal_time, '%Y-%m-%d %H:%M')\n",
    "    \n",
    "    diff = max(1, abs(inject_dt.minute - abnormal_dt.minute))\n",
    "    return diff\n",
    "\n",
    "df_test[\"inject_comp_tdiff\"] = df_test.apply(lambda row: get_timediff(row['inject_time'], row['abnormal_time']), axis=1)"
   ]
  },
  {
   "cell_type": "code",
   "execution_count": 10,
   "metadata": {},
   "outputs": [],
   "source": [
    "log_template_miner = get_miner()"
   ]
  },
  {
   "cell_type": "code",
   "execution_count": 18,
   "metadata": {},
   "outputs": [],
   "source": [
    "def get_nezha_rank(result_list, root_cause, inject_pod):\n",
    "    rank = 1\n",
    "    rc_found_flag = False\n",
    "            \n",
    "    if len(root_cause) == 1:\n",
    "        for i in range(len(result_list)):\n",
    "            if \"resource_alert\" in result_list[i].keys():\n",
    "                if str(root_cause[0]) in str(result_list[i][\"resource_alert\"]) and inject_pod in str(result_list[i][\"pod\"]):\n",
    "                    rc_found_flag = True\n",
    "                    break\n",
    "            else:\n",
    "                if \"events_actual\" in result_list[i].keys() and str(root_cause[0]) in from_id_to_template(int(result_list[i][\"events_actual\"].split(\"_\")[1]),log_template_miner) and inject_pod in str(result_list[i][\"pod\"]):\n",
    "                    rc_found_flag = True\n",
    "                    break\n",
    "                if i > 0:\n",
    "                    if result_list[i-1][\"score\"] == result_list[i][\"score\"] and result_list[i-1][\"deepth\"] == result_list[i][\"deepth\"]:\n",
    "                        continue\n",
    "            rank += 1\n",
    "            \n",
    "    elif len(root_cause) == 2:\n",
    "        for i in range(len(result_list)):\n",
    "            if root_cause[0] in from_id_to_template(int(result_list[i][\"events\"].split(\n",
    "                    \"_\")[0]),log_template_miner) and root_cause[1] in from_id_to_template(int(result_list[i][\"events\"].split(\"_\")[1]),log_template_miner) and inject_pod in str(result_list[i][\"pod\"]):\n",
    "                rc_found_flag = True\n",
    "                break\n",
    "            else:\n",
    "                if i > 0:\n",
    "                    # logger.info(\"%s, %s\",\n",
    "                    #             result_list[i-1][\"score\"], result_list[i][\"score\"])\n",
    "                    if result_list[i-1][\"score\"] == result_list[i][\"score\"] and result_list[i-1][\"deepth\"] == result_list[i][\"deepth\"]:\n",
    "                        continue\n",
    "            rank += 1\n",
    "    \n",
    "    if not rc_found_flag:\n",
    "        return -1\n",
    "    return rank"
   ]
  },
  {
   "cell_type": "code",
   "execution_count": 19,
   "metadata": {},
   "outputs": [
    {
     "name": "stderr",
     "output_type": "stream",
     "text": [
      "C:\\Users\\paul-\\AppData\\Local\\Temp\\ipykernel_37984\\2384368545.py:1: SettingWithCopyWarning: \n",
      "A value is trying to be set on a copy of a slice from a DataFrame.\n",
      "Try using .loc[row_indexer,col_indexer] = value instead\n",
      "\n",
      "See the caveats in the documentation: https://pandas.pydata.org/pandas-docs/stable/user_guide/indexing.html#returning-a-view-versus-a-copy\n",
      "  df_test[\"nezha_rank_050\"] = df_test.apply(lambda row: get_nezha_rank(row['result_list_inhealthy_moreoften'], row['root_cause'], row['inject_pod']), axis=1)\n"
     ]
    }
   ],
   "source": [
    "df_test[\"nezha_rank_050\"] = df_test.apply(lambda row: get_nezha_rank(row['result_list_inhealthy_moreoften'], row['root_cause'], row['inject_pod']), axis=1)"
   ]
  },
  {
   "cell_type": "code",
   "execution_count": 20,
   "metadata": {},
   "outputs": [],
   "source": [
    "pd.set_option('display.max_colwidth', 1000)"
   ]
  },
  {
   "cell_type": "code",
   "execution_count": 21,
   "metadata": {},
   "outputs": [
    {
     "data": {
      "text/html": [
       "<div>\n",
       "<style scoped>\n",
       "    .dataframe tbody tr th:only-of-type {\n",
       "        vertical-align: middle;\n",
       "    }\n",
       "\n",
       "    .dataframe tbody tr th {\n",
       "        vertical-align: top;\n",
       "    }\n",
       "\n",
       "    .dataframe thead th {\n",
       "        text-align: right;\n",
       "    }\n",
       "</style>\n",
       "<table border=\"1\" class=\"dataframe\">\n",
       "  <thead>\n",
       "    <tr style=\"text-align: right;\">\n",
       "      <th></th>\n",
       "      <th>abnormal_time</th>\n",
       "      <th>inject_pod</th>\n",
       "      <th>inject_time</th>\n",
       "      <th>inject_type</th>\n",
       "      <th>normal_time</th>\n",
       "      <th>result_list_inhealthy_lessoften</th>\n",
       "      <th>result_list_inhealthy_moreoften</th>\n",
       "      <th>root_cause</th>\n",
       "      <th>inject_comp_tdiff</th>\n",
       "      <th>nezha_rank_050</th>\n",
       "    </tr>\n",
       "  </thead>\n",
       "  <tbody>\n",
       "    <tr>\n",
       "      <th>12</th>\n",
       "      <td>2022-08-22 04:45</td>\n",
       "      <td>checkoutservice-578fcf4766-9csqn</td>\n",
       "      <td>2022-08-22 04:44:16</td>\n",
       "      <td>cpu_contention</td>\n",
       "      <td>2022-08-22 03:51</td>\n",
       "      <td>[{'events': '165_199', 'score': 1.0, 'deepth': 4, 'pod': 'paymentservice-9cdb6588f-554sm', 'resource_alert': 'NetworkP90(ms)'}, {'events': '158_197', 'score': 1.0, 'deepth': 3, 'pod': 'checkoutservice-578fcf4766-9csqn', 'resource_alert': 'CpuUsageRate(%)'}, {'events': '23_100', 'score': 0.723404255319149, 'deepth': 3, 'pod': 'currencyservice-cf787dd48-vpjrd'}, {'events': '24_100', 'score': 0.7, 'deepth': 3, 'pod': 'currencyservice-cf787dd48-vpjrd', 'events_actual': '24_99'}, {'events': '4_40', 'score': 0.5538461538461539, 'deepth': 1, 'pod': 'frontend-579b9bff58-t2dbm', 'events_actual': '4_50'}, {'events': '4_42', 'score': 0.5272727272727272, 'deepth': 1, 'pod': 'frontend-579b9bff58-t2dbm', 'events_actual': '4_50'}, {'events': '16_41', 'score': 0.5272727272727272, 'deepth': 1, 'pod': 'frontend-579b9bff58-t2dbm', 'events_actual': '16_15'}, {'events': '23_106', 'score': 0.5132492113564668, 'deepth': 3, 'pod': 'currencyservice-cf787dd48-vpjrd'}, {'events': '120_198', 'score': 0.500802...</td>\n",
       "      <td>[{'events': '165_48', 'score': 1.0, 'deepth': 5, 'pod': 'paymentservice-9cdb6588f-554sm', 'resource_alert': 'NetworkP90(ms)', 'events_actual': '165_199'}, {'events': '158_65', 'score': 1.0, 'deepth': 4, 'pod': 'checkoutservice-578fcf4766-9csqn', 'resource_alert': 'CpuUsageRate(%)', 'events_actual': '158_197'}, {'events': '4_3', 'score': 0.5631067961165048, 'deepth': 1, 'pod': 'frontend-579b9bff58-t2dbm', 'events_actual': '4_42'}, {'events': '104_106', 'score': 0.5342612419700214, 'deepth': 2, 'pod': 'currencyservice-cf787dd48-vpjrd', 'events_actual': '104_23'}, {'events': '4_50', 'score': 0.5294117647058824, 'deepth': 1, 'pod': 'frontend-579b9bff58-t2dbm', 'events_actual': '4_42'}, {'events': '38_84', 'score': 0.5274542429284526, 'deepth': 1, 'pod': 'frontend-579b9bff58-t2dbm'}, {'events': '38_78', 'score': 0.518361581920904, 'deepth': 1, 'pod': 'frontend-579b9bff58-t2dbm'}, {'events': '4_38', 'score': 0.5169082125603864, 'deepth': 1, 'pod': 'frontend-579b9bff58-t2dbm', 'events_act...</td>\n",
       "      <td>[CpuUsageRate(%)]</td>\n",
       "      <td>1</td>\n",
       "      <td>2</td>\n",
       "    </tr>\n",
       "  </tbody>\n",
       "</table>\n",
       "</div>"
      ],
      "text/plain": [
       "       abnormal_time                        inject_pod          inject_time  \\\n",
       "12  2022-08-22 04:45  checkoutservice-578fcf4766-9csqn  2022-08-22 04:44:16   \n",
       "\n",
       "       inject_type       normal_time  \\\n",
       "12  cpu_contention  2022-08-22 03:51   \n",
       "\n",
       "                                                                                                                                                                                                                                                                                                                                                                                                                                                                                                                                                                                                                                                                                                                                                                                                                                                                                                                                                                                                            result_list_inhealthy_lessoften  \\\n",
       "12  [{'events': '165_199', 'score': 1.0, 'deepth': 4, 'pod': 'paymentservice-9cdb6588f-554sm', 'resource_alert': 'NetworkP90(ms)'}, {'events': '158_197', 'score': 1.0, 'deepth': 3, 'pod': 'checkoutservice-578fcf4766-9csqn', 'resource_alert': 'CpuUsageRate(%)'}, {'events': '23_100', 'score': 0.723404255319149, 'deepth': 3, 'pod': 'currencyservice-cf787dd48-vpjrd'}, {'events': '24_100', 'score': 0.7, 'deepth': 3, 'pod': 'currencyservice-cf787dd48-vpjrd', 'events_actual': '24_99'}, {'events': '4_40', 'score': 0.5538461538461539, 'deepth': 1, 'pod': 'frontend-579b9bff58-t2dbm', 'events_actual': '4_50'}, {'events': '4_42', 'score': 0.5272727272727272, 'deepth': 1, 'pod': 'frontend-579b9bff58-t2dbm', 'events_actual': '4_50'}, {'events': '16_41', 'score': 0.5272727272727272, 'deepth': 1, 'pod': 'frontend-579b9bff58-t2dbm', 'events_actual': '16_15'}, {'events': '23_106', 'score': 0.5132492113564668, 'deepth': 3, 'pod': 'currencyservice-cf787dd48-vpjrd'}, {'events': '120_198', 'score': 0.500802...   \n",
       "\n",
       "                                                                                                                                                                                                                                                                                                                                                                                                                                                                                                                                                                                                                                                                                                                                                                                                                                                                                                                                                                                                            result_list_inhealthy_moreoften  \\\n",
       "12  [{'events': '165_48', 'score': 1.0, 'deepth': 5, 'pod': 'paymentservice-9cdb6588f-554sm', 'resource_alert': 'NetworkP90(ms)', 'events_actual': '165_199'}, {'events': '158_65', 'score': 1.0, 'deepth': 4, 'pod': 'checkoutservice-578fcf4766-9csqn', 'resource_alert': 'CpuUsageRate(%)', 'events_actual': '158_197'}, {'events': '4_3', 'score': 0.5631067961165048, 'deepth': 1, 'pod': 'frontend-579b9bff58-t2dbm', 'events_actual': '4_42'}, {'events': '104_106', 'score': 0.5342612419700214, 'deepth': 2, 'pod': 'currencyservice-cf787dd48-vpjrd', 'events_actual': '104_23'}, {'events': '4_50', 'score': 0.5294117647058824, 'deepth': 1, 'pod': 'frontend-579b9bff58-t2dbm', 'events_actual': '4_42'}, {'events': '38_84', 'score': 0.5274542429284526, 'deepth': 1, 'pod': 'frontend-579b9bff58-t2dbm'}, {'events': '38_78', 'score': 0.518361581920904, 'deepth': 1, 'pod': 'frontend-579b9bff58-t2dbm'}, {'events': '4_38', 'score': 0.5169082125603864, 'deepth': 1, 'pod': 'frontend-579b9bff58-t2dbm', 'events_act...   \n",
       "\n",
       "           root_cause  inject_comp_tdiff  nezha_rank_050  \n",
       "12  [CpuUsageRate(%)]                  1               2  "
      ]
     },
     "execution_count": 21,
     "metadata": {},
     "output_type": "execute_result"
    }
   ],
   "source": [
    "df_test"
   ]
  }
 ],
 "metadata": {
  "kernelspec": {
   "display_name": "python3.8",
   "language": "python",
   "name": "python3"
  },
  "language_info": {
   "codemirror_mode": {
    "name": "ipython",
    "version": 3
   },
   "file_extension": ".py",
   "mimetype": "text/x-python",
   "name": "python",
   "nbconvert_exporter": "python",
   "pygments_lexer": "ipython3",
   "version": "3.8.18"
  }
 },
 "nbformat": 4,
 "nbformat_minor": 2
}
