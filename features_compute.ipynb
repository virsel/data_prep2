{
 "cells": [
  {
   "cell_type": "code",
   "execution_count": 1,
   "metadata": {},
   "outputs": [],
   "source": [
    "from main import get_miner\n",
    "from log_parsing import from_id_to_template\n",
    "import joblib\n",
    "from data_integrate import *\n",
    "from pattern_miner import *\n",
    "from pattern_ranker2 import *\n",
    "import pandas as pd\n",
    "import json"
   ]
  },
  {
   "cell_type": "code",
   "execution_count": 2,
   "metadata": {},
   "outputs": [],
   "source": [
    "# Reading from a file\n",
    "with open(\"input/root_cause_hipster.json\", 'r') as file:\n",
    "    rc_dict = json.load(file)"
   ]
  },
  {
   "cell_type": "code",
   "execution_count": 3,
   "metadata": {},
   "outputs": [],
   "source": [
    "log_template_miner = get_miner()"
   ]
  },
  {
   "cell_type": "code",
   "execution_count": 4,
   "metadata": {},
   "outputs": [],
   "source": [
    "res_dict = joblib.load('output/fault_free_eventgraphs.joblib')"
   ]
  },
  {
   "cell_type": "code",
   "execution_count": 5,
   "metadata": {},
   "outputs": [],
   "source": [
    "res_dict2 = joblib.load('output/fault_suffering_eventgraphs.joblib')"
   ]
  },
  {
   "cell_type": "code",
   "execution_count": 6,
   "metadata": {},
   "outputs": [
    {
     "data": {
      "text/plain": [
       "dict_keys(['2022-08-22 03:54', '2022-08-22 03:55', '2022-08-22 04:03', '2022-08-22 04:04', '2022-08-22 04:11', '2022-08-22 04:12', '2022-08-22 04:19', '2022-08-22 04:20', '2022-08-22 04:28', '2022-08-22 04:29', '2022-08-22 04:37', '2022-08-22 04:38', '2022-08-22 04:45', '2022-08-22 04:46', '2022-08-22 04:53', '2022-08-22 04:54', '2022-08-22 05:02', '2022-08-22 05:03', '2022-08-22 05:10', '2022-08-22 05:11', '2022-08-22 05:19', '2022-08-22 05:20', '2022-08-22 05:28', '2022-08-22 05:29', '2022-08-22 05:36', '2022-08-22 05:37', '2022-08-22 05:44', '2022-08-22 05:45', '2022-08-22 05:53', '2022-08-22 05:54', '2022-08-22 06:02', '2022-08-22 06:03', '2022-08-22 06:36', '2022-08-22 06:37', '2022-08-22 06:53', '2022-08-22 06:54', '2022-08-22 07:02', '2022-08-22 07:03', '2022-08-22 07:11', '2022-08-22 07:12', '2022-08-22 07:18', '2022-08-22 07:19', '2022-08-22 07:27', '2022-08-22 07:28', '2022-08-22 07:45', '2022-08-22 07:46', '2022-08-22 07:54', '2022-08-22 07:55', '2022-08-23 12:02', '2022-08-23 12:03', '2022-08-23 12:11', '2022-08-23 12:12', '2022-08-23 12:19', '2022-08-23 12:20', '2022-08-23 12:28', '2022-08-23 12:29', '2022-08-23 12:36', '2022-08-23 12:37', '2022-08-23 12:46', '2022-08-23 12:47', '2022-08-23 12:54', '2022-08-23 12:55', '2022-08-23 13:03', '2022-08-23 13:04', '2022-08-23 13:11', '2022-08-23 13:12', '2022-08-23 13:20', '2022-08-23 13:21', '2022-08-23 13:28', '2022-08-23 13:29', '2022-08-23 13:38', '2022-08-23 13:39', '2022-08-23 13:46', '2022-08-23 13:47', '2022-08-23 13:55', '2022-08-23 13:56', '2022-08-23 14:04', '2022-08-23 14:05', '2022-08-23 14:13', '2022-08-23 14:14', '2022-08-23 14:22', '2022-08-23 14:23', '2022-08-23 14:31', '2022-08-23 14:32', '2022-08-23 14:48', '2022-08-23 14:49', '2022-08-23 14:56', '2022-08-23 14:57', '2022-08-23 15:05', '2022-08-23 15:06', '2022-08-23 15:13', '2022-08-23 15:14', '2022-08-23 15:22', '2022-08-23 15:23', '2022-08-23 15:30', '2022-08-23 15:31', '2022-08-23 15:39', '2022-08-23 15:40', '2022-08-23 15:48', '2022-08-23 15:49', '2022-08-23 15:57', '2022-08-23 15:58', '2022-08-23 16:06', '2022-08-23 16:07', '2022-08-23 16:14', '2022-08-23 16:15', '2022-08-23 16:23', '2022-08-23 16:24', '2022-08-23 16:32', '2022-08-23 16:33', '2022-08-23 16:41', '2022-08-23 16:42'])"
      ]
     },
     "execution_count": 6,
     "metadata": {},
     "output_type": "execute_result"
    }
   ],
   "source": [
    "res_dict2.keys()"
   ]
  },
  {
   "cell_type": "code",
   "execution_count": 7,
   "metadata": {},
   "outputs": [],
   "source": [
    "abnormal_dates = res_dict2.keys()"
   ]
  },
  {
   "cell_type": "code",
   "execution_count": 8,
   "metadata": {},
   "outputs": [],
   "source": [
    "min_score= 0.5"
   ]
  },
  {
   "cell_type": "code",
   "execution_count": 9,
   "metadata": {},
   "outputs": [
    {
     "name": "stdout",
     "output_type": "stream",
     "text": [
      "2022-08-22\n",
      "2022-08-22 03:54\n"
     ]
    },
    {
     "name": "stderr",
     "output_type": "stream",
     "text": [
      "/home/paul/miniconda3/envs/ml_pyth36/lib/python3.6/site-packages/pandas/core/indexing.py:1472: FutureWarning: \n",
      "Passing list-likes to .loc or [] with any missing label will raise\n",
      "KeyError in the future, you can use .reindex() as an alternative.\n",
      "\n",
      "See the documentation here:\n",
      "https://pandas.pydata.org/pandas-docs/stable/indexing.html#deprecate-loc-reindex-listlike\n",
      "  return self._getitem_tuple(key)\n"
     ]
    },
    {
     "name": "stdout",
     "output_type": "stream",
     "text": [
      "2022-08-22 03:55\n",
      "2022-08-22 04:03\n",
      "2022-08-22 04:04\n"
     ]
    },
    {
     "name": "stderr",
     "output_type": "stream",
     "text": [
      "[ERROR]2024-11-23 15:49:47,969 pattern_ranker2.py:188: Catch an exception: pop index out of range\n"
     ]
    },
    {
     "name": "stdout",
     "output_type": "stream",
     "text": [
      "2022-08-22 04:11\n",
      "2022-08-22 04:12\n",
      "2022-08-22 04:19\n",
      "2022-08-22 04:20\n",
      "2022-08-22 04:28\n"
     ]
    },
    {
     "name": "stderr",
     "output_type": "stream",
     "text": [
      "[ERROR]2024-11-23 15:50:43,936 pattern_ranker2.py:188: Catch an exception: pop index out of range\n"
     ]
    },
    {
     "name": "stdout",
     "output_type": "stream",
     "text": [
      "2022-08-22 04:29\n"
     ]
    },
    {
     "name": "stderr",
     "output_type": "stream",
     "text": [
      "[ERROR]2024-11-23 15:50:55,524 pattern_ranker2.py:188: Catch an exception: pop index out of range\n"
     ]
    },
    {
     "name": "stdout",
     "output_type": "stream",
     "text": [
      "2022-08-22 04:37\n"
     ]
    },
    {
     "name": "stderr",
     "output_type": "stream",
     "text": [
      "[ERROR]2024-11-23 15:51:08,279 pattern_ranker2.py:188: Catch an exception: pop index out of range\n"
     ]
    },
    {
     "name": "stdout",
     "output_type": "stream",
     "text": [
      "2022-08-22 04:38\n"
     ]
    },
    {
     "name": "stderr",
     "output_type": "stream",
     "text": [
      "[ERROR]2024-11-23 15:51:21,658 pattern_ranker2.py:188: Catch an exception: pop index out of range\n"
     ]
    },
    {
     "name": "stdout",
     "output_type": "stream",
     "text": [
      "2022-08-22 04:45\n",
      "2022-08-22 04:46\n",
      "2022-08-22 04:53\n",
      "2022-08-22 04:54\n",
      "2022-08-22 05:02\n",
      "2022-08-22 05:03\n",
      "2022-08-22 05:10\n",
      "2022-08-22 05:11\n",
      "2022-08-22 05:19\n",
      "2022-08-22 05:20\n",
      "2022-08-22 05:28\n",
      "2022-08-22 05:29\n",
      "2022-08-22 05:36\n",
      "2022-08-22 05:37\n",
      "2022-08-22 05:44\n",
      "2022-08-22 05:45\n",
      "2022-08-22 05:53\n",
      "2022-08-22 05:54\n",
      "2022-08-22 06:02\n",
      "2022-08-22 06:03\n",
      "2022-08-22 06:36\n",
      "2022-08-22 06:37\n",
      "2022-08-22 06:53\n",
      "2022-08-22 06:54\n",
      "2022-08-22 07:02\n",
      "2022-08-22 07:03\n",
      "2022-08-22 07:11\n",
      "2022-08-22 07:12\n",
      "2022-08-22 07:18\n",
      "2022-08-22 07:19\n",
      "2022-08-22 07:27\n",
      "2022-08-22 07:28\n",
      "2022-08-22 07:45\n",
      "2022-08-22 07:46\n",
      "2022-08-22 07:54\n"
     ]
    },
    {
     "name": "stderr",
     "output_type": "stream",
     "text": [
      "[ERROR]2024-11-23 15:58:05,121 pattern_ranker2.py:188: Catch an exception: pop index out of range\n"
     ]
    },
    {
     "name": "stdout",
     "output_type": "stream",
     "text": [
      "2022-08-22 07:55\n",
      "2022-08-23\n",
      "2022-08-23 12:02\n",
      "2022-08-23 12:03\n",
      "2022-08-23 12:11\n",
      "2022-08-23 12:12\n",
      "2022-08-23 12:19\n",
      "2022-08-23 12:20\n",
      "2022-08-23 12:28\n",
      "2022-08-23 12:29\n",
      "2022-08-23 12:36\n",
      "2022-08-23 12:37\n",
      "2022-08-23 12:46\n",
      "2022-08-23 12:47\n",
      "2022-08-23 12:54\n",
      "2022-08-23 12:55\n",
      "2022-08-23 13:03\n",
      "2022-08-23 13:04\n",
      "2022-08-23 13:11\n",
      "2022-08-23 13:12\n",
      "2022-08-23 13:20\n",
      "2022-08-23 13:21\n",
      "2022-08-23 13:28\n",
      "2022-08-23 13:29\n",
      "2022-08-23 13:38\n",
      "2022-08-23 13:39\n",
      "2022-08-23 13:46\n",
      "2022-08-23 13:47\n",
      "2022-08-23 13:55\n",
      "2022-08-23 13:56\n",
      "2022-08-23 14:04\n",
      "2022-08-23 14:05\n",
      "2022-08-23 14:13\n",
      "2022-08-23 14:14\n",
      "2022-08-23 14:22\n",
      "2022-08-23 14:23\n",
      "2022-08-23 14:31\n",
      "2022-08-23 14:32\n",
      "2022-08-23 14:48\n",
      "2022-08-23 14:49\n",
      "2022-08-23 14:56\n",
      "2022-08-23 14:57\n",
      "2022-08-23 15:05\n",
      "2022-08-23 15:06\n",
      "2022-08-23 15:13\n",
      "2022-08-23 15:14\n",
      "2022-08-23 15:22\n",
      "2022-08-23 15:23\n",
      "2022-08-23 15:30\n",
      "2022-08-23 15:31\n",
      "2022-08-23 15:39\n",
      "2022-08-23 15:40\n",
      "2022-08-23 15:48\n",
      "2022-08-23 15:49\n",
      "2022-08-23 15:57\n",
      "2022-08-23 15:58\n",
      "2022-08-23 16:06\n",
      "2022-08-23 16:07\n",
      "2022-08-23 16:14\n",
      "2022-08-23 16:15\n",
      "2022-08-23 16:23\n",
      "2022-08-23 16:24\n",
      "2022-08-23 16:32\n",
      "2022-08-23 16:33\n",
      "2022-08-23 16:41\n"
     ]
    },
    {
     "name": "stderr",
     "output_type": "stream",
     "text": [
      "[ERROR]2024-11-23 16:09:58,710 pattern_ranker2.py:188: Catch an exception: pop index out of range\n"
     ]
    },
    {
     "name": "stdout",
     "output_type": "stream",
     "text": [
      "2022-08-23 16:42\n"
     ]
    }
   ],
   "source": [
    "abnormal_dates = res_dict2.keys()\n",
    "features_labeled = []\n",
    "for normal_date in res_dict.keys():\n",
    "    date = normal_date.split(' ')[0]\n",
    "    fault_free_graphs = res_dict[normal_date]\n",
    "    fault_free_pattern = get_pattern_support(fault_free_graphs)\n",
    "    print(date)\n",
    "    for abnormal_date in [d for d in abnormal_dates if d.split(' ')[0] == date]:\n",
    "        print(abnormal_date)\n",
    "        inject_pod = res_dict2[abnormal_date]['inject_pod']\n",
    "        inject_svc = inject_pod.split(\"-\")[0]\n",
    "        inject_type = res_dict2[abnormal_date]['inject_type']\n",
    "        root_cause =  rc_dict[inject_svc][inject_type].split('_')\n",
    "        alarm_data_path = \"input/fault_suffering\"\n",
    "        alarm_metric_list = get_metric_with_time(abnormal_date, alarm_data_path)\n",
    "        alarm_list = generate_alarm(alarm_metric_list)\n",
    "        fault_suffering_event_graphs = res_dict2[abnormal_date]['event_graphs']\n",
    "        fault_suffering_pattern = get_pattern_support(fault_suffering_event_graphs)\n",
    "        ranking_moreoften = pattern_ranker_custom(fault_free_pattern, fault_free_graphs, fault_suffering_pattern, log_template_miner, alarm_list, min_score=min_score)\n",
    "        ranking_lessoften = pattern_ranker_custom(fault_suffering_pattern, fault_suffering_event_graphs, fault_free_pattern, log_template_miner, alarm_list, min_score=min_score)\n",
    "        res = { \n",
    "               'normal_time': normal_date,\n",
    "               'abnormal_time': abnormal_date,\n",
    "               'result_list_inhealthy_moreoften': ranking_moreoften,\n",
    "               'result_list_inhealthy_lessoften': ranking_lessoften,\n",
    "               'inject_time': res_dict2[abnormal_date]['inject_time'],\n",
    "               'inject_pod': inject_pod, \n",
    "               'inject_type': inject_type,\n",
    "               'root_cause': root_cause\n",
    "            }\n",
    "        features_labeled.append(res)"
   ]
  },
  {
   "cell_type": "code",
   "execution_count": 10,
   "metadata": {},
   "outputs": [],
   "source": [
    "# Convert to DataFrame\n",
    "df = pd.DataFrame(features_labeled)\n",
    "# locate templates with err or fail in string, treat them special (dont lose on ranking)"
   ]
  },
  {
   "cell_type": "code",
   "execution_count": 11,
   "metadata": {},
   "outputs": [
    {
     "data": {
      "text/html": [
       "<div>\n",
       "<style scoped>\n",
       "    .dataframe tbody tr th:only-of-type {\n",
       "        vertical-align: middle;\n",
       "    }\n",
       "\n",
       "    .dataframe tbody tr th {\n",
       "        vertical-align: top;\n",
       "    }\n",
       "\n",
       "    .dataframe thead th {\n",
       "        text-align: right;\n",
       "    }\n",
       "</style>\n",
       "<table border=\"1\" class=\"dataframe\">\n",
       "  <thead>\n",
       "    <tr style=\"text-align: right;\">\n",
       "      <th></th>\n",
       "      <th>abnormal_time</th>\n",
       "      <th>inject_pod</th>\n",
       "      <th>inject_time</th>\n",
       "      <th>inject_type</th>\n",
       "      <th>normal_time</th>\n",
       "      <th>result_list_inhealthy_lessoften</th>\n",
       "      <th>result_list_inhealthy_moreoften</th>\n",
       "      <th>root_cause</th>\n",
       "    </tr>\n",
       "  </thead>\n",
       "  <tbody>\n",
       "    <tr>\n",
       "      <th>8</th>\n",
       "      <td>2022-08-22 04:28</td>\n",
       "      <td>cartservice-579f59597d-wc2lz</td>\n",
       "      <td>2022-08-22 04:27:03</td>\n",
       "      <td>network_delay</td>\n",
       "      <td>2022-08-22 03:51</td>\n",
       "      <td>[{'events': '102_199', 'score': 1.0, 'deepth': 6, 'pod': 'cartservice-579f59597d-wc2lz', 'resource_alert': 'NetworkP90(ms)'}, {'events': '183_199', 'score': 1.0, 'deepth': 5, 'pod': 'cartservice-579f59597d-wc2lz', 'resource_alert': 'NetworkP90(ms)'}, {'events': '23_100', 'score': 0.5806451612903226, 'deepth': 3, 'pod': 'currencyservice-cf787dd48-vpjrd', 'events_actual': '23_20'}, {'events': '4_40', 'score': 0.5538461538461539, 'deepth': 1, 'pod': 'frontend-579b9bff58-t2dbm', 'events_actual': '4_50'}, {'events': '38_84', 'score': 0.5412445730824892, 'deepth': 1, 'pod': 'frontend-579b9bff58-t2dbm'}, {'events': '23_106', 'score': 0.5203605843953995, 'deepth': 3, 'pod': 'currencyservice-cf787dd48-vpjrd', 'events_actual': '23_20'}, {'events': '38_78', 'score': 0.5190039318479686, 'deepth': 1, 'pod': 'frontend-579b9bff58-t2dbm'}, {'events': '4_38', 'score': 0.5069124423963134, 'deepth': 1, 'pod': 'frontend-579b9bff58-t2dbm', 'events_actual': '4_50'}]</td>\n",
       "      <td>[{'events': '102_25', 'score': 1.0, 'deepth': 6, 'pod': 'cartservice-579f59597d-wc2lz', 'resource_alert': 'NetworkP90(ms)', 'events_actual': '102_199'}, {'events': '104_106', 'score': 0.5822637106184364, 'deepth': 2, 'pod': 'currencyservice-cf787dd48-vpjrd'}, {'events': '24_100', 'score': 0.5454545454545454, 'deepth': 3, 'pod': 'currencyservice-cf787dd48-vpjrd'}, {'events': '4_50', 'score': 0.5454545454545454, 'deepth': 1, 'pod': 'frontend-579b9bff58-t2dbm', 'events_actual': '4_40'}, {'events': '4_3', 'score': 0.5272727272727272, 'deepth': 1, 'pod': 'frontend-579b9bff58-t2dbm', 'events_actual': '4_40'}, {'events': '4_42', 'score': 0.5252525252525253, 'deepth': 1, 'pod': 'frontend-579b9bff58-t2dbm', 'events_actual': '4_40'}, {'events': '16_41', 'score': 0.5252525252525253, 'deepth': 1, 'pod': 'frontend-579b9bff58-t2dbm'}, {'events': '4_18', 'score': 0.5186813186813187, 'deepth': 1, 'pod': 'frontend-579b9bff58-t2dbm', 'events_actual': '4_40'}, {'events': '120_198', 'score': 0.5183333...</td>\n",
       "      <td>[NetworkP90(ms)]</td>\n",
       "    </tr>\n",
       "    <tr>\n",
       "      <th>9</th>\n",
       "      <td>2022-08-22 04:29</td>\n",
       "      <td>cartservice-579f59597d-wc2lz</td>\n",
       "      <td>2022-08-22 04:27:03</td>\n",
       "      <td>network_delay</td>\n",
       "      <td>2022-08-22 03:51</td>\n",
       "      <td>[{'events': '102_199', 'score': 1.0, 'deepth': 6, 'pod': 'cartservice-579f59597d-wc2lz', 'resource_alert': 'NetworkP90(ms)'}, {'events': '183_199', 'score': 1.0, 'deepth': 5, 'pod': 'cartservice-579f59597d-wc2lz', 'resource_alert': 'NetworkP90(ms)'}, {'events': '169_199', 'score': 1.0, 'deepth': 2, 'pod': 'cartservice-579f59597d-wc2lz', 'resource_alert': 'NetworkP90(ms)'}, {'events': '4_40', 'score': 0.5671641791044776, 'deepth': 1, 'pod': 'frontend-579b9bff58-t2dbm', 'events_actual': '4_50'}, {'events': '28_208', 'score': 0.5185185185185185, 'deepth': 4, 'pod': 'adservice-5f6585d649-fnmft', 'resource_alert': 'MemoryUsageRate(%)', 'events_actual': '28_120'}, {'events': '4_42', 'score': 0.5185185185185185, 'deepth': 1, 'pod': 'frontend-579b9bff58-t2dbm', 'events_actual': '4_50'}, {'events': '16_41', 'score': 0.5185185185185185, 'deepth': 1, 'pod': 'frontend-579b9bff58-t2dbm', 'events_actual': '16_15'}, {'events': '23_106', 'score': 0.50765794511806, 'deepth': 3, 'pod': 'currencyserv...</td>\n",
       "      <td>[{'events': '102_25', 'score': 1.0, 'deepth': 6, 'pod': 'cartservice-579f59597d-wc2lz', 'resource_alert': 'NetworkP90(ms)', 'events_actual': '102_199'}, {'events': '24_100', 'score': 1.0, 'deepth': 3, 'pod': 'currencyservice-cf787dd48-vpjrd'}, {'events': '4_3', 'score': 0.5576923076923077, 'deepth': 1, 'pod': 'frontend-579b9bff58-t2dbm', 'events_actual': '4_42'}, {'events': '4_38', 'score': 0.5404040404040404, 'deepth': 1, 'pod': 'frontend-579b9bff58-t2dbm', 'events_actual': '4_42'}, {'events': '120_198', 'score': 0.5183333333333333, 'deepth': 4, 'pod': 'adservice-5f6585d649-fnmft', 'resource_alert': 'MemoryUsageRate(%)'}, {'events': '104_106', 'score': 0.5165631469979296, 'deepth': 2, 'pod': 'currencyservice-cf787dd48-vpjrd', 'events_actual': '104_23'}, {'events': '76_4', 'score': 0.5149330587023687, 'deepth': 1, 'pod': 'frontend-579b9bff58-t2dbm'}, {'events': '16_15', 'score': 0.514161220043573, 'deepth': 1, 'pod': 'frontend-579b9bff58-t2dbm', 'events_actual': '16_41'}, {'events'...</td>\n",
       "      <td>[NetworkP90(ms)]</td>\n",
       "    </tr>\n",
       "    <tr>\n",
       "      <th>12</th>\n",
       "      <td>2022-08-22 04:45</td>\n",
       "      <td>checkoutservice-578fcf4766-9csqn</td>\n",
       "      <td>2022-08-22 04:44:16</td>\n",
       "      <td>cpu_contention</td>\n",
       "      <td>2022-08-22 03:51</td>\n",
       "      <td>[{'events': '165_199', 'score': 1.0, 'deepth': 4, 'pod': 'paymentservice-9cdb6588f-554sm', 'resource_alert': 'NetworkP90(ms)'}, {'events': '158_197', 'score': 1.0, 'deepth': 3, 'pod': 'checkoutservice-578fcf4766-9csqn', 'resource_alert': 'CpuUsageRate(%)'}, {'events': '23_100', 'score': 0.723404255319149, 'deepth': 3, 'pod': 'currencyservice-cf787dd48-vpjrd'}, {'events': '24_100', 'score': 0.7, 'deepth': 3, 'pod': 'currencyservice-cf787dd48-vpjrd', 'events_actual': '24_99'}, {'events': '4_40', 'score': 0.5538461538461539, 'deepth': 1, 'pod': 'frontend-579b9bff58-t2dbm', 'events_actual': '4_50'}, {'events': '4_42', 'score': 0.5272727272727272, 'deepth': 1, 'pod': 'frontend-579b9bff58-t2dbm', 'events_actual': '4_50'}, {'events': '16_41', 'score': 0.5272727272727272, 'deepth': 1, 'pod': 'frontend-579b9bff58-t2dbm', 'events_actual': '16_15'}, {'events': '23_106', 'score': 0.5132492113564668, 'deepth': 3, 'pod': 'currencyservice-cf787dd48-vpjrd'}, {'events': '120_198', 'score': 0.500802...</td>\n",
       "      <td>[{'events': '165_48', 'score': 1.0, 'deepth': 5, 'pod': 'paymentservice-9cdb6588f-554sm', 'resource_alert': 'NetworkP90(ms)', 'events_actual': '165_199'}, {'events': '158_65', 'score': 1.0, 'deepth': 4, 'pod': 'checkoutservice-578fcf4766-9csqn', 'resource_alert': 'CpuUsageRate(%)', 'events_actual': '158_197'}, {'events': '4_3', 'score': 0.5631067961165048, 'deepth': 1, 'pod': 'frontend-579b9bff58-t2dbm', 'events_actual': '4_42'}, {'events': '104_106', 'score': 0.5342612419700214, 'deepth': 2, 'pod': 'currencyservice-cf787dd48-vpjrd', 'events_actual': '104_23'}, {'events': '4_50', 'score': 0.5294117647058824, 'deepth': 1, 'pod': 'frontend-579b9bff58-t2dbm', 'events_actual': '4_42'}, {'events': '38_84', 'score': 0.5274542429284526, 'deepth': 1, 'pod': 'frontend-579b9bff58-t2dbm'}, {'events': '38_78', 'score': 0.518361581920904, 'deepth': 1, 'pod': 'frontend-579b9bff58-t2dbm'}, {'events': '4_38', 'score': 0.5169082125603864, 'deepth': 1, 'pod': 'frontend-579b9bff58-t2dbm', 'events_act...</td>\n",
       "      <td>[CpuUsageRate(%)]</td>\n",
       "    </tr>\n",
       "    <tr>\n",
       "      <th>14</th>\n",
       "      <td>2022-08-22 04:53</td>\n",
       "      <td>checkoutservice-578fcf4766-9csqn</td>\n",
       "      <td>2022-08-22 04:52:55</td>\n",
       "      <td>network_delay</td>\n",
       "      <td>2022-08-22 03:51</td>\n",
       "      <td>[{'events': '158_199', 'score': 1.0, 'deepth': 3, 'pod': 'checkoutservice-578fcf4766-9csqn', 'resource_alert': 'NetworkP90(ms)'}, {'events': '24_100', 'score': 0.5714285714285714, 'deepth': 3, 'pod': 'currencyservice-cf787dd48-vpjrd'}, {'events': '38_84', 'score': 0.5663474692202463, 'deepth': 1, 'pod': 'frontend-579b9bff58-t2dbm'}, {'events': '38_78', 'score': 0.5521659548505186, 'deepth': 1, 'pod': 'frontend-579b9bff58-t2dbm'}, {'events': '23_100', 'score': 0.5517241379310345, 'deepth': 3, 'pod': 'currencyservice-cf787dd48-vpjrd'}, {'events': '4_38', 'score': 0.5446808510638298, 'deepth': 1, 'pod': 'frontend-579b9bff58-t2dbm', 'events_actual': '4_42'}, {'events': '4_3', 'score': 0.5433070866141733, 'deepth': 1, 'pod': 'frontend-579b9bff58-t2dbm', 'events_actual': '4_42'}, {'events': '4_50', 'score': 0.5263157894736842, 'deepth': 1, 'pod': 'frontend-579b9bff58-t2dbm', 'events_actual': '4_42'}, {'events': '23_106', 'score': 0.521104903786468, 'deepth': 3, 'pod': 'currencyservice-cf...</td>\n",
       "      <td>[{'events': '158_65', 'score': 1.0, 'deepth': 4, 'pod': 'checkoutservice-578fcf4766-9csqn', 'resource_alert': 'NetworkP90(ms)', 'events_actual': '158_199'}, {'events': '28_208', 'score': 0.5416666666666666, 'deepth': 4, 'pod': 'adservice-5f6585d649-fnmft', 'resource_alert': 'MemoryUsageRate(%)', 'events_actual': '28_120'}, {'events': '4_42', 'score': 0.5416666666666666, 'deepth': 1, 'pod': 'frontend-579b9bff58-t2dbm', 'events_actual': '4_50'}, {'events': '16_41', 'score': 0.5416666666666666, 'deepth': 1, 'pod': 'frontend-579b9bff58-t2dbm', 'events_actual': '16_15'}, {'events': '104_106', 'score': 0.5319829424307037, 'deepth': 2, 'pod': 'currencyservice-cf787dd48-vpjrd', 'events_actual': '104_23'}]</td>\n",
       "      <td>[NetworkP90(ms)]</td>\n",
       "    </tr>\n",
       "    <tr>\n",
       "      <th>15</th>\n",
       "      <td>2022-08-22 04:54</td>\n",
       "      <td>checkoutservice-578fcf4766-9csqn</td>\n",
       "      <td>2022-08-22 04:52:55</td>\n",
       "      <td>network_delay</td>\n",
       "      <td>2022-08-22 03:51</td>\n",
       "      <td>[{'events': '158_199', 'score': 1.0, 'deepth': 3, 'pod': 'checkoutservice-578fcf4766-9csqn', 'resource_alert': 'NetworkP90(ms)'}, {'events': '4_40', 'score': 0.5972222222222222, 'deepth': 1, 'pod': 'frontend-579b9bff58-t2dbm', 'events_actual': '4_3'}, {'events': '4_50', 'score': 0.5714285714285714, 'deepth': 1, 'pod': 'frontend-579b9bff58-t2dbm', 'events_actual': '4_3'}, {'events': '23_106', 'score': 0.5391278375149343, 'deepth': 3, 'pod': 'currencyservice-cf787dd48-vpjrd'}, {'events': '4_42', 'score': 0.5357142857142857, 'deepth': 1, 'pod': 'frontend-579b9bff58-t2dbm', 'events_actual': '4_3'}, {'events': '16_41', 'score': 0.5357142857142857, 'deepth': 1, 'pod': 'frontend-579b9bff58-t2dbm'}, {'events': '38_84', 'score': 0.5282738095238095, 'deepth': 1, 'pod': 'frontend-579b9bff58-t2dbm'}, {'events': '104_100', 'score': 0.5267605633802817, 'deepth': 2, 'pod': 'currencyservice-cf787dd48-vpjrd', 'events_actual': '104_106'}, {'events': '38_78', 'score': 0.5199476782210595, 'deepth': 1,...</td>\n",
       "      <td>[{'events': '158_65', 'score': 1.0, 'deepth': 4, 'pod': 'checkoutservice-578fcf4766-9csqn', 'resource_alert': 'NetworkP90(ms)', 'events_actual': '158_199'}, {'events': '24_100', 'score': 0.5454545454545454, 'deepth': 3, 'pod': 'currencyservice-cf787dd48-vpjrd', 'events_actual': '24_99'}, {'events': '4_3', 'score': 0.5178571428571429, 'deepth': 1, 'pod': 'frontend-579b9bff58-t2dbm', 'events_actual': '4_50'}, {'events': '104_106', 'score': 0.5165631469979296, 'deepth': 2, 'pod': 'currencyservice-cf787dd48-vpjrd', 'events_actual': '104_23'}]</td>\n",
       "      <td>[NetworkP90(ms)]</td>\n",
       "    </tr>\n",
       "  </tbody>\n",
       "</table>\n",
       "</div>"
      ],
      "text/plain": [
       "       abnormal_time                        inject_pod          inject_time  \\\n",
       "8   2022-08-22 04:28      cartservice-579f59597d-wc2lz  2022-08-22 04:27:03   \n",
       "9   2022-08-22 04:29      cartservice-579f59597d-wc2lz  2022-08-22 04:27:03   \n",
       "12  2022-08-22 04:45  checkoutservice-578fcf4766-9csqn  2022-08-22 04:44:16   \n",
       "14  2022-08-22 04:53  checkoutservice-578fcf4766-9csqn  2022-08-22 04:52:55   \n",
       "15  2022-08-22 04:54  checkoutservice-578fcf4766-9csqn  2022-08-22 04:52:55   \n",
       "\n",
       "       inject_type       normal_time  \\\n",
       "8    network_delay  2022-08-22 03:51   \n",
       "9    network_delay  2022-08-22 03:51   \n",
       "12  cpu_contention  2022-08-22 03:51   \n",
       "14   network_delay  2022-08-22 03:51   \n",
       "15   network_delay  2022-08-22 03:51   \n",
       "\n",
       "                                                                                                                                                                                                                                                                                                                                                                                                                                                                                                                                                                                                                                                                                                                                                                                                                                                                                                                                                                                                            result_list_inhealthy_lessoften  \\\n",
       "8                                            [{'events': '102_199', 'score': 1.0, 'deepth': 6, 'pod': 'cartservice-579f59597d-wc2lz', 'resource_alert': 'NetworkP90(ms)'}, {'events': '183_199', 'score': 1.0, 'deepth': 5, 'pod': 'cartservice-579f59597d-wc2lz', 'resource_alert': 'NetworkP90(ms)'}, {'events': '23_100', 'score': 0.5806451612903226, 'deepth': 3, 'pod': 'currencyservice-cf787dd48-vpjrd', 'events_actual': '23_20'}, {'events': '4_40', 'score': 0.5538461538461539, 'deepth': 1, 'pod': 'frontend-579b9bff58-t2dbm', 'events_actual': '4_50'}, {'events': '38_84', 'score': 0.5412445730824892, 'deepth': 1, 'pod': 'frontend-579b9bff58-t2dbm'}, {'events': '23_106', 'score': 0.5203605843953995, 'deepth': 3, 'pod': 'currencyservice-cf787dd48-vpjrd', 'events_actual': '23_20'}, {'events': '38_78', 'score': 0.5190039318479686, 'deepth': 1, 'pod': 'frontend-579b9bff58-t2dbm'}, {'events': '4_38', 'score': 0.5069124423963134, 'deepth': 1, 'pod': 'frontend-579b9bff58-t2dbm', 'events_actual': '4_50'}]   \n",
       "9   [{'events': '102_199', 'score': 1.0, 'deepth': 6, 'pod': 'cartservice-579f59597d-wc2lz', 'resource_alert': 'NetworkP90(ms)'}, {'events': '183_199', 'score': 1.0, 'deepth': 5, 'pod': 'cartservice-579f59597d-wc2lz', 'resource_alert': 'NetworkP90(ms)'}, {'events': '169_199', 'score': 1.0, 'deepth': 2, 'pod': 'cartservice-579f59597d-wc2lz', 'resource_alert': 'NetworkP90(ms)'}, {'events': '4_40', 'score': 0.5671641791044776, 'deepth': 1, 'pod': 'frontend-579b9bff58-t2dbm', 'events_actual': '4_50'}, {'events': '28_208', 'score': 0.5185185185185185, 'deepth': 4, 'pod': 'adservice-5f6585d649-fnmft', 'resource_alert': 'MemoryUsageRate(%)', 'events_actual': '28_120'}, {'events': '4_42', 'score': 0.5185185185185185, 'deepth': 1, 'pod': 'frontend-579b9bff58-t2dbm', 'events_actual': '4_50'}, {'events': '16_41', 'score': 0.5185185185185185, 'deepth': 1, 'pod': 'frontend-579b9bff58-t2dbm', 'events_actual': '16_15'}, {'events': '23_106', 'score': 0.50765794511806, 'deepth': 3, 'pod': 'currencyserv...   \n",
       "12  [{'events': '165_199', 'score': 1.0, 'deepth': 4, 'pod': 'paymentservice-9cdb6588f-554sm', 'resource_alert': 'NetworkP90(ms)'}, {'events': '158_197', 'score': 1.0, 'deepth': 3, 'pod': 'checkoutservice-578fcf4766-9csqn', 'resource_alert': 'CpuUsageRate(%)'}, {'events': '23_100', 'score': 0.723404255319149, 'deepth': 3, 'pod': 'currencyservice-cf787dd48-vpjrd'}, {'events': '24_100', 'score': 0.7, 'deepth': 3, 'pod': 'currencyservice-cf787dd48-vpjrd', 'events_actual': '24_99'}, {'events': '4_40', 'score': 0.5538461538461539, 'deepth': 1, 'pod': 'frontend-579b9bff58-t2dbm', 'events_actual': '4_50'}, {'events': '4_42', 'score': 0.5272727272727272, 'deepth': 1, 'pod': 'frontend-579b9bff58-t2dbm', 'events_actual': '4_50'}, {'events': '16_41', 'score': 0.5272727272727272, 'deepth': 1, 'pod': 'frontend-579b9bff58-t2dbm', 'events_actual': '16_15'}, {'events': '23_106', 'score': 0.5132492113564668, 'deepth': 3, 'pod': 'currencyservice-cf787dd48-vpjrd'}, {'events': '120_198', 'score': 0.500802...   \n",
       "14  [{'events': '158_199', 'score': 1.0, 'deepth': 3, 'pod': 'checkoutservice-578fcf4766-9csqn', 'resource_alert': 'NetworkP90(ms)'}, {'events': '24_100', 'score': 0.5714285714285714, 'deepth': 3, 'pod': 'currencyservice-cf787dd48-vpjrd'}, {'events': '38_84', 'score': 0.5663474692202463, 'deepth': 1, 'pod': 'frontend-579b9bff58-t2dbm'}, {'events': '38_78', 'score': 0.5521659548505186, 'deepth': 1, 'pod': 'frontend-579b9bff58-t2dbm'}, {'events': '23_100', 'score': 0.5517241379310345, 'deepth': 3, 'pod': 'currencyservice-cf787dd48-vpjrd'}, {'events': '4_38', 'score': 0.5446808510638298, 'deepth': 1, 'pod': 'frontend-579b9bff58-t2dbm', 'events_actual': '4_42'}, {'events': '4_3', 'score': 0.5433070866141733, 'deepth': 1, 'pod': 'frontend-579b9bff58-t2dbm', 'events_actual': '4_42'}, {'events': '4_50', 'score': 0.5263157894736842, 'deepth': 1, 'pod': 'frontend-579b9bff58-t2dbm', 'events_actual': '4_42'}, {'events': '23_106', 'score': 0.521104903786468, 'deepth': 3, 'pod': 'currencyservice-cf...   \n",
       "15  [{'events': '158_199', 'score': 1.0, 'deepth': 3, 'pod': 'checkoutservice-578fcf4766-9csqn', 'resource_alert': 'NetworkP90(ms)'}, {'events': '4_40', 'score': 0.5972222222222222, 'deepth': 1, 'pod': 'frontend-579b9bff58-t2dbm', 'events_actual': '4_3'}, {'events': '4_50', 'score': 0.5714285714285714, 'deepth': 1, 'pod': 'frontend-579b9bff58-t2dbm', 'events_actual': '4_3'}, {'events': '23_106', 'score': 0.5391278375149343, 'deepth': 3, 'pod': 'currencyservice-cf787dd48-vpjrd'}, {'events': '4_42', 'score': 0.5357142857142857, 'deepth': 1, 'pod': 'frontend-579b9bff58-t2dbm', 'events_actual': '4_3'}, {'events': '16_41', 'score': 0.5357142857142857, 'deepth': 1, 'pod': 'frontend-579b9bff58-t2dbm'}, {'events': '38_84', 'score': 0.5282738095238095, 'deepth': 1, 'pod': 'frontend-579b9bff58-t2dbm'}, {'events': '104_100', 'score': 0.5267605633802817, 'deepth': 2, 'pod': 'currencyservice-cf787dd48-vpjrd', 'events_actual': '104_106'}, {'events': '38_78', 'score': 0.5199476782210595, 'deepth': 1,...   \n",
       "\n",
       "                                                                                                                                                                                                                                                                                                                                                                                                                                                                                                                                                                                                                                                                                                                                                                                                                                                                                                                                                                                                            result_list_inhealthy_moreoften  \\\n",
       "8   [{'events': '102_25', 'score': 1.0, 'deepth': 6, 'pod': 'cartservice-579f59597d-wc2lz', 'resource_alert': 'NetworkP90(ms)', 'events_actual': '102_199'}, {'events': '104_106', 'score': 0.5822637106184364, 'deepth': 2, 'pod': 'currencyservice-cf787dd48-vpjrd'}, {'events': '24_100', 'score': 0.5454545454545454, 'deepth': 3, 'pod': 'currencyservice-cf787dd48-vpjrd'}, {'events': '4_50', 'score': 0.5454545454545454, 'deepth': 1, 'pod': 'frontend-579b9bff58-t2dbm', 'events_actual': '4_40'}, {'events': '4_3', 'score': 0.5272727272727272, 'deepth': 1, 'pod': 'frontend-579b9bff58-t2dbm', 'events_actual': '4_40'}, {'events': '4_42', 'score': 0.5252525252525253, 'deepth': 1, 'pod': 'frontend-579b9bff58-t2dbm', 'events_actual': '4_40'}, {'events': '16_41', 'score': 0.5252525252525253, 'deepth': 1, 'pod': 'frontend-579b9bff58-t2dbm'}, {'events': '4_18', 'score': 0.5186813186813187, 'deepth': 1, 'pod': 'frontend-579b9bff58-t2dbm', 'events_actual': '4_40'}, {'events': '120_198', 'score': 0.5183333...   \n",
       "9   [{'events': '102_25', 'score': 1.0, 'deepth': 6, 'pod': 'cartservice-579f59597d-wc2lz', 'resource_alert': 'NetworkP90(ms)', 'events_actual': '102_199'}, {'events': '24_100', 'score': 1.0, 'deepth': 3, 'pod': 'currencyservice-cf787dd48-vpjrd'}, {'events': '4_3', 'score': 0.5576923076923077, 'deepth': 1, 'pod': 'frontend-579b9bff58-t2dbm', 'events_actual': '4_42'}, {'events': '4_38', 'score': 0.5404040404040404, 'deepth': 1, 'pod': 'frontend-579b9bff58-t2dbm', 'events_actual': '4_42'}, {'events': '120_198', 'score': 0.5183333333333333, 'deepth': 4, 'pod': 'adservice-5f6585d649-fnmft', 'resource_alert': 'MemoryUsageRate(%)'}, {'events': '104_106', 'score': 0.5165631469979296, 'deepth': 2, 'pod': 'currencyservice-cf787dd48-vpjrd', 'events_actual': '104_23'}, {'events': '76_4', 'score': 0.5149330587023687, 'deepth': 1, 'pod': 'frontend-579b9bff58-t2dbm'}, {'events': '16_15', 'score': 0.514161220043573, 'deepth': 1, 'pod': 'frontend-579b9bff58-t2dbm', 'events_actual': '16_41'}, {'events'...   \n",
       "12  [{'events': '165_48', 'score': 1.0, 'deepth': 5, 'pod': 'paymentservice-9cdb6588f-554sm', 'resource_alert': 'NetworkP90(ms)', 'events_actual': '165_199'}, {'events': '158_65', 'score': 1.0, 'deepth': 4, 'pod': 'checkoutservice-578fcf4766-9csqn', 'resource_alert': 'CpuUsageRate(%)', 'events_actual': '158_197'}, {'events': '4_3', 'score': 0.5631067961165048, 'deepth': 1, 'pod': 'frontend-579b9bff58-t2dbm', 'events_actual': '4_42'}, {'events': '104_106', 'score': 0.5342612419700214, 'deepth': 2, 'pod': 'currencyservice-cf787dd48-vpjrd', 'events_actual': '104_23'}, {'events': '4_50', 'score': 0.5294117647058824, 'deepth': 1, 'pod': 'frontend-579b9bff58-t2dbm', 'events_actual': '4_42'}, {'events': '38_84', 'score': 0.5274542429284526, 'deepth': 1, 'pod': 'frontend-579b9bff58-t2dbm'}, {'events': '38_78', 'score': 0.518361581920904, 'deepth': 1, 'pod': 'frontend-579b9bff58-t2dbm'}, {'events': '4_38', 'score': 0.5169082125603864, 'deepth': 1, 'pod': 'frontend-579b9bff58-t2dbm', 'events_act...   \n",
       "14                                                                                                                                                                                                                                                                                                       [{'events': '158_65', 'score': 1.0, 'deepth': 4, 'pod': 'checkoutservice-578fcf4766-9csqn', 'resource_alert': 'NetworkP90(ms)', 'events_actual': '158_199'}, {'events': '28_208', 'score': 0.5416666666666666, 'deepth': 4, 'pod': 'adservice-5f6585d649-fnmft', 'resource_alert': 'MemoryUsageRate(%)', 'events_actual': '28_120'}, {'events': '4_42', 'score': 0.5416666666666666, 'deepth': 1, 'pod': 'frontend-579b9bff58-t2dbm', 'events_actual': '4_50'}, {'events': '16_41', 'score': 0.5416666666666666, 'deepth': 1, 'pod': 'frontend-579b9bff58-t2dbm', 'events_actual': '16_15'}, {'events': '104_106', 'score': 0.5319829424307037, 'deepth': 2, 'pod': 'currencyservice-cf787dd48-vpjrd', 'events_actual': '104_23'}]   \n",
       "15                                                                                                                                                                                                                                                                                                                                                                                                                                                                         [{'events': '158_65', 'score': 1.0, 'deepth': 4, 'pod': 'checkoutservice-578fcf4766-9csqn', 'resource_alert': 'NetworkP90(ms)', 'events_actual': '158_199'}, {'events': '24_100', 'score': 0.5454545454545454, 'deepth': 3, 'pod': 'currencyservice-cf787dd48-vpjrd', 'events_actual': '24_99'}, {'events': '4_3', 'score': 0.5178571428571429, 'deepth': 1, 'pod': 'frontend-579b9bff58-t2dbm', 'events_actual': '4_50'}, {'events': '104_106', 'score': 0.5165631469979296, 'deepth': 2, 'pod': 'currencyservice-cf787dd48-vpjrd', 'events_actual': '104_23'}]   \n",
       "\n",
       "           root_cause  \n",
       "8    [NetworkP90(ms)]  \n",
       "9    [NetworkP90(ms)]  \n",
       "12  [CpuUsageRate(%)]  \n",
       "14   [NetworkP90(ms)]  \n",
       "15   [NetworkP90(ms)]  "
      ]
     },
     "execution_count": 11,
     "metadata": {},
     "output_type": "execute_result"
    }
   ],
   "source": [
    "mask = df.result_list_inhealthy_moreoften.apply(lambda x: any(['resource_alert' in y and \"Net\" in y['resource_alert'] for y in x]))\n",
    "pd.set_option('display.max_colwidth', 1000)\n",
    "df[mask].head()"
   ]
  },
  {
   "cell_type": "code",
   "execution_count": 12,
   "metadata": {},
   "outputs": [],
   "source": [
    "df.to_csv(f'output/features_labeled.csv', index=False)"
   ]
  }
 ],
 "metadata": {
  "kernelspec": {
   "display_name": "ml_pyth36",
   "language": "python",
   "name": "python3"
  },
  "language_info": {
   "codemirror_mode": {
    "name": "ipython",
    "version": 3
   },
   "file_extension": ".py",
   "mimetype": "text/x-python",
   "name": "python",
   "nbconvert_exporter": "python",
   "pygments_lexer": "ipython3",
   "version": "3.6.13"
  }
 },
 "nbformat": 4,
 "nbformat_minor": 2
}
