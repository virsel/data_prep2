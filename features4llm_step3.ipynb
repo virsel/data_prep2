{
 "cells": [
  {
   "cell_type": "code",
   "execution_count": 1,
   "metadata": {},
   "outputs": [],
   "source": [
    "import pandas as pd\n",
    "import os\n",
    "from main import get_miner\n",
    "from log_parsing import from_id_to_template\n",
    "import ast\n",
    "from datetime import datetime"
   ]
  },
  {
   "cell_type": "code",
   "execution_count": 2,
   "metadata": {},
   "outputs": [],
   "source": [
    "df = pd.read_csv(f\"output/features_labeled_4llm_step2.csv\")"
   ]
  },
  {
   "cell_type": "code",
   "execution_count": 3,
   "metadata": {},
   "outputs": [
    {
     "data": {
      "text/html": [
       "<div>\n",
       "<style scoped>\n",
       "    .dataframe tbody tr th:only-of-type {\n",
       "        vertical-align: middle;\n",
       "    }\n",
       "\n",
       "    .dataframe tbody tr th {\n",
       "        vertical-align: top;\n",
       "    }\n",
       "\n",
       "    .dataframe thead th {\n",
       "        text-align: right;\n",
       "    }\n",
       "</style>\n",
       "<table border=\"1\" class=\"dataframe\">\n",
       "  <thead>\n",
       "    <tr style=\"text-align: right;\">\n",
       "      <th></th>\n",
       "      <th>abnormal_time</th>\n",
       "      <th>inject_pod</th>\n",
       "      <th>inject_time</th>\n",
       "      <th>inject_type</th>\n",
       "      <th>normal_time</th>\n",
       "      <th>result_list_inhealthy_lessoften</th>\n",
       "      <th>result_list_inhealthy_moreoften</th>\n",
       "      <th>root_cause</th>\n",
       "      <th>inject_comp_tdiff</th>\n",
       "      <th>nezha_rank_050</th>\n",
       "    </tr>\n",
       "  </thead>\n",
       "  <tbody>\n",
       "    <tr>\n",
       "      <th>0</th>\n",
       "      <td>2022-08-22 03:54</td>\n",
       "      <td>frontend-579b9bff58-t2dbm</td>\n",
       "      <td>2022-08-22 03:53:54</td>\n",
       "      <td>cpu_contention</td>\n",
       "      <td>2022-08-22 03:51</td>\n",
       "      <td>[{'score': -0.5400894187779434, 'deepth': 3, '...</td>\n",
       "      <td>[{'score': 1.0, 'deepth': 1, 'pod': 'frontend-...</td>\n",
       "      <td>['CpuUsageRate(%)']</td>\n",
       "      <td>1</td>\n",
       "      <td>1</td>\n",
       "    </tr>\n",
       "    <tr>\n",
       "      <th>1</th>\n",
       "      <td>2022-08-22 03:55</td>\n",
       "      <td>frontend-579b9bff58-t2dbm</td>\n",
       "      <td>2022-08-22 03:53:54</td>\n",
       "      <td>cpu_contention</td>\n",
       "      <td>2022-08-22 03:51</td>\n",
       "      <td>[{'score': -1.0, 'deepth': 1, 'pod': 'frontend...</td>\n",
       "      <td>[{'score': 1.0, 'deepth': 1, 'pod': 'frontend-...</td>\n",
       "      <td>['CpuUsageRate(%)']</td>\n",
       "      <td>2</td>\n",
       "      <td>1</td>\n",
       "    </tr>\n",
       "    <tr>\n",
       "      <th>2</th>\n",
       "      <td>2022-08-22 04:03</td>\n",
       "      <td>frontend-579b9bff58-t2dbm</td>\n",
       "      <td>2022-08-22 04:02:07</td>\n",
       "      <td>return</td>\n",
       "      <td>2022-08-22 03:51</td>\n",
       "      <td>[{'score': -1.0, 'deepth': 1, 'pod': 'frontend...</td>\n",
       "      <td>[{'score': 1.0, 'deepth': 4, 'pod': 'adservice...</td>\n",
       "      <td>['Serving product page started', 'GetProduct s...</td>\n",
       "      <td>1</td>\n",
       "      <td>2</td>\n",
       "    </tr>\n",
       "    <tr>\n",
       "      <th>3</th>\n",
       "      <td>2022-08-22 04:04</td>\n",
       "      <td>frontend-579b9bff58-t2dbm</td>\n",
       "      <td>2022-08-22 04:02:07</td>\n",
       "      <td>return</td>\n",
       "      <td>2022-08-22 03:51</td>\n",
       "      <td>[{'score': -1.0, 'deepth': 1, 'pod': 'frontend...</td>\n",
       "      <td>[{'score': 1.0, 'deepth': 4, 'pod': 'adservice...</td>\n",
       "      <td>['Serving product page started', 'GetProduct s...</td>\n",
       "      <td>2</td>\n",
       "      <td>2</td>\n",
       "    </tr>\n",
       "    <tr>\n",
       "      <th>4</th>\n",
       "      <td>2022-08-22 04:11</td>\n",
       "      <td>frontend-579b9bff58-t2dbm</td>\n",
       "      <td>2022-08-22 04:10:20</td>\n",
       "      <td>cpu_consumed</td>\n",
       "      <td>2022-08-22 03:51</td>\n",
       "      <td>[{'score': -1.0, 'deepth': 1, 'pod': 'frontend...</td>\n",
       "      <td>[{'score': 0.6055825242718447, 'deepth': 2, 'p...</td>\n",
       "      <td>['CpuUsageRate(%)']</td>\n",
       "      <td>1</td>\n",
       "      <td>4</td>\n",
       "    </tr>\n",
       "  </tbody>\n",
       "</table>\n",
       "</div>"
      ],
      "text/plain": [
       "      abnormal_time                 inject_pod          inject_time  \\\n",
       "0  2022-08-22 03:54  frontend-579b9bff58-t2dbm  2022-08-22 03:53:54   \n",
       "1  2022-08-22 03:55  frontend-579b9bff58-t2dbm  2022-08-22 03:53:54   \n",
       "2  2022-08-22 04:03  frontend-579b9bff58-t2dbm  2022-08-22 04:02:07   \n",
       "3  2022-08-22 04:04  frontend-579b9bff58-t2dbm  2022-08-22 04:02:07   \n",
       "4  2022-08-22 04:11  frontend-579b9bff58-t2dbm  2022-08-22 04:10:20   \n",
       "\n",
       "      inject_type       normal_time  \\\n",
       "0  cpu_contention  2022-08-22 03:51   \n",
       "1  cpu_contention  2022-08-22 03:51   \n",
       "2          return  2022-08-22 03:51   \n",
       "3          return  2022-08-22 03:51   \n",
       "4    cpu_consumed  2022-08-22 03:51   \n",
       "\n",
       "                     result_list_inhealthy_lessoften  \\\n",
       "0  [{'score': -0.5400894187779434, 'deepth': 3, '...   \n",
       "1  [{'score': -1.0, 'deepth': 1, 'pod': 'frontend...   \n",
       "2  [{'score': -1.0, 'deepth': 1, 'pod': 'frontend...   \n",
       "3  [{'score': -1.0, 'deepth': 1, 'pod': 'frontend...   \n",
       "4  [{'score': -1.0, 'deepth': 1, 'pod': 'frontend...   \n",
       "\n",
       "                     result_list_inhealthy_moreoften  \\\n",
       "0  [{'score': 1.0, 'deepth': 1, 'pod': 'frontend-...   \n",
       "1  [{'score': 1.0, 'deepth': 1, 'pod': 'frontend-...   \n",
       "2  [{'score': 1.0, 'deepth': 4, 'pod': 'adservice...   \n",
       "3  [{'score': 1.0, 'deepth': 4, 'pod': 'adservice...   \n",
       "4  [{'score': 0.6055825242718447, 'deepth': 2, 'p...   \n",
       "\n",
       "                                          root_cause  inject_comp_tdiff  \\\n",
       "0                                ['CpuUsageRate(%)']                  1   \n",
       "1                                ['CpuUsageRate(%)']                  2   \n",
       "2  ['Serving product page started', 'GetProduct s...                  1   \n",
       "3  ['Serving product page started', 'GetProduct s...                  2   \n",
       "4                                ['CpuUsageRate(%)']                  1   \n",
       "\n",
       "   nezha_rank_050  \n",
       "0               1  \n",
       "1               1  \n",
       "2               2  \n",
       "3               2  \n",
       "4               4  "
      ]
     },
     "execution_count": 3,
     "metadata": {},
     "output_type": "execute_result"
    }
   ],
   "source": [
    "df.head()"
   ]
  },
  {
   "cell_type": "code",
   "execution_count": 5,
   "metadata": {},
   "outputs": [],
   "source": [
    "log_template_miner = get_miner()"
   ]
  },
  {
   "cell_type": "code",
   "execution_count": 6,
   "metadata": {},
   "outputs": [],
   "source": [
    "df['result_list_inhealthy_lessoften'] = df['result_list_inhealthy_lessoften'].apply(lambda x: ast.literal_eval(x))\n",
    "df['result_list_inhealthy_moreoften'] = df['result_list_inhealthy_moreoften'].apply(lambda x: ast.literal_eval(x))"
   ]
  },
  {
   "cell_type": "code",
   "execution_count": 7,
   "metadata": {},
   "outputs": [],
   "source": [
    "def format_result_list(result_list):\n",
    "    \"\"\"\n",
    "    Format result list for LLM comprehension\n",
    "    \"\"\"\n",
    "    for i in range(len(result_list)):\n",
    "        entry = result_list[i]\n",
    "        if 'events_actual' in entry:\n",
    "            entry['events_actual'] = [from_id_to_template(int(entry['events_actual'].split('_')[0]), log_template_miner),\n",
    "                                      from_id_to_template(int(entry['events_actual'].split('_')[1]), log_template_miner)]\n",
    "        if 'events_expected' in entry:\n",
    "            entry['events_expected'] = [from_id_to_template(int(entry['events_expected'].split('_')[0]), log_template_miner),\n",
    "                                      from_id_to_template(int(entry['events_expected'].split('_')[1]), log_template_miner)]\n",
    "    \n",
    "    return result_list"
   ]
  },
  {
   "cell_type": "code",
   "execution_count": 7,
   "metadata": {},
   "outputs": [],
   "source": [
    "df['result_list_inhealthy_lessoften'] = df['result_list_inhealthy_lessoften'].apply(format_result_list)"
   ]
  },
  {
   "cell_type": "code",
   "execution_count": 8,
   "metadata": {},
   "outputs": [],
   "source": [
    "df['result_list_inhealthy_moreoften'] = df['result_list_inhealthy_moreoften'].apply(format_result_list)"
   ]
  },
  {
   "cell_type": "code",
   "execution_count": 9,
   "metadata": {},
   "outputs": [
    {
     "data": {
      "text/html": [
       "<div>\n",
       "<style scoped>\n",
       "    .dataframe tbody tr th:only-of-type {\n",
       "        vertical-align: middle;\n",
       "    }\n",
       "\n",
       "    .dataframe tbody tr th {\n",
       "        vertical-align: top;\n",
       "    }\n",
       "\n",
       "    .dataframe thead th {\n",
       "        text-align: right;\n",
       "    }\n",
       "</style>\n",
       "<table border=\"1\" class=\"dataframe\">\n",
       "  <thead>\n",
       "    <tr style=\"text-align: right;\">\n",
       "      <th></th>\n",
       "      <th>result_list_inhealthy_lessoften</th>\n",
       "    </tr>\n",
       "  </thead>\n",
       "  <tbody>\n",
       "    <tr>\n",
       "      <th>0</th>\n",
       "      <td>[{'score': -0.5400894187779434, 'deepth': 3, 'pod': 'currencyservice-cf787dd48-vpjrd', 'events_expected': ['TraceID: &lt;:TRACEID:&gt; SpanID: &lt;:SPANID:&gt; Received conversion request', 'currencyservice hipstershop.CurrencyService/GetCurrencyData start'], 'events_actual': ['TraceID: &lt;:TRACEID:&gt; SpanID: &lt;:SPANID:&gt; Received conversion request', 'currencyservice hipstershop.CurrencyService/Carry start']}, {'score': -0.5384615384615384, 'deepth': 3, 'pod': 'currencyservice-cf787dd48-vpjrd', 'events_expected': ['TraceID: &lt;:TRACEID:&gt; SpanID: &lt;:SPANID:&gt; Getting supported currencies...', 'currencyservice grpc.hipstershop.CurrencyService/GetSupportedCurrencies end'], 'events_actual': ['TraceID: &lt;:TRACEID:&gt; SpanID: &lt;:SPANID:&gt; Getting supported currencies...', 'currencyservice hipstershop.CurrencyService/GetCurrencyData start']}, {'score': -0.5315315315315315, 'deepth': 4, 'pod': 'adservice-5f6585d649-fnmft', 'resource_alert': 'MemoryUsageRate(%)', 'events_expected': ['&lt;:NUM:&gt;:&lt;:NUM:&gt;:&lt;:NUM:&gt;.&lt;:NUM:&gt; INFO - TraceID: &lt;:TRACEID:&gt; SpanID: &lt;:SPANID:&gt; Received ad request (context words=&lt;:ITEM:&gt;', 'adservice hipstershop.AdService/&lt;:SPANID:&gt; start'], 'events_actual': ['&lt;:NUM:&gt;:&lt;:NUM:&gt;:&lt;:NUM:&gt;.&lt;:NUM:&gt; INFO - TraceID: &lt;:TRACEID:&gt; SpanID: &lt;:SPANID:&gt; Received ad request (context words=&lt;:ITEM:&gt;', '&lt;:NUM:&gt;:&lt;:NUM:&gt;:&lt;:NUM:&gt;.&lt;:NUM:&gt; INFO - TraceID: &lt;:TRACEID:&gt; SpanID: &lt;:SPANID:&gt; No context provided. Constructe random Ads start']}, {'score': -0.518854415274463, 'deepth': 2, 'pod': 'currencyservice-cf787dd48-vpjrd', 'events_expected': ['currencyservice grpc.hipstershop.CurrencyService/Convert start', 'currencyservice hipstershop.CurrencyService/Carry start'], 'events_actual': ['currencyservice grpc.hipstershop.CurrencyService/Convert start', 'currencyservice hipstershop.CurrencyService/GetCurrencyData start']}, {'score': -0.5053908355795148, 'deepth': 1, 'pod': 'frontend-579b9bff58-t2dbm', 'resource_alert': 'CpuUsageRate(%)', 'events_expected': ['TraceID: &lt;:TRACEID:&gt; SpanID: &lt;:SPANID:&gt; View user cart start', 'frontend hipstershop.RecommendationService/ListRecommendations start'], 'events_actual': ['TraceID: &lt;:TRACEID:&gt; SpanID: &lt;:SPANID:&gt; View user cart start', 'frontend hipstershop.ProductCatalogService/GetProduct start']}]</td>\n",
       "    </tr>\n",
       "    <tr>\n",
       "      <th>1</th>\n",
       "      <td>[{'score': -1.0, 'deepth': 1, 'pod': 'frontend-579b9bff58-t2dbm', 'resource_alert': 'CpuUsageRate(%)', 'events_actual': ['frontend hipstershop.Frontend/Recv. start', 'CpuUsageRate(%)']}, {'score': -0.5517241379310345, 'deepth': 3, 'pod': 'currencyservice-cf787dd48-vpjrd', 'events_expected': ['TraceID: &lt;:TRACEID:&gt; SpanID: &lt;:SPANID:&gt; Received conversion request', 'TraceID: &lt;:TRACEID:&gt; SpanID: &lt;:SPANID:&gt; Conversion request successful'], 'events_actual': ['TraceID: &lt;:TRACEID:&gt; SpanID: &lt;:SPANID:&gt; Received conversion request', 'currencyservice hipstershop.CurrencyService/GetCurrencyData start']}, {'score': -0.5172413793103449, 'deepth': 5, 'pod': 'checkoutservice-578fcf4766-9csqn', 'events_actual': ['TraceID: &lt;:TRACEID:&gt; SpanID: &lt;:SPANID:&gt; Start query cost of products&lt;:ITEM:&gt;', 'checkoutservice hipstershop.ProductCatalogService/GetProduct start']}, {'score': -0.5172413793103449, 'deepth': 5, 'pod': 'checkoutservice-578fcf4766-9csqn', 'events_actual': ['TraceID: &lt;:TRACEID:&gt; SpanID: &lt;:SPANID:&gt; Start query cost of products&lt;:ITEM:&gt;', 'checkoutservice hipstershop.CheckoutService/ConvertCurrency start']}]</td>\n",
       "    </tr>\n",
       "    <tr>\n",
       "      <th>2</th>\n",
       "      <td>[{'score': -1.0, 'deepth': 1, 'pod': 'frontend-579b9bff58-t2dbm', 'events_expected': ['TraceID: &lt;:TRACEID:&gt; SpanID: &lt;:SPANID:&gt; Serving product page started', 'frontend hipstershop.RecommendationService/ListRecommendations start'], 'events_actual': ['TraceID: &lt;:TRACEID:&gt; SpanID: &lt;:SPANID:&gt; Serving product page started', 'TraceID: &lt;:TRACEID:&gt; SpanID: &lt;:SPANID:&gt; Product id not specified']}, {'score': -0.5735294117647058, 'deepth': 1, 'pod': 'frontend-579b9bff58-t2dbm', 'events_expected': ['TraceID: &lt;:TRACEID:&gt; SpanID: &lt;:SPANID:&gt; Request started', 'TraceID: &lt;:TRACEID:&gt; SpanID: &lt;:SPANID:&gt; Adding to cart started'], 'events_actual': ['TraceID: &lt;:TRACEID:&gt; SpanID: &lt;:SPANID:&gt; Request started', 'TraceID: &lt;:TRACEID:&gt; SpanID: &lt;:SPANID:&gt; Setting currency started']}, {'score': -0.543859649122807, 'deepth': 4, 'pod': 'adservice-5f6585d649-fnmft', 'resource_alert': 'MemoryUsageRate(%)', 'events_expected': ['&lt;:NUM:&gt;:&lt;:NUM:&gt;:&lt;:NUM:&gt;.&lt;:NUM:&gt; INFO - TraceID: &lt;:TRACEID:&gt; SpanID: &lt;:SPANID:&gt; Received ad request (context words=&lt;:ITEM:&gt;', 'adservice hipstershop.AdService/&lt;:SPANID:&gt; start'], 'events_actual': ['&lt;:NUM:&gt;:&lt;:NUM:&gt;:&lt;:NUM:&gt;.&lt;:NUM:&gt; INFO - TraceID: &lt;:TRACEID:&gt; SpanID: &lt;:SPANID:&gt; Received ad request (context words=&lt;:ITEM:&gt;', '&lt;:NUM:&gt;:&lt;:NUM:&gt;:&lt;:NUM:&gt;.&lt;:NUM:&gt; INFO - TraceID: &lt;:TRACEID:&gt; SpanID: &lt;:SPANID:&gt; No context provided. Constructe random Ads start']}, {'score': -0.543859649122807, 'deepth': 1, 'pod': 'frontend-579b9bff58-t2dbm', 'events_expected': ['TraceID: &lt;:TRACEID:&gt; SpanID: &lt;:SPANID:&gt; Request started', 'TraceID: &lt;:TRACEID:&gt; SpanID: &lt;:SPANID:&gt; Adding to cart started'], 'events_actual': ['TraceID: &lt;:TRACEID:&gt; SpanID: &lt;:SPANID:&gt; Request started', 'TraceID: &lt;:TRACEID:&gt; SpanID: &lt;:SPANID:&gt; Request home started']}, {'score': -0.543859649122807, 'deepth': 1, 'pod': 'frontend-579b9bff58-t2dbm', 'events_expected': ['TraceID: &lt;:TRACEID:&gt; SpanID: &lt;:SPANID:&gt; Choose Ad complete', 'TraceID: &lt;:TRACEID:&gt; SpanID: &lt;:SPANID:&gt; Serving product page complete'], 'events_actual': ['TraceID: &lt;:TRACEID:&gt; SpanID: &lt;:SPANID:&gt; Choose Ad complete', 'TraceID: &lt;:TRACEID:&gt; SpanID: &lt;:SPANID:&gt; Request home complete']}, {'score': -0.5251509054325956, 'deepth': 1, 'pod': 'frontend-579b9bff58-t2dbm', 'events_expected': ['TraceID: &lt;:TRACEID:&gt; SpanID: &lt;:SPANID:&gt; Request started', 'TraceID: &lt;:TRACEID:&gt; SpanID: &lt;:SPANID:&gt; Adding to cart started'], 'events_actual': ['TraceID: &lt;:TRACEID:&gt; SpanID: &lt;:SPANID:&gt; Request started', 'TraceID: &lt;:TRACEID:&gt; SpanID: &lt;:SPANID:&gt; Serving product page started']}, {'score': -0.5183044315992292, 'deepth': 1, 'pod': 'frontend-579b9bff58-t2dbm', 'events_actual': ['frontend hipstershop.Frontend/Recv. start', 'TraceID: &lt;:TRACEID:&gt; SpanID: &lt;:SPANID:&gt; Request started']}]</td>\n",
       "    </tr>\n",
       "    <tr>\n",
       "      <th>3</th>\n",
       "      <td>[{'score': -1.0, 'deepth': 1, 'pod': 'frontend-579b9bff58-t2dbm', 'events_expected': ['TraceID: &lt;:TRACEID:&gt; SpanID: &lt;:SPANID:&gt; Serving product page started', 'frontend hipstershop.RecommendationService/ListRecommendations start'], 'events_actual': ['TraceID: &lt;:TRACEID:&gt; SpanID: &lt;:SPANID:&gt; Serving product page started', 'TraceID: &lt;:TRACEID:&gt; SpanID: &lt;:SPANID:&gt; Product id not specified']}, {'score': -0.6027397260273972, 'deepth': 1, 'pod': 'frontend-579b9bff58-t2dbm', 'events_actual': ['TraceID: &lt;:TRACEID:&gt; SpanID: &lt;:SPANID:&gt; Request started', 'TraceID: &lt;:TRACEID:&gt; SpanID: &lt;:SPANID:&gt; Setting currency started']}, {'score': -0.5606060606060606, 'deepth': 1, 'pod': 'frontend-579b9bff58-t2dbm', 'events_actual': ['TraceID: &lt;:TRACEID:&gt; SpanID: &lt;:SPANID:&gt; Request started', 'TraceID: &lt;:TRACEID:&gt; SpanID: &lt;:SPANID:&gt; Adding to cart started']}, {'score': -0.5578947368421052, 'deepth': 5, 'pod': 'checkoutservice-578fcf4766-9csqn', 'events_actual': ['TraceID: &lt;:TRACEID:&gt; SpanID: &lt;:SPANID:&gt; Start query cost of products&lt;:ITEM:&gt;', 'checkoutservice hipstershop.ProductCatalogService/GetProduct start']}, {'score': -0.5578947368421052, 'deepth': 5, 'pod': 'checkoutservice-578fcf4766-9csqn', 'events_actual': ['TraceID: &lt;:TRACEID:&gt; SpanID: &lt;:SPANID:&gt; Start query cost of products&lt;:ITEM:&gt;', 'checkoutservice hipstershop.CheckoutService/ConvertCurrency start']}, {'score': -0.5555555555555556, 'deepth': 4, 'pod': 'adservice-5f6585d649-fnmft', 'resource_alert': 'MemoryUsageRate(%)', 'events_expected': ['&lt;:NUM:&gt;:&lt;:NUM:&gt;:&lt;:NUM:&gt;.&lt;:NUM:&gt; INFO - TraceID: &lt;:TRACEID:&gt; SpanID: &lt;:SPANID:&gt; Received ad request (context words=&lt;:ITEM:&gt;', 'adservice hipstershop.AdService/&lt;:SPANID:&gt; start'], 'events_actual': ['&lt;:NUM:&gt;:&lt;:NUM:&gt;:&lt;:NUM:&gt;.&lt;:NUM:&gt; INFO - TraceID: &lt;:TRACEID:&gt; SpanID: &lt;:SPANID:&gt; Received ad request (context words=&lt;:ITEM:&gt;', '&lt;:NUM:&gt;:&lt;:NUM:&gt;:&lt;:NUM:&gt;.&lt;:NUM:&gt; INFO - TraceID: &lt;:TRACEID:&gt; SpanID: &lt;:SPANID:&gt; No context provided. Constructe random Ads start']}, {'score': -0.5555555555555556, 'deepth': 1, 'pod': 'frontend-579b9bff58-t2dbm', 'events_actual': ['TraceID: &lt;:TRACEID:&gt; SpanID: &lt;:SPANID:&gt; Request started', 'TraceID: &lt;:TRACEID:&gt; SpanID: &lt;:SPANID:&gt; Request home started']}, {'score': -0.5555555555555556, 'deepth': 1, 'pod': 'frontend-579b9bff58-t2dbm', 'events_expected': ['TraceID: &lt;:TRACEID:&gt; SpanID: &lt;:SPANID:&gt; Choose Ad complete', 'TraceID: &lt;:TRACEID:&gt; SpanID: &lt;:SPANID:&gt; Serving product page complete'], 'events_actual': ['TraceID: &lt;:TRACEID:&gt; SpanID: &lt;:SPANID:&gt; Choose Ad complete', 'TraceID: &lt;:TRACEID:&gt; SpanID: &lt;:SPANID:&gt; Request home complete']}, {'score': -0.5374653098982424, 'deepth': 1, 'pod': 'frontend-579b9bff58-t2dbm', 'events_actual': ['frontend hipstershop.Frontend/Recv. start', 'TraceID: &lt;:TRACEID:&gt; SpanID: &lt;:SPANID:&gt; Request started']}, {'score': -0.5372262773722628, 'deepth': 1, 'pod': 'frontend-579b9bff58-t2dbm', 'events_actual': ['TraceID: &lt;:TRACEID:&gt; SpanID: &lt;:SPANID:&gt; View user cart start', 'frontend hipstershop.CurrencyService/Convert start']}]</td>\n",
       "    </tr>\n",
       "    <tr>\n",
       "      <th>4</th>\n",
       "      <td>[{'score': -1.0, 'deepth': 1, 'pod': 'frontend-579b9bff58-t2dbm', 'resource_alert': 'CpuUsageRate(%)', 'events_actual': ['frontend hipstershop.Frontend/Recv. start', 'CpuUsageRate(%)']}, {'score': -0.6, 'deepth': 5, 'pod': 'checkoutservice-578fcf4766-9csqn', 'events_actual': ['TraceID: &lt;:TRACEID:&gt; SpanID: &lt;:SPANID:&gt; Start query cost of products&lt;:ITEM:&gt;', 'checkoutservice hipstershop.ProductCatalogService/GetProduct start']}, {'score': -0.6, 'deepth': 5, 'pod': 'checkoutservice-578fcf4766-9csqn', 'events_actual': ['TraceID: &lt;:TRACEID:&gt; SpanID: &lt;:SPANID:&gt; Start query cost of products&lt;:ITEM:&gt;', 'checkoutservice hipstershop.CheckoutService/ConvertCurrency start']}]</td>\n",
       "    </tr>\n",
       "  </tbody>\n",
       "</table>\n",
       "</div>"
      ],
      "text/plain": [
       "                                                                                                                                                                                                                                                                                                                                                                                                                                                                                                                                                                                                                                                                                                                                                                                                                                                                                                                                                                                                                                                                                                                                                                                                                                                                                                                                                                                                                                                                                                                                                                                                                                                                                                                                                                                                                                                                                                                                                                                                                                                                                                                                                                                                                                                                                                                                                                                                                                                                                                                                                                                                                                                                                                                                                                                                                                                                                                                                                                                                                                                                        result_list_inhealthy_lessoften\n",
       "0                                                                                                                                                                                                                                                                                                                                                                                                                                                                                                                                                                                                                                                                                                                                                                                    [{'score': -0.5400894187779434, 'deepth': 3, 'pod': 'currencyservice-cf787dd48-vpjrd', 'events_expected': ['TraceID: <:TRACEID:> SpanID: <:SPANID:> Received conversion request', 'currencyservice hipstershop.CurrencyService/GetCurrencyData start'], 'events_actual': ['TraceID: <:TRACEID:> SpanID: <:SPANID:> Received conversion request', 'currencyservice hipstershop.CurrencyService/Carry start']}, {'score': -0.5384615384615384, 'deepth': 3, 'pod': 'currencyservice-cf787dd48-vpjrd', 'events_expected': ['TraceID: <:TRACEID:> SpanID: <:SPANID:> Getting supported currencies...', 'currencyservice grpc.hipstershop.CurrencyService/GetSupportedCurrencies end'], 'events_actual': ['TraceID: <:TRACEID:> SpanID: <:SPANID:> Getting supported currencies...', 'currencyservice hipstershop.CurrencyService/GetCurrencyData start']}, {'score': -0.5315315315315315, 'deepth': 4, 'pod': 'adservice-5f6585d649-fnmft', 'resource_alert': 'MemoryUsageRate(%)', 'events_expected': ['<:NUM:>:<:NUM:>:<:NUM:>.<:NUM:> INFO - TraceID: <:TRACEID:> SpanID: <:SPANID:> Received ad request (context words=<:ITEM:>', 'adservice hipstershop.AdService/<:SPANID:> start'], 'events_actual': ['<:NUM:>:<:NUM:>:<:NUM:>.<:NUM:> INFO - TraceID: <:TRACEID:> SpanID: <:SPANID:> Received ad request (context words=<:ITEM:>', '<:NUM:>:<:NUM:>:<:NUM:>.<:NUM:> INFO - TraceID: <:TRACEID:> SpanID: <:SPANID:> No context provided. Constructe random Ads start']}, {'score': -0.518854415274463, 'deepth': 2, 'pod': 'currencyservice-cf787dd48-vpjrd', 'events_expected': ['currencyservice grpc.hipstershop.CurrencyService/Convert start', 'currencyservice hipstershop.CurrencyService/Carry start'], 'events_actual': ['currencyservice grpc.hipstershop.CurrencyService/Convert start', 'currencyservice hipstershop.CurrencyService/GetCurrencyData start']}, {'score': -0.5053908355795148, 'deepth': 1, 'pod': 'frontend-579b9bff58-t2dbm', 'resource_alert': 'CpuUsageRate(%)', 'events_expected': ['TraceID: <:TRACEID:> SpanID: <:SPANID:> View user cart start', 'frontend hipstershop.RecommendationService/ListRecommendations start'], 'events_actual': ['TraceID: <:TRACEID:> SpanID: <:SPANID:> View user cart start', 'frontend hipstershop.ProductCatalogService/GetProduct start']}]\n",
       "1                                                                                                                                                                                                                                                                                                                                                                                                                                                                                                                                                                                                                                                                                                                                                                                                                                                                                                                                                                                                                                                                                                                                                                                                                                                                                                                                                                                                                                                                                                                                                                                                                                                                                                                                                                                                                                                                                                                                                [{'score': -1.0, 'deepth': 1, 'pod': 'frontend-579b9bff58-t2dbm', 'resource_alert': 'CpuUsageRate(%)', 'events_actual': ['frontend hipstershop.Frontend/Recv. start', 'CpuUsageRate(%)']}, {'score': -0.5517241379310345, 'deepth': 3, 'pod': 'currencyservice-cf787dd48-vpjrd', 'events_expected': ['TraceID: <:TRACEID:> SpanID: <:SPANID:> Received conversion request', 'TraceID: <:TRACEID:> SpanID: <:SPANID:> Conversion request successful'], 'events_actual': ['TraceID: <:TRACEID:> SpanID: <:SPANID:> Received conversion request', 'currencyservice hipstershop.CurrencyService/GetCurrencyData start']}, {'score': -0.5172413793103449, 'deepth': 5, 'pod': 'checkoutservice-578fcf4766-9csqn', 'events_actual': ['TraceID: <:TRACEID:> SpanID: <:SPANID:> Start query cost of products<:ITEM:>', 'checkoutservice hipstershop.ProductCatalogService/GetProduct start']}, {'score': -0.5172413793103449, 'deepth': 5, 'pod': 'checkoutservice-578fcf4766-9csqn', 'events_actual': ['TraceID: <:TRACEID:> SpanID: <:SPANID:> Start query cost of products<:ITEM:>', 'checkoutservice hipstershop.CheckoutService/ConvertCurrency start']}]\n",
       "2                                                                                                                                                                                                                                                                                                    [{'score': -1.0, 'deepth': 1, 'pod': 'frontend-579b9bff58-t2dbm', 'events_expected': ['TraceID: <:TRACEID:> SpanID: <:SPANID:> Serving product page started', 'frontend hipstershop.RecommendationService/ListRecommendations start'], 'events_actual': ['TraceID: <:TRACEID:> SpanID: <:SPANID:> Serving product page started', 'TraceID: <:TRACEID:> SpanID: <:SPANID:> Product id not specified']}, {'score': -0.5735294117647058, 'deepth': 1, 'pod': 'frontend-579b9bff58-t2dbm', 'events_expected': ['TraceID: <:TRACEID:> SpanID: <:SPANID:> Request started', 'TraceID: <:TRACEID:> SpanID: <:SPANID:> Adding to cart started'], 'events_actual': ['TraceID: <:TRACEID:> SpanID: <:SPANID:> Request started', 'TraceID: <:TRACEID:> SpanID: <:SPANID:> Setting currency started']}, {'score': -0.543859649122807, 'deepth': 4, 'pod': 'adservice-5f6585d649-fnmft', 'resource_alert': 'MemoryUsageRate(%)', 'events_expected': ['<:NUM:>:<:NUM:>:<:NUM:>.<:NUM:> INFO - TraceID: <:TRACEID:> SpanID: <:SPANID:> Received ad request (context words=<:ITEM:>', 'adservice hipstershop.AdService/<:SPANID:> start'], 'events_actual': ['<:NUM:>:<:NUM:>:<:NUM:>.<:NUM:> INFO - TraceID: <:TRACEID:> SpanID: <:SPANID:> Received ad request (context words=<:ITEM:>', '<:NUM:>:<:NUM:>:<:NUM:>.<:NUM:> INFO - TraceID: <:TRACEID:> SpanID: <:SPANID:> No context provided. Constructe random Ads start']}, {'score': -0.543859649122807, 'deepth': 1, 'pod': 'frontend-579b9bff58-t2dbm', 'events_expected': ['TraceID: <:TRACEID:> SpanID: <:SPANID:> Request started', 'TraceID: <:TRACEID:> SpanID: <:SPANID:> Adding to cart started'], 'events_actual': ['TraceID: <:TRACEID:> SpanID: <:SPANID:> Request started', 'TraceID: <:TRACEID:> SpanID: <:SPANID:> Request home started']}, {'score': -0.543859649122807, 'deepth': 1, 'pod': 'frontend-579b9bff58-t2dbm', 'events_expected': ['TraceID: <:TRACEID:> SpanID: <:SPANID:> Choose Ad complete', 'TraceID: <:TRACEID:> SpanID: <:SPANID:> Serving product page complete'], 'events_actual': ['TraceID: <:TRACEID:> SpanID: <:SPANID:> Choose Ad complete', 'TraceID: <:TRACEID:> SpanID: <:SPANID:> Request home complete']}, {'score': -0.5251509054325956, 'deepth': 1, 'pod': 'frontend-579b9bff58-t2dbm', 'events_expected': ['TraceID: <:TRACEID:> SpanID: <:SPANID:> Request started', 'TraceID: <:TRACEID:> SpanID: <:SPANID:> Adding to cart started'], 'events_actual': ['TraceID: <:TRACEID:> SpanID: <:SPANID:> Request started', 'TraceID: <:TRACEID:> SpanID: <:SPANID:> Serving product page started']}, {'score': -0.5183044315992292, 'deepth': 1, 'pod': 'frontend-579b9bff58-t2dbm', 'events_actual': ['frontend hipstershop.Frontend/Recv. start', 'TraceID: <:TRACEID:> SpanID: <:SPANID:> Request started']}]\n",
       "3  [{'score': -1.0, 'deepth': 1, 'pod': 'frontend-579b9bff58-t2dbm', 'events_expected': ['TraceID: <:TRACEID:> SpanID: <:SPANID:> Serving product page started', 'frontend hipstershop.RecommendationService/ListRecommendations start'], 'events_actual': ['TraceID: <:TRACEID:> SpanID: <:SPANID:> Serving product page started', 'TraceID: <:TRACEID:> SpanID: <:SPANID:> Product id not specified']}, {'score': -0.6027397260273972, 'deepth': 1, 'pod': 'frontend-579b9bff58-t2dbm', 'events_actual': ['TraceID: <:TRACEID:> SpanID: <:SPANID:> Request started', 'TraceID: <:TRACEID:> SpanID: <:SPANID:> Setting currency started']}, {'score': -0.5606060606060606, 'deepth': 1, 'pod': 'frontend-579b9bff58-t2dbm', 'events_actual': ['TraceID: <:TRACEID:> SpanID: <:SPANID:> Request started', 'TraceID: <:TRACEID:> SpanID: <:SPANID:> Adding to cart started']}, {'score': -0.5578947368421052, 'deepth': 5, 'pod': 'checkoutservice-578fcf4766-9csqn', 'events_actual': ['TraceID: <:TRACEID:> SpanID: <:SPANID:> Start query cost of products<:ITEM:>', 'checkoutservice hipstershop.ProductCatalogService/GetProduct start']}, {'score': -0.5578947368421052, 'deepth': 5, 'pod': 'checkoutservice-578fcf4766-9csqn', 'events_actual': ['TraceID: <:TRACEID:> SpanID: <:SPANID:> Start query cost of products<:ITEM:>', 'checkoutservice hipstershop.CheckoutService/ConvertCurrency start']}, {'score': -0.5555555555555556, 'deepth': 4, 'pod': 'adservice-5f6585d649-fnmft', 'resource_alert': 'MemoryUsageRate(%)', 'events_expected': ['<:NUM:>:<:NUM:>:<:NUM:>.<:NUM:> INFO - TraceID: <:TRACEID:> SpanID: <:SPANID:> Received ad request (context words=<:ITEM:>', 'adservice hipstershop.AdService/<:SPANID:> start'], 'events_actual': ['<:NUM:>:<:NUM:>:<:NUM:>.<:NUM:> INFO - TraceID: <:TRACEID:> SpanID: <:SPANID:> Received ad request (context words=<:ITEM:>', '<:NUM:>:<:NUM:>:<:NUM:>.<:NUM:> INFO - TraceID: <:TRACEID:> SpanID: <:SPANID:> No context provided. Constructe random Ads start']}, {'score': -0.5555555555555556, 'deepth': 1, 'pod': 'frontend-579b9bff58-t2dbm', 'events_actual': ['TraceID: <:TRACEID:> SpanID: <:SPANID:> Request started', 'TraceID: <:TRACEID:> SpanID: <:SPANID:> Request home started']}, {'score': -0.5555555555555556, 'deepth': 1, 'pod': 'frontend-579b9bff58-t2dbm', 'events_expected': ['TraceID: <:TRACEID:> SpanID: <:SPANID:> Choose Ad complete', 'TraceID: <:TRACEID:> SpanID: <:SPANID:> Serving product page complete'], 'events_actual': ['TraceID: <:TRACEID:> SpanID: <:SPANID:> Choose Ad complete', 'TraceID: <:TRACEID:> SpanID: <:SPANID:> Request home complete']}, {'score': -0.5374653098982424, 'deepth': 1, 'pod': 'frontend-579b9bff58-t2dbm', 'events_actual': ['frontend hipstershop.Frontend/Recv. start', 'TraceID: <:TRACEID:> SpanID: <:SPANID:> Request started']}, {'score': -0.5372262773722628, 'deepth': 1, 'pod': 'frontend-579b9bff58-t2dbm', 'events_actual': ['TraceID: <:TRACEID:> SpanID: <:SPANID:> View user cart start', 'frontend hipstershop.CurrencyService/Convert start']}]\n",
       "4                                                                                                                                                                                                                                                                                                                                                                                                                                                                                                                                                                                                                                                                                                                                                                                                                                                                                                                                                                                                                                                                                                                                                                                                                                                                                                                                                                                                                                                                                                                                                                                                                                                                                                                                                                                                                                                                                                                                                                                                                                                                                                                                                                                                                                                                                                                                                                                                         [{'score': -1.0, 'deepth': 1, 'pod': 'frontend-579b9bff58-t2dbm', 'resource_alert': 'CpuUsageRate(%)', 'events_actual': ['frontend hipstershop.Frontend/Recv. start', 'CpuUsageRate(%)']}, {'score': -0.6, 'deepth': 5, 'pod': 'checkoutservice-578fcf4766-9csqn', 'events_actual': ['TraceID: <:TRACEID:> SpanID: <:SPANID:> Start query cost of products<:ITEM:>', 'checkoutservice hipstershop.ProductCatalogService/GetProduct start']}, {'score': -0.6, 'deepth': 5, 'pod': 'checkoutservice-578fcf4766-9csqn', 'events_actual': ['TraceID: <:TRACEID:> SpanID: <:SPANID:> Start query cost of products<:ITEM:>', 'checkoutservice hipstershop.CheckoutService/ConvertCurrency start']}]"
      ]
     },
     "execution_count": 9,
     "metadata": {},
     "output_type": "execute_result"
    }
   ],
   "source": [
    "pd.set_option(\"display.max_colwidth\", None)\n",
    "df[['result_list_inhealthy_lessoften']].head()"
   ]
  },
  {
   "cell_type": "code",
   "execution_count": 10,
   "metadata": {},
   "outputs": [
    {
     "data": {
      "text/plain": [
       "Index(['abnormal_time', 'inject_pod', 'inject_time', 'inject_type',\n",
       "       'normal_time', 'result_list_inhealthy_lessoften',\n",
       "       'result_list_inhealthy_moreoften', 'root_cause', 'inject_comp_tdiff',\n",
       "       'nezha_rank_050'],\n",
       "      dtype='object')"
      ]
     },
     "execution_count": 10,
     "metadata": {},
     "output_type": "execute_result"
    }
   ],
   "source": [
    "df.columns"
   ]
  },
  {
   "cell_type": "code",
   "execution_count": 11,
   "metadata": {},
   "outputs": [
    {
     "data": {
      "text/plain": [
       "array(['frontend-579b9bff58-t2dbm', 'cartservice-579f59597d-wc2lz',\n",
       "       'checkoutservice-578fcf4766-9csqn',\n",
       "       'currencyservice-cf787dd48-vpjrd', 'emailservice-55fdc5b988-f6xth',\n",
       "       'paymentservice-9cdb6588f-554sm',\n",
       "       'productcatalogservice-668d5f85fb-wckp8',\n",
       "       'recommendationservice-6cfdd55578-gfj6q',\n",
       "       'shippingservice-7b598fc7d-lmggd', 'adservice-5f6585d649-fnmft',\n",
       "       'productcatalogservice-668d5f85fb-jhwx9'], dtype=object)"
      ]
     },
     "execution_count": 11,
     "metadata": {},
     "output_type": "execute_result"
    }
   ],
   "source": [
    "df.inject_pod.unique()"
   ]
  },
  {
   "cell_type": "code",
   "execution_count": 13,
   "metadata": {},
   "outputs": [],
   "source": [
    "df.to_csv(f\"output/features_labeled_4llm_step3.csv\", index=False)"
   ]
  }
 ],
 "metadata": {
  "kernelspec": {
   "display_name": "ml_pyth36",
   "language": "python",
   "name": "python3"
  },
  "language_info": {
   "codemirror_mode": {
    "name": "ipython",
    "version": 3
   },
   "file_extension": ".py",
   "mimetype": "text/x-python",
   "name": "python",
   "nbconvert_exporter": "python",
   "pygments_lexer": "ipython3",
   "version": "3.6.13"
  }
 },
 "nbformat": 4,
 "nbformat_minor": 2
}
