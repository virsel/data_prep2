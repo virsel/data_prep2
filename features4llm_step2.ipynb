{
 "cells": [
  {
   "cell_type": "code",
   "execution_count": 1,
   "metadata": {},
   "outputs": [],
   "source": [
    "import pandas as pd\n",
    "import os\n",
    "from main import get_miner\n",
    "from log_parsing import from_id_to_template\n",
    "import ast\n",
    "from datetime import datetime"
   ]
  },
  {
   "cell_type": "code",
   "execution_count": 2,
   "metadata": {},
   "outputs": [],
   "source": [
    "df = pd.read_csv(f\"output/features_labeled_4llm_v3.csv\")"
   ]
  },
  {
   "cell_type": "code",
   "execution_count": 3,
   "metadata": {},
   "outputs": [
    {
     "data": {
      "text/html": [
       "<div>\n",
       "<style scoped>\n",
       "    .dataframe tbody tr th:only-of-type {\n",
       "        vertical-align: middle;\n",
       "    }\n",
       "\n",
       "    .dataframe tbody tr th {\n",
       "        vertical-align: top;\n",
       "    }\n",
       "\n",
       "    .dataframe thead th {\n",
       "        text-align: right;\n",
       "    }\n",
       "</style>\n",
       "<table border=\"1\" class=\"dataframe\">\n",
       "  <thead>\n",
       "    <tr style=\"text-align: right;\">\n",
       "      <th></th>\n",
       "      <th>abnormal_time</th>\n",
       "      <th>actual_moreoften</th>\n",
       "      <th>expected_moreoften</th>\n",
       "      <th>inject_pod</th>\n",
       "      <th>inject_time</th>\n",
       "      <th>inject_type</th>\n",
       "      <th>metrics_of_affectedpods</th>\n",
       "      <th>normal_time</th>\n",
       "      <th>root_cause</th>\n",
       "      <th>inject_comp_tdiff</th>\n",
       "      <th>nezha_rank_050_correct</th>\n",
       "      <th>nezha_rank_050_orig</th>\n",
       "    </tr>\n",
       "  </thead>\n",
       "  <tbody>\n",
       "    <tr>\n",
       "      <th>0</th>\n",
       "      <td>2022-08-22 03:54</td>\n",
       "      <td>[{'events': '76_197', 'score': 1.0, 'deepth': ...</td>\n",
       "      <td>[{'events': '76_4', 'score': 1.0, 'deepth': 1,...</td>\n",
       "      <td>frontend-579b9bff58-t2dbm</td>\n",
       "      <td>2022-08-22 03:53:54</td>\n",
       "      <td>cpu_contention</td>\n",
       "      <td>{'adservice-5f6585d649-fnmft': {'CpuUsageRate(...</td>\n",
       "      <td>2022-08-22 03:51</td>\n",
       "      <td>['CpuUsageRate(%)']</td>\n",
       "      <td>1</td>\n",
       "      <td>1</td>\n",
       "      <td>1</td>\n",
       "    </tr>\n",
       "    <tr>\n",
       "      <th>1</th>\n",
       "      <td>2022-08-22 03:55</td>\n",
       "      <td>[{'events': '76_197', 'score': 1.0, 'deepth': ...</td>\n",
       "      <td>[{'events': '76_4', 'score': 1.0, 'deepth': 1,...</td>\n",
       "      <td>frontend-579b9bff58-t2dbm</td>\n",
       "      <td>2022-08-22 03:53:54</td>\n",
       "      <td>cpu_contention</td>\n",
       "      <td>{'adservice-5f6585d649-fnmft': {'CpuUsageRate(...</td>\n",
       "      <td>2022-08-22 03:51</td>\n",
       "      <td>['CpuUsageRate(%)']</td>\n",
       "      <td>2</td>\n",
       "      <td>1</td>\n",
       "      <td>1</td>\n",
       "    </tr>\n",
       "    <tr>\n",
       "      <th>2</th>\n",
       "      <td>2022-08-22 04:03</td>\n",
       "      <td>[{'events': '18_191', 'score': 1.0, 'deepth': ...</td>\n",
       "      <td>[{'events': '120_198', 'score': 1.0, 'deepth':...</td>\n",
       "      <td>frontend-579b9bff58-t2dbm</td>\n",
       "      <td>2022-08-22 04:02:07</td>\n",
       "      <td>return</td>\n",
       "      <td>{'adservice-5f6585d649-fnmft': {'CpuUsageRate(...</td>\n",
       "      <td>2022-08-22 03:51</td>\n",
       "      <td>['Serving product page started', 'GetProduct s...</td>\n",
       "      <td>1</td>\n",
       "      <td>2</td>\n",
       "      <td>2</td>\n",
       "    </tr>\n",
       "    <tr>\n",
       "      <th>3</th>\n",
       "      <td>2022-08-22 04:04</td>\n",
       "      <td>[{'events': '18_191', 'score': 1.0, 'deepth': ...</td>\n",
       "      <td>[{'events': '120_198', 'score': 1.0, 'deepth':...</td>\n",
       "      <td>frontend-579b9bff58-t2dbm</td>\n",
       "      <td>2022-08-22 04:02:07</td>\n",
       "      <td>return</td>\n",
       "      <td>{'adservice-5f6585d649-fnmft': {'CpuUsageRate(...</td>\n",
       "      <td>2022-08-22 03:51</td>\n",
       "      <td>['Serving product page started', 'GetProduct s...</td>\n",
       "      <td>2</td>\n",
       "      <td>2</td>\n",
       "      <td>2</td>\n",
       "    </tr>\n",
       "    <tr>\n",
       "      <th>4</th>\n",
       "      <td>2022-08-22 04:11</td>\n",
       "      <td>[{'events': '76_197', 'score': 1.0, 'deepth': ...</td>\n",
       "      <td>[{'events': '76_4', 'score': 1.0, 'deepth': 1,...</td>\n",
       "      <td>frontend-579b9bff58-t2dbm</td>\n",
       "      <td>2022-08-22 04:10:20</td>\n",
       "      <td>cpu_consumed</td>\n",
       "      <td>{'adservice-5f6585d649-fnmft': {'CpuUsageRate(...</td>\n",
       "      <td>2022-08-22 03:51</td>\n",
       "      <td>['CpuUsageRate(%)']</td>\n",
       "      <td>1</td>\n",
       "      <td>1</td>\n",
       "      <td>1</td>\n",
       "    </tr>\n",
       "  </tbody>\n",
       "</table>\n",
       "</div>"
      ],
      "text/plain": [
       "      abnormal_time                                   actual_moreoften  \\\n",
       "0  2022-08-22 03:54  [{'events': '76_197', 'score': 1.0, 'deepth': ...   \n",
       "1  2022-08-22 03:55  [{'events': '76_197', 'score': 1.0, 'deepth': ...   \n",
       "2  2022-08-22 04:03  [{'events': '18_191', 'score': 1.0, 'deepth': ...   \n",
       "3  2022-08-22 04:04  [{'events': '18_191', 'score': 1.0, 'deepth': ...   \n",
       "4  2022-08-22 04:11  [{'events': '76_197', 'score': 1.0, 'deepth': ...   \n",
       "\n",
       "                                  expected_moreoften  \\\n",
       "0  [{'events': '76_4', 'score': 1.0, 'deepth': 1,...   \n",
       "1  [{'events': '76_4', 'score': 1.0, 'deepth': 1,...   \n",
       "2  [{'events': '120_198', 'score': 1.0, 'deepth':...   \n",
       "3  [{'events': '120_198', 'score': 1.0, 'deepth':...   \n",
       "4  [{'events': '76_4', 'score': 1.0, 'deepth': 1,...   \n",
       "\n",
       "                  inject_pod          inject_time     inject_type  \\\n",
       "0  frontend-579b9bff58-t2dbm  2022-08-22 03:53:54  cpu_contention   \n",
       "1  frontend-579b9bff58-t2dbm  2022-08-22 03:53:54  cpu_contention   \n",
       "2  frontend-579b9bff58-t2dbm  2022-08-22 04:02:07          return   \n",
       "3  frontend-579b9bff58-t2dbm  2022-08-22 04:02:07          return   \n",
       "4  frontend-579b9bff58-t2dbm  2022-08-22 04:10:20    cpu_consumed   \n",
       "\n",
       "                             metrics_of_affectedpods       normal_time  \\\n",
       "0  {'adservice-5f6585d649-fnmft': {'CpuUsageRate(...  2022-08-22 03:51   \n",
       "1  {'adservice-5f6585d649-fnmft': {'CpuUsageRate(...  2022-08-22 03:51   \n",
       "2  {'adservice-5f6585d649-fnmft': {'CpuUsageRate(...  2022-08-22 03:51   \n",
       "3  {'adservice-5f6585d649-fnmft': {'CpuUsageRate(...  2022-08-22 03:51   \n",
       "4  {'adservice-5f6585d649-fnmft': {'CpuUsageRate(...  2022-08-22 03:51   \n",
       "\n",
       "                                          root_cause  inject_comp_tdiff  \\\n",
       "0                                ['CpuUsageRate(%)']                  1   \n",
       "1                                ['CpuUsageRate(%)']                  2   \n",
       "2  ['Serving product page started', 'GetProduct s...                  1   \n",
       "3  ['Serving product page started', 'GetProduct s...                  2   \n",
       "4                                ['CpuUsageRate(%)']                  1   \n",
       "\n",
       "   nezha_rank_050_correct  nezha_rank_050_orig  \n",
       "0                       1                    1  \n",
       "1                       1                    1  \n",
       "2                       2                    2  \n",
       "3                       2                    2  \n",
       "4                       1                    1  "
      ]
     },
     "execution_count": 3,
     "metadata": {},
     "output_type": "execute_result"
    }
   ],
   "source": [
    "df.head()"
   ]
  },
  {
   "cell_type": "code",
   "execution_count": 4,
   "metadata": {},
   "outputs": [],
   "source": [
    "log_template_miner = get_miner()"
   ]
  },
  {
   "cell_type": "code",
   "execution_count": 5,
   "metadata": {},
   "outputs": [],
   "source": [
    "df['actual_moreoften'] = df['actual_moreoften'].apply(lambda x: ast.literal_eval(x))\n",
    "df['expected_moreoften'] = df['expected_moreoften'].apply(lambda x: ast.literal_eval(x))"
   ]
  },
  {
   "cell_type": "code",
   "execution_count": 6,
   "metadata": {},
   "outputs": [],
   "source": [
    "def format_result_list(result_list):\n",
    "    \"\"\"\n",
    "    Format result list for LLM comprehension\n",
    "    \"\"\"\n",
    "    for i in range(len(result_list)):\n",
    "        entry = result_list[i]\n",
    "        if 'events' in entry:\n",
    "            entry['events'] = [from_id_to_template(int(entry['events'].split('_')[0]), log_template_miner),\n",
    "                                      from_id_to_template(int(entry['events'].split('_')[1]), log_template_miner)]\n",
    "        if 'events_inreferenz' in entry:\n",
    "            entry['events_inreferenz'] = [from_id_to_template(int(entry['events_inreferenz'].split('_')[0]), log_template_miner),\n",
    "                                      from_id_to_template(int(entry['events_inreferenz'].split('_')[1]), log_template_miner)]\n",
    "    \n",
    "    return result_list"
   ]
  },
  {
   "cell_type": "code",
   "execution_count": 7,
   "metadata": {},
   "outputs": [],
   "source": [
    "df['actual_moreoften'] = df['actual_moreoften'].apply(format_result_list)"
   ]
  },
  {
   "cell_type": "code",
   "execution_count": 8,
   "metadata": {},
   "outputs": [],
   "source": [
    "df['expected_moreoften'] = df['expected_moreoften'].apply(format_result_list)"
   ]
  },
  {
   "cell_type": "code",
   "execution_count": 9,
   "metadata": {},
   "outputs": [
    {
     "data": {
      "text/html": [
       "<div>\n",
       "<style scoped>\n",
       "    .dataframe tbody tr th:only-of-type {\n",
       "        vertical-align: middle;\n",
       "    }\n",
       "\n",
       "    .dataframe tbody tr th {\n",
       "        vertical-align: top;\n",
       "    }\n",
       "\n",
       "    .dataframe thead th {\n",
       "        text-align: right;\n",
       "    }\n",
       "</style>\n",
       "<table border=\"1\" class=\"dataframe\">\n",
       "  <thead>\n",
       "    <tr style=\"text-align: right;\">\n",
       "      <th></th>\n",
       "      <th>expected_moreoften</th>\n",
       "    </tr>\n",
       "  </thead>\n",
       "  <tbody>\n",
       "    <tr>\n",
       "      <th>0</th>\n",
       "      <td>[{'events': ['frontend hipstershop.Frontend/Recv. start', 'TraceID: &lt;:TRACEID:&gt; SpanID: &lt;:SPANID:&gt; Request started'], 'score': 1.0, 'deepth': 1, 'pod': 'frontend-579b9bff58-t2dbm', 'events_inreferenz': ['frontend hipstershop.Frontend/Recv. start', 'CpuUsageRate(%)']}, {'events': ['currencyservice grpc.hipstershop.CurrencyService/Convert start', 'currencyservice hipstershop.CurrencyService/Carry start'], 'score': 0.5638418079096045, 'deepth': 2, 'pod': 'currencyservice-cf787dd48-vpjrd', 'events_inreferenz': ['currencyservice grpc.hipstershop.CurrencyService/Convert start', 'currencyservice hipstershop.CurrencyService/GetCurrencyData start']}, {'events': ['TraceID: &lt;:TRACEID:&gt; SpanID: &lt;:SPANID:&gt; Received conversion request', 'currencyservice hipstershop.CurrencyService/GetCurrencyData start'], 'score': 0.52, 'deepth': 3, 'pod': 'currencyservice-cf787dd48-vpjrd', 'events_inreferenz': ['TraceID: &lt;:TRACEID:&gt; SpanID: &lt;:SPANID:&gt; Received conversion request', 'currencyservice hipstershop.CurrencyService/Carry start']}, {'events': ['MemoryUsageRate(%)', 'adservice hipstershop.AdService/&lt;:SPANID:&gt; start'], 'score': 0.514161220043573, 'deepth': 4, 'pod': 'adservice-5f6585d649-fnmft', 'events_inreferenz': ['MemoryUsageRate(%)', 'adservice hipstershop.AdService/getRandomAds start']}, {'events': ['&lt;:NUM:&gt;:&lt;:NUM:&gt;:&lt;:NUM:&gt;.&lt;:NUM:&gt; INFO - TraceID: &lt;:TRACEID:&gt; SpanID: &lt;:SPANID:&gt; Received ad request (context words=&lt;:ITEM:&gt;', 'adservice hipstershop.AdServiceImpl/getAds end'], 'score': 0.514161220043573, 'deepth': 4, 'pod': 'adservice-5f6585d649-fnmft', 'events_inreferenz': ['&lt;:NUM:&gt;:&lt;:NUM:&gt;:&lt;:NUM:&gt;.&lt;:NUM:&gt; INFO - TraceID: &lt;:TRACEID:&gt; SpanID: &lt;:SPANID:&gt; Received ad request (context words=&lt;:ITEM:&gt;', '&lt;:NUM:&gt;:&lt;:NUM:&gt;:&lt;:NUM:&gt;.&lt;:NUM:&gt; INFO - TraceID: &lt;:TRACEID:&gt; SpanID: &lt;:SPANID:&gt; No context provided. Constructe random Ads start']}, {'events': ['TraceID: &lt;:TRACEID:&gt; SpanID: &lt;:SPANID:&gt; Choose Ad complete', 'TraceID: &lt;:TRACEID:&gt; SpanID: &lt;:SPANID:&gt; Serving product page complete'], 'score': 0.514161220043573, 'deepth': 1, 'pod': 'frontend-579b9bff58-t2dbm', 'events_inreferenz': ['TraceID: &lt;:TRACEID:&gt; SpanID: &lt;:SPANID:&gt; Choose Ad complete', 'TraceID: &lt;:TRACEID:&gt; SpanID: &lt;:SPANID:&gt; Request home complete']}, {'events': ['adservice hipstershop.AdService/&lt;:SPANID:&gt; start', 'MemoryUsageRate(%)'], 'score': 0.5140495867768595, 'deepth': 4, 'pod': 'adservice-5f6585d649-fnmft'}, {'events': ['&lt;:NUM:&gt;:&lt;:NUM:&gt;:&lt;:NUM:&gt;.&lt;:NUM:&gt; INFO - TraceID: &lt;:TRACEID:&gt; SpanID: &lt;:SPANID:&gt; Query items successfully.', '&lt;:NUM:&gt;:&lt;:NUM:&gt;:&lt;:NUM:&gt;.&lt;:NUM:&gt; INFO - TraceID: &lt;:TRACEID:&gt; SpanID: &lt;:SPANID:&gt; Get Ads by Category &lt;:*:&gt;'], 'score': 0.5140495867768595, 'deepth': 4, 'pod': 'adservice-5f6585d649-fnmft', 'events_inreferenz': ['&lt;:NUM:&gt;:&lt;:NUM:&gt;:&lt;:NUM:&gt;.&lt;:NUM:&gt; INFO - TraceID: &lt;:TRACEID:&gt; SpanID: &lt;:SPANID:&gt; Query items successfully.', 'adservice hipstershop.AdService/getRandomAds end']}, {'events': ['&lt;:NUM:&gt;:&lt;:NUM:&gt;:&lt;:NUM:&gt;.&lt;:NUM:&gt; INFO - TraceID: &lt;:TRACEID:&gt; SpanID: &lt;:SPANID:&gt; Received ad request (context words=&lt;:ITEM:&gt;', 'adservice hipstershop.AdService/&lt;:SPANID:&gt; start'], 'score': 0.5136986301369864, 'deepth': 4, 'pod': 'adservice-5f6585d649-fnmft', 'events_inreferenz': ['&lt;:NUM:&gt;:&lt;:NUM:&gt;:&lt;:NUM:&gt;.&lt;:NUM:&gt; INFO - TraceID: &lt;:TRACEID:&gt; SpanID: &lt;:SPANID:&gt; Received ad request (context words=&lt;:ITEM:&gt;', '&lt;:NUM:&gt;:&lt;:NUM:&gt;:&lt;:NUM:&gt;.&lt;:NUM:&gt; INFO - TraceID: &lt;:TRACEID:&gt; SpanID: &lt;:SPANID:&gt; No context provided. Constructe random Ads start']}, {'events': ['currencyservice grpc.hipstershop.CurrencyService/GetSupportedCurrencies start', 'currencyservice hipstershop.CurrencyService/GetCurrencyData start'], 'score': 0.5100250626566416, 'deepth': 2, 'pod': 'currencyservice-cf787dd48-vpjrd'}]</td>\n",
       "    </tr>\n",
       "    <tr>\n",
       "      <th>1</th>\n",
       "      <td>[{'events': ['frontend hipstershop.Frontend/Recv. start', 'TraceID: &lt;:TRACEID:&gt; SpanID: &lt;:SPANID:&gt; Request started'], 'score': 1.0, 'deepth': 1, 'pod': 'frontend-579b9bff58-t2dbm', 'events_inreferenz': ['frontend hipstershop.Frontend/Recv. start', 'CpuUsageRate(%)']}, {'events': ['currencyservice grpc.hipstershop.CurrencyService/Convert start', 'currencyservice hipstershop.CurrencyService/Carry start'], 'score': 0.7028169014084507, 'deepth': 2, 'pod': 'currencyservice-cf787dd48-vpjrd'}, {'events': ['&lt;:NUM:&gt;:&lt;:NUM:&gt;:&lt;:NUM:&gt;.&lt;:NUM:&gt; INFO - TraceID: &lt;:TRACEID:&gt; SpanID: &lt;:SPANID:&gt; Received ad request (context words=&lt;:ITEM:&gt;', '&lt;:NUM:&gt;:&lt;:NUM:&gt;:&lt;:NUM:&gt;.&lt;:NUM:&gt; INFO - TraceID: &lt;:TRACEID:&gt; SpanID: &lt;:SPANID:&gt; No context provided. Constructe random Ads start'], 'score': 0.6341463414634146, 'deepth': 4, 'pod': 'adservice-5f6585d649-fnmft'}, {'events': ['adservice hipstershop.AdService/getRandomAds start', 'MemoryUsageRate(%)'], 'score': 0.6341463414634146, 'deepth': 4, 'pod': 'adservice-5f6585d649-fnmft'}, {'events': ['&lt;:NUM:&gt;:&lt;:NUM:&gt;:&lt;:NUM:&gt;.&lt;:NUM:&gt; INFO - TraceID: &lt;:TRACEID:&gt; SpanID: &lt;:SPANID:&gt; Query items successfully.', 'adservice hipstershop.AdService/getRandomAds end'], 'score': 0.6341463414634146, 'deepth': 4, 'pod': 'adservice-5f6585d649-fnmft'}, {'events': ['TraceID: &lt;:TRACEID:&gt; SpanID: &lt;:SPANID:&gt; Choose Ad complete', 'TraceID: &lt;:TRACEID:&gt; SpanID: &lt;:SPANID:&gt; Request home complete'], 'score': 0.6341463414634146, 'deepth': 1, 'pod': 'frontend-579b9bff58-t2dbm'}, {'events': ['TraceID: &lt;:TRACEID:&gt; SpanID: &lt;:SPANID:&gt; Getting supported currencies...', 'currencyservice hipstershop.CurrencyService/GetCurrencyData start'], 'score': 0.6, 'deepth': 3, 'pod': 'currencyservice-cf787dd48-vpjrd'}, {'events': ['currencyservice grpc.hipstershop.CurrencyService/Convert start', 'currencyservice hipstershop.CurrencyService/GetCurrencyData start'], 'score': 0.5992865636147443, 'deepth': 2, 'pod': 'currencyservice-cf787dd48-vpjrd'}, {'events': ['adservice hipstershop.AdServiceImpl/getAds start', 'MemoryUsageRate(%)'], 'score': 0.5877551020408164, 'deepth': 3, 'pod': 'adservice-5f6585d649-fnmft'}, {'events': ['adservice hipstershop.AdService/&lt;:SPANID:&gt; start', 'MemoryUsageRate(%)'], 'score': 0.5738007380073801, 'deepth': 4, 'pod': 'adservice-5f6585d649-fnmft'}]</td>\n",
       "    </tr>\n",
       "    <tr>\n",
       "      <th>2</th>\n",
       "      <td>[{'events': ['adservice hipstershop.AdService/&lt;:SPANID:&gt; start', 'MemoryUsageRate(%)'], 'score': 1.0, 'deepth': 4, 'pod': 'adservice-5f6585d649-fnmft'}, {'events': ['&lt;:NUM:&gt;:&lt;:NUM:&gt;:&lt;:NUM:&gt;.&lt;:NUM:&gt; INFO - TraceID: &lt;:TRACEID:&gt; SpanID: &lt;:SPANID:&gt; Query items successfully.', '&lt;:NUM:&gt;:&lt;:NUM:&gt;:&lt;:NUM:&gt;.&lt;:NUM:&gt; INFO - TraceID: &lt;:TRACEID:&gt; SpanID: &lt;:SPANID:&gt; Get Ads by Category &lt;:*:&gt;'], 'score': 1.0, 'deepth': 4, 'pod': 'adservice-5f6585d649-fnmft', 'events_inreferenz': ['&lt;:NUM:&gt;:&lt;:NUM:&gt;:&lt;:NUM:&gt;.&lt;:NUM:&gt; INFO - TraceID: &lt;:TRACEID:&gt; SpanID: &lt;:SPANID:&gt; Query items successfully.', 'adservice hipstershop.AdService/getRandomAds end']}, {'events': ['&lt;:NUM:&gt;:&lt;:NUM:&gt;:&lt;:NUM:&gt;.&lt;:NUM:&gt; INFO - TraceID: &lt;:TRACEID:&gt; SpanID: &lt;:SPANID:&gt; Received ad request (context words=&lt;:ITEM:&gt;', 'adservice hipstershop.AdServiceImpl/getAds end'], 'score': 1.0, 'deepth': 4, 'pod': 'adservice-5f6585d649-fnmft', 'events_inreferenz': ['&lt;:NUM:&gt;:&lt;:NUM:&gt;:&lt;:NUM:&gt;.&lt;:NUM:&gt; INFO - TraceID: &lt;:TRACEID:&gt; SpanID: &lt;:SPANID:&gt; Received ad request (context words=&lt;:ITEM:&gt;', '&lt;:NUM:&gt;:&lt;:NUM:&gt;:&lt;:NUM:&gt;.&lt;:NUM:&gt; INFO - TraceID: &lt;:TRACEID:&gt; SpanID: &lt;:SPANID:&gt; No context provided. Constructe random Ads start']}, {'events': ['&lt;:NUM:&gt;:&lt;:NUM:&gt;:&lt;:NUM:&gt;.&lt;:NUM:&gt; INFO - TraceID: &lt;:TRACEID:&gt; SpanID: &lt;:SPANID:&gt; Received ad request (context words=&lt;:ITEM:&gt;', 'adservice hipstershop.AdService/&lt;:SPANID:&gt; start'], 'score': 1.0, 'deepth': 4, 'pod': 'adservice-5f6585d649-fnmft', 'events_inreferenz': ['&lt;:NUM:&gt;:&lt;:NUM:&gt;:&lt;:NUM:&gt;.&lt;:NUM:&gt; INFO - TraceID: &lt;:TRACEID:&gt; SpanID: &lt;:SPANID:&gt; Received ad request (context words=&lt;:ITEM:&gt;', '&lt;:NUM:&gt;:&lt;:NUM:&gt;:&lt;:NUM:&gt;.&lt;:NUM:&gt; INFO - TraceID: &lt;:TRACEID:&gt; SpanID: &lt;:SPANID:&gt; No context provided. Constructe random Ads start']}, {'events': ['TraceID: &lt;:TRACEID:&gt; SpanID: &lt;:SPANID:&gt; Serving product page started', 'frontend hipstershop.ProductCatalogService/GetProduct start'], 'score': 1.0, 'deepth': 1, 'pod': 'frontend-579b9bff58-t2dbm', 'events_inreferenz': ['TraceID: &lt;:TRACEID:&gt; SpanID: &lt;:SPANID:&gt; Serving product page started', 'TraceID: &lt;:TRACEID:&gt; SpanID: &lt;:SPANID:&gt; Product id not specified']}, {'events': ['TraceID: &lt;:TRACEID:&gt; SpanID: &lt;:SPANID:&gt; Serving product page started', 'TraceID: &lt;:TRACEID:&gt; SpanID: &lt;:SPANID:&gt; Choose Ad started'], 'score': 1.0, 'deepth': 1, 'pod': 'frontend-579b9bff58-t2dbm', 'events_inreferenz': ['TraceID: &lt;:TRACEID:&gt; SpanID: &lt;:SPANID:&gt; Serving product page started', 'TraceID: &lt;:TRACEID:&gt; SpanID: &lt;:SPANID:&gt; Product id not specified']}, {'events': ['TraceID: &lt;:TRACEID:&gt; SpanID: &lt;:SPANID:&gt; Serving product page started', 'frontend hipstershop.CurrencyService/GetSupportedCurrencies start'], 'score': 1.0, 'deepth': 1, 'pod': 'frontend-579b9bff58-t2dbm', 'events_inreferenz': ['TraceID: &lt;:TRACEID:&gt; SpanID: &lt;:SPANID:&gt; Serving product page started', 'TraceID: &lt;:TRACEID:&gt; SpanID: &lt;:SPANID:&gt; Product id not specified']}, {'events': ['TraceID: &lt;:TRACEID:&gt; SpanID: &lt;:SPANID:&gt; Serving product page started', 'frontend hipstershop.CartService/GetCart start'], 'score': 1.0, 'deepth': 1, 'pod': 'frontend-579b9bff58-t2dbm', 'events_inreferenz': ['TraceID: &lt;:TRACEID:&gt; SpanID: &lt;:SPANID:&gt; Serving product page started', 'TraceID: &lt;:TRACEID:&gt; SpanID: &lt;:SPANID:&gt; Product id not specified']}, {'events': ['TraceID: &lt;:TRACEID:&gt; SpanID: &lt;:SPANID:&gt; Serving product page started', 'frontend hipstershop.CurrencyService/Convert start'], 'score': 1.0, 'deepth': 1, 'pod': 'frontend-579b9bff58-t2dbm', 'events_inreferenz': ['TraceID: &lt;:TRACEID:&gt; SpanID: &lt;:SPANID:&gt; Serving product page started', 'TraceID: &lt;:TRACEID:&gt; SpanID: &lt;:SPANID:&gt; Product id not specified']}, {'events': ['TraceID: &lt;:TRACEID:&gt; SpanID: &lt;:SPANID:&gt; Serving product page started', 'frontend hipstershop.RecommendationService/ListRecommendations start'], 'score': 1.0, 'deepth': 1, 'pod': 'frontend-579b9bff58-t2dbm', 'events_inreferenz': ['TraceID: &lt;:TRACEID:&gt; SpanID: &lt;:SPANID:&gt; Serving product page started', 'TraceID: &lt;:TRACEID:&gt; SpanID: &lt;:SPANID:&gt; Product id not specified']}]</td>\n",
       "    </tr>\n",
       "    <tr>\n",
       "      <th>3</th>\n",
       "      <td>[{'events': ['adservice hipstershop.AdService/&lt;:SPANID:&gt; start', 'MemoryUsageRate(%)'], 'score': 1.0, 'deepth': 4, 'pod': 'adservice-5f6585d649-fnmft'}, {'events': ['&lt;:NUM:&gt;:&lt;:NUM:&gt;:&lt;:NUM:&gt;.&lt;:NUM:&gt; INFO - TraceID: &lt;:TRACEID:&gt; SpanID: &lt;:SPANID:&gt; Query items successfully.', '&lt;:NUM:&gt;:&lt;:NUM:&gt;:&lt;:NUM:&gt;.&lt;:NUM:&gt; INFO - TraceID: &lt;:TRACEID:&gt; SpanID: &lt;:SPANID:&gt; Get Ads by Category &lt;:*:&gt;'], 'score': 1.0, 'deepth': 4, 'pod': 'adservice-5f6585d649-fnmft', 'events_inreferenz': ['&lt;:NUM:&gt;:&lt;:NUM:&gt;:&lt;:NUM:&gt;.&lt;:NUM:&gt; INFO - TraceID: &lt;:TRACEID:&gt; SpanID: &lt;:SPANID:&gt; Query items successfully.', 'adservice hipstershop.AdService/getRandomAds end']}, {'events': ['&lt;:NUM:&gt;:&lt;:NUM:&gt;:&lt;:NUM:&gt;.&lt;:NUM:&gt; INFO - TraceID: &lt;:TRACEID:&gt; SpanID: &lt;:SPANID:&gt; Received ad request (context words=&lt;:ITEM:&gt;', 'adservice hipstershop.AdServiceImpl/getAds end'], 'score': 1.0, 'deepth': 4, 'pod': 'adservice-5f6585d649-fnmft', 'events_inreferenz': ['&lt;:NUM:&gt;:&lt;:NUM:&gt;:&lt;:NUM:&gt;.&lt;:NUM:&gt; INFO - TraceID: &lt;:TRACEID:&gt; SpanID: &lt;:SPANID:&gt; Received ad request (context words=&lt;:ITEM:&gt;', '&lt;:NUM:&gt;:&lt;:NUM:&gt;:&lt;:NUM:&gt;.&lt;:NUM:&gt; INFO - TraceID: &lt;:TRACEID:&gt; SpanID: &lt;:SPANID:&gt; No context provided. Constructe random Ads start']}, {'events': ['&lt;:NUM:&gt;:&lt;:NUM:&gt;:&lt;:NUM:&gt;.&lt;:NUM:&gt; INFO - TraceID: &lt;:TRACEID:&gt; SpanID: &lt;:SPANID:&gt; Received ad request (context words=&lt;:ITEM:&gt;', 'adservice hipstershop.AdService/&lt;:SPANID:&gt; start'], 'score': 1.0, 'deepth': 4, 'pod': 'adservice-5f6585d649-fnmft', 'events_inreferenz': ['&lt;:NUM:&gt;:&lt;:NUM:&gt;:&lt;:NUM:&gt;.&lt;:NUM:&gt; INFO - TraceID: &lt;:TRACEID:&gt; SpanID: &lt;:SPANID:&gt; Received ad request (context words=&lt;:ITEM:&gt;', '&lt;:NUM:&gt;:&lt;:NUM:&gt;:&lt;:NUM:&gt;.&lt;:NUM:&gt; INFO - TraceID: &lt;:TRACEID:&gt; SpanID: &lt;:SPANID:&gt; No context provided. Constructe random Ads start']}, {'events': ['TraceID: &lt;:TRACEID:&gt; SpanID: &lt;:SPANID:&gt; Serving product page started', 'frontend hipstershop.ProductCatalogService/GetProduct start'], 'score': 1.0, 'deepth': 1, 'pod': 'frontend-579b9bff58-t2dbm', 'events_inreferenz': ['TraceID: &lt;:TRACEID:&gt; SpanID: &lt;:SPANID:&gt; Serving product page started', 'TraceID: &lt;:TRACEID:&gt; SpanID: &lt;:SPANID:&gt; Product id not specified']}, {'events': ['TraceID: &lt;:TRACEID:&gt; SpanID: &lt;:SPANID:&gt; Serving product page started', 'TraceID: &lt;:TRACEID:&gt; SpanID: &lt;:SPANID:&gt; Choose Ad started'], 'score': 1.0, 'deepth': 1, 'pod': 'frontend-579b9bff58-t2dbm', 'events_inreferenz': ['TraceID: &lt;:TRACEID:&gt; SpanID: &lt;:SPANID:&gt; Serving product page started', 'TraceID: &lt;:TRACEID:&gt; SpanID: &lt;:SPANID:&gt; Product id not specified']}, {'events': ['TraceID: &lt;:TRACEID:&gt; SpanID: &lt;:SPANID:&gt; Serving product page started', 'frontend hipstershop.CurrencyService/GetSupportedCurrencies start'], 'score': 1.0, 'deepth': 1, 'pod': 'frontend-579b9bff58-t2dbm', 'events_inreferenz': ['TraceID: &lt;:TRACEID:&gt; SpanID: &lt;:SPANID:&gt; Serving product page started', 'TraceID: &lt;:TRACEID:&gt; SpanID: &lt;:SPANID:&gt; Product id not specified']}, {'events': ['TraceID: &lt;:TRACEID:&gt; SpanID: &lt;:SPANID:&gt; Serving product page started', 'frontend hipstershop.CartService/GetCart start'], 'score': 1.0, 'deepth': 1, 'pod': 'frontend-579b9bff58-t2dbm', 'events_inreferenz': ['TraceID: &lt;:TRACEID:&gt; SpanID: &lt;:SPANID:&gt; Serving product page started', 'TraceID: &lt;:TRACEID:&gt; SpanID: &lt;:SPANID:&gt; Product id not specified']}, {'events': ['TraceID: &lt;:TRACEID:&gt; SpanID: &lt;:SPANID:&gt; Serving product page started', 'frontend hipstershop.CurrencyService/Convert start'], 'score': 1.0, 'deepth': 1, 'pod': 'frontend-579b9bff58-t2dbm', 'events_inreferenz': ['TraceID: &lt;:TRACEID:&gt; SpanID: &lt;:SPANID:&gt; Serving product page started', 'TraceID: &lt;:TRACEID:&gt; SpanID: &lt;:SPANID:&gt; Product id not specified']}, {'events': ['TraceID: &lt;:TRACEID:&gt; SpanID: &lt;:SPANID:&gt; Serving product page started', 'frontend hipstershop.RecommendationService/ListRecommendations start'], 'score': 1.0, 'deepth': 1, 'pod': 'frontend-579b9bff58-t2dbm', 'events_inreferenz': ['TraceID: &lt;:TRACEID:&gt; SpanID: &lt;:SPANID:&gt; Serving product page started', 'TraceID: &lt;:TRACEID:&gt; SpanID: &lt;:SPANID:&gt; Product id not specified']}]</td>\n",
       "    </tr>\n",
       "    <tr>\n",
       "      <th>4</th>\n",
       "      <td>[{'events': ['frontend hipstershop.Frontend/Recv. start', 'TraceID: &lt;:TRACEID:&gt; SpanID: &lt;:SPANID:&gt; Request started'], 'score': 1.0, 'deepth': 1, 'pod': 'frontend-579b9bff58-t2dbm', 'events_inreferenz': ['frontend hipstershop.Frontend/Recv. start', 'CpuUsageRate(%)']}, {'events': ['&lt;:NUM:&gt;:&lt;:NUM:&gt;:&lt;:NUM:&gt;.&lt;:NUM:&gt; INFO - TraceID: &lt;:TRACEID:&gt; SpanID: &lt;:SPANID:&gt; Received ad request (context words=&lt;:ITEM:&gt;', '&lt;:NUM:&gt;:&lt;:NUM:&gt;:&lt;:NUM:&gt;.&lt;:NUM:&gt; INFO - TraceID: &lt;:TRACEID:&gt; SpanID: &lt;:SPANID:&gt; No context provided. Constructe random Ads start'], 'score': 0.6190476190476191, 'deepth': 4, 'pod': 'adservice-5f6585d649-fnmft'}, {'events': ['adservice hipstershop.AdService/getRandomAds start', 'MemoryUsageRate(%)'], 'score': 0.6190476190476191, 'deepth': 4, 'pod': 'adservice-5f6585d649-fnmft'}, {'events': ['&lt;:NUM:&gt;:&lt;:NUM:&gt;:&lt;:NUM:&gt;.&lt;:NUM:&gt; INFO - TraceID: &lt;:TRACEID:&gt; SpanID: &lt;:SPANID:&gt; Query items successfully.', 'adservice hipstershop.AdService/getRandomAds end'], 'score': 0.6190476190476191, 'deepth': 4, 'pod': 'adservice-5f6585d649-fnmft'}, {'events': ['TraceID: &lt;:TRACEID:&gt; SpanID: &lt;:SPANID:&gt; Choose Ad complete', 'TraceID: &lt;:TRACEID:&gt; SpanID: &lt;:SPANID:&gt; Request home complete'], 'score': 0.6190476190476191, 'deepth': 1, 'pod': 'frontend-579b9bff58-t2dbm'}, {'events': ['currencyservice grpc.hipstershop.CurrencyService/Convert start', 'currencyservice hipstershop.CurrencyService/Carry start'], 'score': 0.6055825242718447, 'deepth': 2, 'pod': 'currencyservice-cf787dd48-vpjrd'}, {'events': ['TraceID: &lt;:TRACEID:&gt; SpanID: &lt;:SPANID:&gt; Getting supported currencies...', 'currencyservice hipstershop.CurrencyService/GetCurrencyData start'], 'score': 0.6, 'deepth': 3, 'pod': 'currencyservice-cf787dd48-vpjrd'}, {'events': ['TraceID: &lt;:TRACEID:&gt; SpanID: &lt;:SPANID:&gt; Received conversion request', 'currencyservice hipstershop.CurrencyService/GetCurrencyData start'], 'score': 0.5909090909090909, 'deepth': 3, 'pod': 'currencyservice-cf787dd48-vpjrd'}, {'events': ['adservice hipstershop.AdServiceImpl/getAds start', 'MemoryUsageRate(%)'], 'score': 0.5680473372781065, 'deepth': 3, 'pod': 'adservice-5f6585d649-fnmft'}, {'events': ['adservice hipstershop.AdService/&lt;:SPANID:&gt; start', 'MemoryUsageRate(%)'], 'score': 0.5553571428571429, 'deepth': 4, 'pod': 'adservice-5f6585d649-fnmft'}]</td>\n",
       "    </tr>\n",
       "  </tbody>\n",
       "</table>\n",
       "</div>"
      ],
      "text/plain": [
       "                                                                                                                                                                                                                                                                                                                                                                                                                                                                                                                                                                                                                                                                                                                                                                                                                                                                                                                                                                                                                                                                                                                                                                                                                                                                                                                                                                                                                                                                                                                                                                                                                                                                                                                                                                                                                                                                                                                                                                                                                                                                                                                                                                                                                                                                                                                                                                                                                                                                                                                                                                                                                                                                                                                                                                                                                                                                                                                                                                                                                                                                                                                                                                                                                                                                                                                                                                                                                                                                                                                                                                                                                                                                                                                                                                                                                                                                                                                                                                                                                                                                                     expected_moreoften\n",
       "0                                                                                                                                                                                                                                                                             [{'events': ['frontend hipstershop.Frontend/Recv. start', 'TraceID: <:TRACEID:> SpanID: <:SPANID:> Request started'], 'score': 1.0, 'deepth': 1, 'pod': 'frontend-579b9bff58-t2dbm', 'events_inreferenz': ['frontend hipstershop.Frontend/Recv. start', 'CpuUsageRate(%)']}, {'events': ['currencyservice grpc.hipstershop.CurrencyService/Convert start', 'currencyservice hipstershop.CurrencyService/Carry start'], 'score': 0.5638418079096045, 'deepth': 2, 'pod': 'currencyservice-cf787dd48-vpjrd', 'events_inreferenz': ['currencyservice grpc.hipstershop.CurrencyService/Convert start', 'currencyservice hipstershop.CurrencyService/GetCurrencyData start']}, {'events': ['TraceID: <:TRACEID:> SpanID: <:SPANID:> Received conversion request', 'currencyservice hipstershop.CurrencyService/GetCurrencyData start'], 'score': 0.52, 'deepth': 3, 'pod': 'currencyservice-cf787dd48-vpjrd', 'events_inreferenz': ['TraceID: <:TRACEID:> SpanID: <:SPANID:> Received conversion request', 'currencyservice hipstershop.CurrencyService/Carry start']}, {'events': ['MemoryUsageRate(%)', 'adservice hipstershop.AdService/<:SPANID:> start'], 'score': 0.514161220043573, 'deepth': 4, 'pod': 'adservice-5f6585d649-fnmft', 'events_inreferenz': ['MemoryUsageRate(%)', 'adservice hipstershop.AdService/getRandomAds start']}, {'events': ['<:NUM:>:<:NUM:>:<:NUM:>.<:NUM:> INFO - TraceID: <:TRACEID:> SpanID: <:SPANID:> Received ad request (context words=<:ITEM:>', 'adservice hipstershop.AdServiceImpl/getAds end'], 'score': 0.514161220043573, 'deepth': 4, 'pod': 'adservice-5f6585d649-fnmft', 'events_inreferenz': ['<:NUM:>:<:NUM:>:<:NUM:>.<:NUM:> INFO - TraceID: <:TRACEID:> SpanID: <:SPANID:> Received ad request (context words=<:ITEM:>', '<:NUM:>:<:NUM:>:<:NUM:>.<:NUM:> INFO - TraceID: <:TRACEID:> SpanID: <:SPANID:> No context provided. Constructe random Ads start']}, {'events': ['TraceID: <:TRACEID:> SpanID: <:SPANID:> Choose Ad complete', 'TraceID: <:TRACEID:> SpanID: <:SPANID:> Serving product page complete'], 'score': 0.514161220043573, 'deepth': 1, 'pod': 'frontend-579b9bff58-t2dbm', 'events_inreferenz': ['TraceID: <:TRACEID:> SpanID: <:SPANID:> Choose Ad complete', 'TraceID: <:TRACEID:> SpanID: <:SPANID:> Request home complete']}, {'events': ['adservice hipstershop.AdService/<:SPANID:> start', 'MemoryUsageRate(%)'], 'score': 0.5140495867768595, 'deepth': 4, 'pod': 'adservice-5f6585d649-fnmft'}, {'events': ['<:NUM:>:<:NUM:>:<:NUM:>.<:NUM:> INFO - TraceID: <:TRACEID:> SpanID: <:SPANID:> Query items successfully.', '<:NUM:>:<:NUM:>:<:NUM:>.<:NUM:> INFO - TraceID: <:TRACEID:> SpanID: <:SPANID:> Get Ads by Category <:*:>'], 'score': 0.5140495867768595, 'deepth': 4, 'pod': 'adservice-5f6585d649-fnmft', 'events_inreferenz': ['<:NUM:>:<:NUM:>:<:NUM:>.<:NUM:> INFO - TraceID: <:TRACEID:> SpanID: <:SPANID:> Query items successfully.', 'adservice hipstershop.AdService/getRandomAds end']}, {'events': ['<:NUM:>:<:NUM:>:<:NUM:>.<:NUM:> INFO - TraceID: <:TRACEID:> SpanID: <:SPANID:> Received ad request (context words=<:ITEM:>', 'adservice hipstershop.AdService/<:SPANID:> start'], 'score': 0.5136986301369864, 'deepth': 4, 'pod': 'adservice-5f6585d649-fnmft', 'events_inreferenz': ['<:NUM:>:<:NUM:>:<:NUM:>.<:NUM:> INFO - TraceID: <:TRACEID:> SpanID: <:SPANID:> Received ad request (context words=<:ITEM:>', '<:NUM:>:<:NUM:>:<:NUM:>.<:NUM:> INFO - TraceID: <:TRACEID:> SpanID: <:SPANID:> No context provided. Constructe random Ads start']}, {'events': ['currencyservice grpc.hipstershop.CurrencyService/GetSupportedCurrencies start', 'currencyservice hipstershop.CurrencyService/GetCurrencyData start'], 'score': 0.5100250626566416, 'deepth': 2, 'pod': 'currencyservice-cf787dd48-vpjrd'}]\n",
       "1                                                                                                                                                                                                                                                                                                                                                                                                                                                                                                                                                                                                                                                                                                                                                                                                                                                                                                                                                                                                                                                                                                                                                                                                                                                                                                                                                                                                                                                                                                                                                                                                                                                                                                                                  [{'events': ['frontend hipstershop.Frontend/Recv. start', 'TraceID: <:TRACEID:> SpanID: <:SPANID:> Request started'], 'score': 1.0, 'deepth': 1, 'pod': 'frontend-579b9bff58-t2dbm', 'events_inreferenz': ['frontend hipstershop.Frontend/Recv. start', 'CpuUsageRate(%)']}, {'events': ['currencyservice grpc.hipstershop.CurrencyService/Convert start', 'currencyservice hipstershop.CurrencyService/Carry start'], 'score': 0.7028169014084507, 'deepth': 2, 'pod': 'currencyservice-cf787dd48-vpjrd'}, {'events': ['<:NUM:>:<:NUM:>:<:NUM:>.<:NUM:> INFO - TraceID: <:TRACEID:> SpanID: <:SPANID:> Received ad request (context words=<:ITEM:>', '<:NUM:>:<:NUM:>:<:NUM:>.<:NUM:> INFO - TraceID: <:TRACEID:> SpanID: <:SPANID:> No context provided. Constructe random Ads start'], 'score': 0.6341463414634146, 'deepth': 4, 'pod': 'adservice-5f6585d649-fnmft'}, {'events': ['adservice hipstershop.AdService/getRandomAds start', 'MemoryUsageRate(%)'], 'score': 0.6341463414634146, 'deepth': 4, 'pod': 'adservice-5f6585d649-fnmft'}, {'events': ['<:NUM:>:<:NUM:>:<:NUM:>.<:NUM:> INFO - TraceID: <:TRACEID:> SpanID: <:SPANID:> Query items successfully.', 'adservice hipstershop.AdService/getRandomAds end'], 'score': 0.6341463414634146, 'deepth': 4, 'pod': 'adservice-5f6585d649-fnmft'}, {'events': ['TraceID: <:TRACEID:> SpanID: <:SPANID:> Choose Ad complete', 'TraceID: <:TRACEID:> SpanID: <:SPANID:> Request home complete'], 'score': 0.6341463414634146, 'deepth': 1, 'pod': 'frontend-579b9bff58-t2dbm'}, {'events': ['TraceID: <:TRACEID:> SpanID: <:SPANID:> Getting supported currencies...', 'currencyservice hipstershop.CurrencyService/GetCurrencyData start'], 'score': 0.6, 'deepth': 3, 'pod': 'currencyservice-cf787dd48-vpjrd'}, {'events': ['currencyservice grpc.hipstershop.CurrencyService/Convert start', 'currencyservice hipstershop.CurrencyService/GetCurrencyData start'], 'score': 0.5992865636147443, 'deepth': 2, 'pod': 'currencyservice-cf787dd48-vpjrd'}, {'events': ['adservice hipstershop.AdServiceImpl/getAds start', 'MemoryUsageRate(%)'], 'score': 0.5877551020408164, 'deepth': 3, 'pod': 'adservice-5f6585d649-fnmft'}, {'events': ['adservice hipstershop.AdService/<:SPANID:> start', 'MemoryUsageRate(%)'], 'score': 0.5738007380073801, 'deepth': 4, 'pod': 'adservice-5f6585d649-fnmft'}]\n",
       "2  [{'events': ['adservice hipstershop.AdService/<:SPANID:> start', 'MemoryUsageRate(%)'], 'score': 1.0, 'deepth': 4, 'pod': 'adservice-5f6585d649-fnmft'}, {'events': ['<:NUM:>:<:NUM:>:<:NUM:>.<:NUM:> INFO - TraceID: <:TRACEID:> SpanID: <:SPANID:> Query items successfully.', '<:NUM:>:<:NUM:>:<:NUM:>.<:NUM:> INFO - TraceID: <:TRACEID:> SpanID: <:SPANID:> Get Ads by Category <:*:>'], 'score': 1.0, 'deepth': 4, 'pod': 'adservice-5f6585d649-fnmft', 'events_inreferenz': ['<:NUM:>:<:NUM:>:<:NUM:>.<:NUM:> INFO - TraceID: <:TRACEID:> SpanID: <:SPANID:> Query items successfully.', 'adservice hipstershop.AdService/getRandomAds end']}, {'events': ['<:NUM:>:<:NUM:>:<:NUM:>.<:NUM:> INFO - TraceID: <:TRACEID:> SpanID: <:SPANID:> Received ad request (context words=<:ITEM:>', 'adservice hipstershop.AdServiceImpl/getAds end'], 'score': 1.0, 'deepth': 4, 'pod': 'adservice-5f6585d649-fnmft', 'events_inreferenz': ['<:NUM:>:<:NUM:>:<:NUM:>.<:NUM:> INFO - TraceID: <:TRACEID:> SpanID: <:SPANID:> Received ad request (context words=<:ITEM:>', '<:NUM:>:<:NUM:>:<:NUM:>.<:NUM:> INFO - TraceID: <:TRACEID:> SpanID: <:SPANID:> No context provided. Constructe random Ads start']}, {'events': ['<:NUM:>:<:NUM:>:<:NUM:>.<:NUM:> INFO - TraceID: <:TRACEID:> SpanID: <:SPANID:> Received ad request (context words=<:ITEM:>', 'adservice hipstershop.AdService/<:SPANID:> start'], 'score': 1.0, 'deepth': 4, 'pod': 'adservice-5f6585d649-fnmft', 'events_inreferenz': ['<:NUM:>:<:NUM:>:<:NUM:>.<:NUM:> INFO - TraceID: <:TRACEID:> SpanID: <:SPANID:> Received ad request (context words=<:ITEM:>', '<:NUM:>:<:NUM:>:<:NUM:>.<:NUM:> INFO - TraceID: <:TRACEID:> SpanID: <:SPANID:> No context provided. Constructe random Ads start']}, {'events': ['TraceID: <:TRACEID:> SpanID: <:SPANID:> Serving product page started', 'frontend hipstershop.ProductCatalogService/GetProduct start'], 'score': 1.0, 'deepth': 1, 'pod': 'frontend-579b9bff58-t2dbm', 'events_inreferenz': ['TraceID: <:TRACEID:> SpanID: <:SPANID:> Serving product page started', 'TraceID: <:TRACEID:> SpanID: <:SPANID:> Product id not specified']}, {'events': ['TraceID: <:TRACEID:> SpanID: <:SPANID:> Serving product page started', 'TraceID: <:TRACEID:> SpanID: <:SPANID:> Choose Ad started'], 'score': 1.0, 'deepth': 1, 'pod': 'frontend-579b9bff58-t2dbm', 'events_inreferenz': ['TraceID: <:TRACEID:> SpanID: <:SPANID:> Serving product page started', 'TraceID: <:TRACEID:> SpanID: <:SPANID:> Product id not specified']}, {'events': ['TraceID: <:TRACEID:> SpanID: <:SPANID:> Serving product page started', 'frontend hipstershop.CurrencyService/GetSupportedCurrencies start'], 'score': 1.0, 'deepth': 1, 'pod': 'frontend-579b9bff58-t2dbm', 'events_inreferenz': ['TraceID: <:TRACEID:> SpanID: <:SPANID:> Serving product page started', 'TraceID: <:TRACEID:> SpanID: <:SPANID:> Product id not specified']}, {'events': ['TraceID: <:TRACEID:> SpanID: <:SPANID:> Serving product page started', 'frontend hipstershop.CartService/GetCart start'], 'score': 1.0, 'deepth': 1, 'pod': 'frontend-579b9bff58-t2dbm', 'events_inreferenz': ['TraceID: <:TRACEID:> SpanID: <:SPANID:> Serving product page started', 'TraceID: <:TRACEID:> SpanID: <:SPANID:> Product id not specified']}, {'events': ['TraceID: <:TRACEID:> SpanID: <:SPANID:> Serving product page started', 'frontend hipstershop.CurrencyService/Convert start'], 'score': 1.0, 'deepth': 1, 'pod': 'frontend-579b9bff58-t2dbm', 'events_inreferenz': ['TraceID: <:TRACEID:> SpanID: <:SPANID:> Serving product page started', 'TraceID: <:TRACEID:> SpanID: <:SPANID:> Product id not specified']}, {'events': ['TraceID: <:TRACEID:> SpanID: <:SPANID:> Serving product page started', 'frontend hipstershop.RecommendationService/ListRecommendations start'], 'score': 1.0, 'deepth': 1, 'pod': 'frontend-579b9bff58-t2dbm', 'events_inreferenz': ['TraceID: <:TRACEID:> SpanID: <:SPANID:> Serving product page started', 'TraceID: <:TRACEID:> SpanID: <:SPANID:> Product id not specified']}]\n",
       "3  [{'events': ['adservice hipstershop.AdService/<:SPANID:> start', 'MemoryUsageRate(%)'], 'score': 1.0, 'deepth': 4, 'pod': 'adservice-5f6585d649-fnmft'}, {'events': ['<:NUM:>:<:NUM:>:<:NUM:>.<:NUM:> INFO - TraceID: <:TRACEID:> SpanID: <:SPANID:> Query items successfully.', '<:NUM:>:<:NUM:>:<:NUM:>.<:NUM:> INFO - TraceID: <:TRACEID:> SpanID: <:SPANID:> Get Ads by Category <:*:>'], 'score': 1.0, 'deepth': 4, 'pod': 'adservice-5f6585d649-fnmft', 'events_inreferenz': ['<:NUM:>:<:NUM:>:<:NUM:>.<:NUM:> INFO - TraceID: <:TRACEID:> SpanID: <:SPANID:> Query items successfully.', 'adservice hipstershop.AdService/getRandomAds end']}, {'events': ['<:NUM:>:<:NUM:>:<:NUM:>.<:NUM:> INFO - TraceID: <:TRACEID:> SpanID: <:SPANID:> Received ad request (context words=<:ITEM:>', 'adservice hipstershop.AdServiceImpl/getAds end'], 'score': 1.0, 'deepth': 4, 'pod': 'adservice-5f6585d649-fnmft', 'events_inreferenz': ['<:NUM:>:<:NUM:>:<:NUM:>.<:NUM:> INFO - TraceID: <:TRACEID:> SpanID: <:SPANID:> Received ad request (context words=<:ITEM:>', '<:NUM:>:<:NUM:>:<:NUM:>.<:NUM:> INFO - TraceID: <:TRACEID:> SpanID: <:SPANID:> No context provided. Constructe random Ads start']}, {'events': ['<:NUM:>:<:NUM:>:<:NUM:>.<:NUM:> INFO - TraceID: <:TRACEID:> SpanID: <:SPANID:> Received ad request (context words=<:ITEM:>', 'adservice hipstershop.AdService/<:SPANID:> start'], 'score': 1.0, 'deepth': 4, 'pod': 'adservice-5f6585d649-fnmft', 'events_inreferenz': ['<:NUM:>:<:NUM:>:<:NUM:>.<:NUM:> INFO - TraceID: <:TRACEID:> SpanID: <:SPANID:> Received ad request (context words=<:ITEM:>', '<:NUM:>:<:NUM:>:<:NUM:>.<:NUM:> INFO - TraceID: <:TRACEID:> SpanID: <:SPANID:> No context provided. Constructe random Ads start']}, {'events': ['TraceID: <:TRACEID:> SpanID: <:SPANID:> Serving product page started', 'frontend hipstershop.ProductCatalogService/GetProduct start'], 'score': 1.0, 'deepth': 1, 'pod': 'frontend-579b9bff58-t2dbm', 'events_inreferenz': ['TraceID: <:TRACEID:> SpanID: <:SPANID:> Serving product page started', 'TraceID: <:TRACEID:> SpanID: <:SPANID:> Product id not specified']}, {'events': ['TraceID: <:TRACEID:> SpanID: <:SPANID:> Serving product page started', 'TraceID: <:TRACEID:> SpanID: <:SPANID:> Choose Ad started'], 'score': 1.0, 'deepth': 1, 'pod': 'frontend-579b9bff58-t2dbm', 'events_inreferenz': ['TraceID: <:TRACEID:> SpanID: <:SPANID:> Serving product page started', 'TraceID: <:TRACEID:> SpanID: <:SPANID:> Product id not specified']}, {'events': ['TraceID: <:TRACEID:> SpanID: <:SPANID:> Serving product page started', 'frontend hipstershop.CurrencyService/GetSupportedCurrencies start'], 'score': 1.0, 'deepth': 1, 'pod': 'frontend-579b9bff58-t2dbm', 'events_inreferenz': ['TraceID: <:TRACEID:> SpanID: <:SPANID:> Serving product page started', 'TraceID: <:TRACEID:> SpanID: <:SPANID:> Product id not specified']}, {'events': ['TraceID: <:TRACEID:> SpanID: <:SPANID:> Serving product page started', 'frontend hipstershop.CartService/GetCart start'], 'score': 1.0, 'deepth': 1, 'pod': 'frontend-579b9bff58-t2dbm', 'events_inreferenz': ['TraceID: <:TRACEID:> SpanID: <:SPANID:> Serving product page started', 'TraceID: <:TRACEID:> SpanID: <:SPANID:> Product id not specified']}, {'events': ['TraceID: <:TRACEID:> SpanID: <:SPANID:> Serving product page started', 'frontend hipstershop.CurrencyService/Convert start'], 'score': 1.0, 'deepth': 1, 'pod': 'frontend-579b9bff58-t2dbm', 'events_inreferenz': ['TraceID: <:TRACEID:> SpanID: <:SPANID:> Serving product page started', 'TraceID: <:TRACEID:> SpanID: <:SPANID:> Product id not specified']}, {'events': ['TraceID: <:TRACEID:> SpanID: <:SPANID:> Serving product page started', 'frontend hipstershop.RecommendationService/ListRecommendations start'], 'score': 1.0, 'deepth': 1, 'pod': 'frontend-579b9bff58-t2dbm', 'events_inreferenz': ['TraceID: <:TRACEID:> SpanID: <:SPANID:> Serving product page started', 'TraceID: <:TRACEID:> SpanID: <:SPANID:> Product id not specified']}]\n",
       "4                                                                                                                                                                                                                                                                                                                                                                                                                                                                                                                                                                                                                                                                                                                                                                                                                                                                                                                                                                                                                                                                                                                                                                                                                                                                                                                                                                                                                                                                                                                                                                                                                                                                                                                             [{'events': ['frontend hipstershop.Frontend/Recv. start', 'TraceID: <:TRACEID:> SpanID: <:SPANID:> Request started'], 'score': 1.0, 'deepth': 1, 'pod': 'frontend-579b9bff58-t2dbm', 'events_inreferenz': ['frontend hipstershop.Frontend/Recv. start', 'CpuUsageRate(%)']}, {'events': ['<:NUM:>:<:NUM:>:<:NUM:>.<:NUM:> INFO - TraceID: <:TRACEID:> SpanID: <:SPANID:> Received ad request (context words=<:ITEM:>', '<:NUM:>:<:NUM:>:<:NUM:>.<:NUM:> INFO - TraceID: <:TRACEID:> SpanID: <:SPANID:> No context provided. Constructe random Ads start'], 'score': 0.6190476190476191, 'deepth': 4, 'pod': 'adservice-5f6585d649-fnmft'}, {'events': ['adservice hipstershop.AdService/getRandomAds start', 'MemoryUsageRate(%)'], 'score': 0.6190476190476191, 'deepth': 4, 'pod': 'adservice-5f6585d649-fnmft'}, {'events': ['<:NUM:>:<:NUM:>:<:NUM:>.<:NUM:> INFO - TraceID: <:TRACEID:> SpanID: <:SPANID:> Query items successfully.', 'adservice hipstershop.AdService/getRandomAds end'], 'score': 0.6190476190476191, 'deepth': 4, 'pod': 'adservice-5f6585d649-fnmft'}, {'events': ['TraceID: <:TRACEID:> SpanID: <:SPANID:> Choose Ad complete', 'TraceID: <:TRACEID:> SpanID: <:SPANID:> Request home complete'], 'score': 0.6190476190476191, 'deepth': 1, 'pod': 'frontend-579b9bff58-t2dbm'}, {'events': ['currencyservice grpc.hipstershop.CurrencyService/Convert start', 'currencyservice hipstershop.CurrencyService/Carry start'], 'score': 0.6055825242718447, 'deepth': 2, 'pod': 'currencyservice-cf787dd48-vpjrd'}, {'events': ['TraceID: <:TRACEID:> SpanID: <:SPANID:> Getting supported currencies...', 'currencyservice hipstershop.CurrencyService/GetCurrencyData start'], 'score': 0.6, 'deepth': 3, 'pod': 'currencyservice-cf787dd48-vpjrd'}, {'events': ['TraceID: <:TRACEID:> SpanID: <:SPANID:> Received conversion request', 'currencyservice hipstershop.CurrencyService/GetCurrencyData start'], 'score': 0.5909090909090909, 'deepth': 3, 'pod': 'currencyservice-cf787dd48-vpjrd'}, {'events': ['adservice hipstershop.AdServiceImpl/getAds start', 'MemoryUsageRate(%)'], 'score': 0.5680473372781065, 'deepth': 3, 'pod': 'adservice-5f6585d649-fnmft'}, {'events': ['adservice hipstershop.AdService/<:SPANID:> start', 'MemoryUsageRate(%)'], 'score': 0.5553571428571429, 'deepth': 4, 'pod': 'adservice-5f6585d649-fnmft'}]"
      ]
     },
     "execution_count": 9,
     "metadata": {},
     "output_type": "execute_result"
    }
   ],
   "source": [
    "pd.set_option(\"display.max_colwidth\", None)\n",
    "df[['expected_moreoften']].head()"
   ]
  },
  {
   "cell_type": "code",
   "execution_count": 10,
   "metadata": {},
   "outputs": [
    {
     "data": {
      "text/plain": [
       "Index(['abnormal_time', 'actual_moreoften', 'expected_moreoften', 'inject_pod',\n",
       "       'inject_time', 'inject_type', 'metrics_of_affectedpods', 'normal_time',\n",
       "       'root_cause', 'inject_comp_tdiff', 'nezha_rank_050_correct',\n",
       "       'nezha_rank_050_orig'],\n",
       "      dtype='object')"
      ]
     },
     "execution_count": 10,
     "metadata": {},
     "output_type": "execute_result"
    }
   ],
   "source": [
    "df.columns"
   ]
  },
  {
   "cell_type": "code",
   "execution_count": 11,
   "metadata": {},
   "outputs": [
    {
     "data": {
      "text/plain": [
       "array(['frontend-579b9bff58-t2dbm', 'cartservice-579f59597d-wc2lz',\n",
       "       'checkoutservice-578fcf4766-9csqn',\n",
       "       'currencyservice-cf787dd48-vpjrd', 'emailservice-55fdc5b988-f6xth',\n",
       "       'paymentservice-9cdb6588f-554sm',\n",
       "       'productcatalogservice-668d5f85fb-wckp8',\n",
       "       'recommendationservice-6cfdd55578-gfj6q',\n",
       "       'shippingservice-7b598fc7d-lmggd', 'adservice-5f6585d649-fnmft',\n",
       "       'productcatalogservice-668d5f85fb-jhwx9'], dtype=object)"
      ]
     },
     "execution_count": 11,
     "metadata": {},
     "output_type": "execute_result"
    }
   ],
   "source": [
    "df.inject_pod.unique()"
   ]
  },
  {
   "cell_type": "code",
   "execution_count": 12,
   "metadata": {},
   "outputs": [],
   "source": [
    "df.to_csv(f\"output/features_labeled_4llm_v3_step2.csv\", index=False)"
   ]
  }
 ],
 "metadata": {
  "kernelspec": {
   "display_name": "python3.8",
   "language": "python",
   "name": "python3"
  },
  "language_info": {
   "codemirror_mode": {
    "name": "ipython",
    "version": 3
   },
   "file_extension": ".py",
   "mimetype": "text/x-python",
   "name": "python",
   "nbconvert_exporter": "python",
   "pygments_lexer": "ipython3",
   "version": "3.8.18"
  }
 },
 "nbformat": 4,
 "nbformat_minor": 2
}
