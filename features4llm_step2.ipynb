{
 "cells": [
  {
   "cell_type": "code",
   "execution_count": 12,
   "metadata": {},
   "outputs": [],
   "source": [
    "import pandas as pd\n",
    "import os\n",
    "from main import get_miner\n",
    "from log_parsing import from_id_to_template\n",
    "import ast\n",
    "from datetime import datetime"
   ]
  },
  {
   "cell_type": "code",
   "execution_count": 13,
   "metadata": {},
   "outputs": [],
   "source": [
    "df = pd.read_csv(f\"output/features_labeled_4llm.csv\")"
   ]
  },
  {
   "cell_type": "code",
   "execution_count": 14,
   "metadata": {},
   "outputs": [
    {
     "data": {
      "text/html": [
       "<div>\n",
       "<style scoped>\n",
       "    .dataframe tbody tr th:only-of-type {\n",
       "        vertical-align: middle;\n",
       "    }\n",
       "\n",
       "    .dataframe tbody tr th {\n",
       "        vertical-align: top;\n",
       "    }\n",
       "\n",
       "    .dataframe thead th {\n",
       "        text-align: right;\n",
       "    }\n",
       "</style>\n",
       "<table border=\"1\" class=\"dataframe\">\n",
       "  <thead>\n",
       "    <tr style=\"text-align: right;\">\n",
       "      <th></th>\n",
       "      <th>abnormal_time</th>\n",
       "      <th>inject_pod</th>\n",
       "      <th>inject_time</th>\n",
       "      <th>inject_type</th>\n",
       "      <th>normal_time</th>\n",
       "      <th>result_list_inhealthy_lessoften</th>\n",
       "      <th>result_list_inhealthy_moreoften</th>\n",
       "      <th>root_cause</th>\n",
       "      <th>inject_comp_tdiff</th>\n",
       "      <th>nezha_rank_050</th>\n",
       "    </tr>\n",
       "  </thead>\n",
       "  <tbody>\n",
       "    <tr>\n",
       "      <th>0</th>\n",
       "      <td>2022-08-22 03:54</td>\n",
       "      <td>frontend-579b9bff58-t2dbm</td>\n",
       "      <td>2022-08-22 03:53:54</td>\n",
       "      <td>cpu_contention</td>\n",
       "      <td>2022-08-22 03:51</td>\n",
       "      <td>[{'events': '23_106', 'score': 0.5400894187779...</td>\n",
       "      <td>[{'events': '76_4', 'score': 1.0, 'deepth': 1,...</td>\n",
       "      <td>['CpuUsageRate(%)']</td>\n",
       "      <td>1</td>\n",
       "      <td>1</td>\n",
       "    </tr>\n",
       "    <tr>\n",
       "      <th>1</th>\n",
       "      <td>2022-08-22 03:55</td>\n",
       "      <td>frontend-579b9bff58-t2dbm</td>\n",
       "      <td>2022-08-22 03:53:54</td>\n",
       "      <td>cpu_contention</td>\n",
       "      <td>2022-08-22 03:51</td>\n",
       "      <td>[{'events': '76_197', 'score': 1.0, 'deepth': ...</td>\n",
       "      <td>[{'events': '76_4', 'score': 1.0, 'deepth': 1,...</td>\n",
       "      <td>['CpuUsageRate(%)']</td>\n",
       "      <td>2</td>\n",
       "      <td>1</td>\n",
       "    </tr>\n",
       "    <tr>\n",
       "      <th>2</th>\n",
       "      <td>2022-08-22 04:03</td>\n",
       "      <td>frontend-579b9bff58-t2dbm</td>\n",
       "      <td>2022-08-22 04:02:07</td>\n",
       "      <td>return</td>\n",
       "      <td>2022-08-22 03:51</td>\n",
       "      <td>[{'events': '18_191', 'score': 1.0, 'deepth': ...</td>\n",
       "      <td>[{'events': '120_198', 'score': 1.0, 'deepth':...</td>\n",
       "      <td>['Serving product page started', 'GetProduct s...</td>\n",
       "      <td>1</td>\n",
       "      <td>2</td>\n",
       "    </tr>\n",
       "    <tr>\n",
       "      <th>3</th>\n",
       "      <td>2022-08-22 04:04</td>\n",
       "      <td>frontend-579b9bff58-t2dbm</td>\n",
       "      <td>2022-08-22 04:02:07</td>\n",
       "      <td>return</td>\n",
       "      <td>2022-08-22 03:51</td>\n",
       "      <td>[{'events': '18_191', 'score': 1.0, 'deepth': ...</td>\n",
       "      <td>[{'events': '120_198', 'score': 1.0, 'deepth':...</td>\n",
       "      <td>['Serving product page started', 'GetProduct s...</td>\n",
       "      <td>2</td>\n",
       "      <td>2</td>\n",
       "    </tr>\n",
       "    <tr>\n",
       "      <th>4</th>\n",
       "      <td>2022-08-22 04:11</td>\n",
       "      <td>frontend-579b9bff58-t2dbm</td>\n",
       "      <td>2022-08-22 04:10:20</td>\n",
       "      <td>cpu_consumed</td>\n",
       "      <td>2022-08-22 03:51</td>\n",
       "      <td>[{'events': '76_197', 'score': 1.0, 'deepth': ...</td>\n",
       "      <td>[{'events': '104_106', 'score': 0.605582524271...</td>\n",
       "      <td>['CpuUsageRate(%)']</td>\n",
       "      <td>1</td>\n",
       "      <td>4</td>\n",
       "    </tr>\n",
       "  </tbody>\n",
       "</table>\n",
       "</div>"
      ],
      "text/plain": [
       "      abnormal_time                 inject_pod          inject_time  \\\n",
       "0  2022-08-22 03:54  frontend-579b9bff58-t2dbm  2022-08-22 03:53:54   \n",
       "1  2022-08-22 03:55  frontend-579b9bff58-t2dbm  2022-08-22 03:53:54   \n",
       "2  2022-08-22 04:03  frontend-579b9bff58-t2dbm  2022-08-22 04:02:07   \n",
       "3  2022-08-22 04:04  frontend-579b9bff58-t2dbm  2022-08-22 04:02:07   \n",
       "4  2022-08-22 04:11  frontend-579b9bff58-t2dbm  2022-08-22 04:10:20   \n",
       "\n",
       "      inject_type       normal_time  \\\n",
       "0  cpu_contention  2022-08-22 03:51   \n",
       "1  cpu_contention  2022-08-22 03:51   \n",
       "2          return  2022-08-22 03:51   \n",
       "3          return  2022-08-22 03:51   \n",
       "4    cpu_consumed  2022-08-22 03:51   \n",
       "\n",
       "                     result_list_inhealthy_lessoften  \\\n",
       "0  [{'events': '23_106', 'score': 0.5400894187779...   \n",
       "1  [{'events': '76_197', 'score': 1.0, 'deepth': ...   \n",
       "2  [{'events': '18_191', 'score': 1.0, 'deepth': ...   \n",
       "3  [{'events': '18_191', 'score': 1.0, 'deepth': ...   \n",
       "4  [{'events': '76_197', 'score': 1.0, 'deepth': ...   \n",
       "\n",
       "                     result_list_inhealthy_moreoften  \\\n",
       "0  [{'events': '76_4', 'score': 1.0, 'deepth': 1,...   \n",
       "1  [{'events': '76_4', 'score': 1.0, 'deepth': 1,...   \n",
       "2  [{'events': '120_198', 'score': 1.0, 'deepth':...   \n",
       "3  [{'events': '120_198', 'score': 1.0, 'deepth':...   \n",
       "4  [{'events': '104_106', 'score': 0.605582524271...   \n",
       "\n",
       "                                          root_cause  inject_comp_tdiff  \\\n",
       "0                                ['CpuUsageRate(%)']                  1   \n",
       "1                                ['CpuUsageRate(%)']                  2   \n",
       "2  ['Serving product page started', 'GetProduct s...                  1   \n",
       "3  ['Serving product page started', 'GetProduct s...                  2   \n",
       "4                                ['CpuUsageRate(%)']                  1   \n",
       "\n",
       "   nezha_rank_050  \n",
       "0               1  \n",
       "1               1  \n",
       "2               2  \n",
       "3               2  \n",
       "4               4  "
      ]
     },
     "execution_count": 14,
     "metadata": {},
     "output_type": "execute_result"
    }
   ],
   "source": [
    "df.head()"
   ]
  },
  {
   "cell_type": "code",
   "execution_count": 15,
   "metadata": {},
   "outputs": [],
   "source": [
    "df['result_list_inhealthy_lessoften'] = df['result_list_inhealthy_lessoften'].apply(lambda x: ast.literal_eval(x))\n",
    "df['result_list_inhealthy_moreoften'] = df['result_list_inhealthy_moreoften'].apply(lambda x: ast.literal_eval(x))"
   ]
  },
  {
   "cell_type": "code",
   "execution_count": 16,
   "metadata": {},
   "outputs": [],
   "source": [
    "def format_result_list_inhealthy_moreoften(result_list):\n",
    "    \"\"\"\n",
    "    Format result list for LLM comprehension\n",
    "    \"\"\"\n",
    "    for i in range(len(result_list)):\n",
    "        entry = result_list[i]\n",
    "        entry['events_expected'] = entry.pop('events')\n",
    "    \n",
    "    return result_list"
   ]
  },
  {
   "cell_type": "code",
   "execution_count": 17,
   "metadata": {},
   "outputs": [],
   "source": [
    "df['result_list_inhealthy_moreoften'] = df['result_list_inhealthy_moreoften'].apply(format_result_list_inhealthy_moreoften)"
   ]
  },
  {
   "cell_type": "code",
   "execution_count": 18,
   "metadata": {},
   "outputs": [],
   "source": [
    "def format_result_list_inhealthy_lessoften(result_list):\n",
    "    \"\"\"\n",
    "    Format result list for LLM comprehension\n",
    "    \"\"\"\n",
    "    for i in range(len(result_list)):\n",
    "        entry = result_list[i]\n",
    "        if 'events_actual' in entry:\n",
    "            entry['events_expected'] = entry.pop('events_actual')\n",
    "        entry['events_actual'] = entry.pop('events')\n",
    "        entry['score'] = entry['score'] * -1\n",
    "    \n",
    "    return result_list"
   ]
  },
  {
   "cell_type": "code",
   "execution_count": 19,
   "metadata": {},
   "outputs": [],
   "source": [
    "df['result_list_inhealthy_lessoften'] = df['result_list_inhealthy_lessoften'].apply(format_result_list_inhealthy_lessoften)"
   ]
  },
  {
   "cell_type": "code",
   "execution_count": 21,
   "metadata": {},
   "outputs": [
    {
     "data": {
      "text/html": [
       "<div>\n",
       "<style scoped>\n",
       "    .dataframe tbody tr th:only-of-type {\n",
       "        vertical-align: middle;\n",
       "    }\n",
       "\n",
       "    .dataframe tbody tr th {\n",
       "        vertical-align: top;\n",
       "    }\n",
       "\n",
       "    .dataframe thead th {\n",
       "        text-align: right;\n",
       "    }\n",
       "</style>\n",
       "<table border=\"1\" class=\"dataframe\">\n",
       "  <thead>\n",
       "    <tr style=\"text-align: right;\">\n",
       "      <th></th>\n",
       "      <th>result_list_inhealthy_moreoften</th>\n",
       "    </tr>\n",
       "  </thead>\n",
       "  <tbody>\n",
       "    <tr>\n",
       "      <th>0</th>\n",
       "      <td>[{'score': 1.0, 'deepth': 1, 'pod': 'frontend-579b9bff58-t2dbm', 'resource_alert': 'CpuUsageRate(%)', 'events_actual': '76_197', 'events_expected': '76_4'}, {'score': 0.5638418079096045, 'deepth': 2, 'pod': 'currencyservice-cf787dd48-vpjrd', 'events_actual': '104_23', 'events_expected': '104_106'}, {'score': 0.52, 'deepth': 3, 'pod': 'currencyservice-cf787dd48-vpjrd', 'events_actual': '23_20', 'events_expected': '23_100'}, {'score': 0.5140495867768595, 'deepth': 4, 'pod': 'adservice-5f6585d649-fnmft', 'resource_alert': 'MemoryUsageRate(%)', 'events_expected': '120_198'}, {'score': 0.5100250626566416, 'deepth': 2, 'pod': 'currencyservice-cf787dd48-vpjrd', 'events_expected': '98_100'}]</td>\n",
       "    </tr>\n",
       "    <tr>\n",
       "      <th>1</th>\n",
       "      <td>[{'score': 1.0, 'deepth': 1, 'pod': 'frontend-579b9bff58-t2dbm', 'resource_alert': 'CpuUsageRate(%)', 'events_actual': '76_197', 'events_expected': '76_4'}, {'score': 0.7028169014084507, 'deepth': 2, 'pod': 'currencyservice-cf787dd48-vpjrd', 'events_expected': '104_106'}, {'score': 0.6, 'deepth': 3, 'pod': 'currencyservice-cf787dd48-vpjrd', 'events_expected': '24_100'}, {'score': 0.5992865636147443, 'deepth': 2, 'pod': 'currencyservice-cf787dd48-vpjrd', 'events_expected': '104_100'}, {'score': 0.5738007380073801, 'deepth': 4, 'pod': 'adservice-5f6585d649-fnmft', 'resource_alert': 'MemoryUsageRate(%)', 'events_expected': '120_198'}]</td>\n",
       "    </tr>\n",
       "    <tr>\n",
       "      <th>2</th>\n",
       "      <td>[{'score': 1.0, 'deepth': 4, 'pod': 'adservice-5f6585d649-fnmft', 'resource_alert': 'MemoryUsageRate(%)', 'events_expected': '120_198'}, {'score': 1.0, 'deepth': 4, 'pod': 'adservice-5f6585d649-fnmft', 'resource_alert': 'MemoryUsageRate(%)', 'events_actual': '28_208', 'events_expected': '28_119'}, {'score': 1.0, 'deepth': 1, 'pod': 'frontend-579b9bff58-t2dbm', 'events_actual': '18_191', 'events_expected': '18_78'}, {'score': 1.0, 'deepth': 1, 'pod': 'frontend-579b9bff58-t2dbm', 'events_actual': '18_191', 'events_expected': '18_17'}, {'score': 1.0, 'deepth': 1, 'pod': 'frontend-579b9bff58-t2dbm', 'events_actual': '18_191', 'events_expected': '18_80'}, {'score': 1.0, 'deepth': 1, 'pod': 'frontend-579b9bff58-t2dbm', 'events_actual': '18_191', 'events_expected': '18_82'}, {'score': 1.0, 'deepth': 1, 'pod': 'frontend-579b9bff58-t2dbm', 'events_actual': '18_191', 'events_expected': '18_84'}, {'score': 1.0, 'deepth': 1, 'pod': 'frontend-579b9bff58-t2dbm', 'events_actual': '18_191', 'events_expected': '18_86'}, {'score': 1.0, 'deepth': 1, 'pod': 'frontend-579b9bff58-t2dbm', 'events_actual': '16_41', 'events_expected': '16_15'}, {'score': 0.75, 'deepth': 3, 'pod': 'currencyservice-cf787dd48-vpjrd', 'events_expected': '24_100'}]</td>\n",
       "    </tr>\n",
       "    <tr>\n",
       "      <th>3</th>\n",
       "      <td>[{'score': 1.0, 'deepth': 4, 'pod': 'adservice-5f6585d649-fnmft', 'resource_alert': 'MemoryUsageRate(%)', 'events_expected': '120_198'}, {'score': 1.0, 'deepth': 4, 'pod': 'adservice-5f6585d649-fnmft', 'resource_alert': 'MemoryUsageRate(%)', 'events_actual': '28_208', 'events_expected': '28_119'}, {'score': 1.0, 'deepth': 4, 'pod': 'adservice-5f6585d649-fnmft', 'resource_alert': 'MemoryUsageRate(%)', 'events_actual': '28_208', 'events_expected': '28_120'}, {'score': 1.0, 'deepth': 1, 'pod': 'frontend-579b9bff58-t2dbm', 'events_actual': '18_191', 'events_expected': '18_78'}, {'score': 1.0, 'deepth': 1, 'pod': 'frontend-579b9bff58-t2dbm', 'events_actual': '18_191', 'events_expected': '18_17'}, {'score': 1.0, 'deepth': 1, 'pod': 'frontend-579b9bff58-t2dbm', 'events_actual': '18_191', 'events_expected': '18_80'}, {'score': 1.0, 'deepth': 1, 'pod': 'frontend-579b9bff58-t2dbm', 'events_actual': '18_191', 'events_expected': '18_82'}, {'score': 1.0, 'deepth': 1, 'pod': 'frontend-579b9bff58-t2dbm', 'events_actual': '18_191', 'events_expected': '18_84'}, {'score': 1.0, 'deepth': 1, 'pod': 'frontend-579b9bff58-t2dbm', 'events_actual': '18_191', 'events_expected': '18_86'}, {'score': 1.0, 'deepth': 1, 'pod': 'frontend-579b9bff58-t2dbm', 'events_actual': '16_41', 'events_expected': '16_15'}]</td>\n",
       "    </tr>\n",
       "    <tr>\n",
       "      <th>4</th>\n",
       "      <td>[{'score': 0.6055825242718447, 'deepth': 2, 'pod': 'currencyservice-cf787dd48-vpjrd', 'events_expected': '104_106'}, {'score': 0.6, 'deepth': 3, 'pod': 'currencyservice-cf787dd48-vpjrd', 'events_expected': '24_100'}, {'score': 0.5909090909090909, 'deepth': 3, 'pod': 'currencyservice-cf787dd48-vpjrd', 'events_expected': '23_100'}, {'score': 0.5553571428571429, 'deepth': 4, 'pod': 'adservice-5f6585d649-fnmft', 'resource_alert': 'MemoryUsageRate(%)', 'events_expected': '120_198'}, {'score': 0.5048143053645117, 'deepth': 1, 'pod': 'frontend-579b9bff58-t2dbm', 'resource_alert': 'CpuUsageRate(%)', 'events_expected': '38_78'}]</td>\n",
       "    </tr>\n",
       "  </tbody>\n",
       "</table>\n",
       "</div>"
      ],
      "text/plain": [
       "                                                                                                                                                                                                                                                                                                                                                                                                                                                                                                                                                                                                                                                                                                                                                                                                                                                                                                                                                                                                                                                                                                                                                                                                                                                                                                                       result_list_inhealthy_moreoften\n",
       "0                                                                                                                                                                                                                                                                                                                                                                                                                                                                                                                                                                                                                                 [{'score': 1.0, 'deepth': 1, 'pod': 'frontend-579b9bff58-t2dbm', 'resource_alert': 'CpuUsageRate(%)', 'events_actual': '76_197', 'events_expected': '76_4'}, {'score': 0.5638418079096045, 'deepth': 2, 'pod': 'currencyservice-cf787dd48-vpjrd', 'events_actual': '104_23', 'events_expected': '104_106'}, {'score': 0.52, 'deepth': 3, 'pod': 'currencyservice-cf787dd48-vpjrd', 'events_actual': '23_20', 'events_expected': '23_100'}, {'score': 0.5140495867768595, 'deepth': 4, 'pod': 'adservice-5f6585d649-fnmft', 'resource_alert': 'MemoryUsageRate(%)', 'events_expected': '120_198'}, {'score': 0.5100250626566416, 'deepth': 2, 'pod': 'currencyservice-cf787dd48-vpjrd', 'events_expected': '98_100'}]\n",
       "1                                                                                                                                                                                                                                                                                                                                                                                                                                                                                                                                                                                                                                                                                      [{'score': 1.0, 'deepth': 1, 'pod': 'frontend-579b9bff58-t2dbm', 'resource_alert': 'CpuUsageRate(%)', 'events_actual': '76_197', 'events_expected': '76_4'}, {'score': 0.7028169014084507, 'deepth': 2, 'pod': 'currencyservice-cf787dd48-vpjrd', 'events_expected': '104_106'}, {'score': 0.6, 'deepth': 3, 'pod': 'currencyservice-cf787dd48-vpjrd', 'events_expected': '24_100'}, {'score': 0.5992865636147443, 'deepth': 2, 'pod': 'currencyservice-cf787dd48-vpjrd', 'events_expected': '104_100'}, {'score': 0.5738007380073801, 'deepth': 4, 'pod': 'adservice-5f6585d649-fnmft', 'resource_alert': 'MemoryUsageRate(%)', 'events_expected': '120_198'}]\n",
       "2                                                               [{'score': 1.0, 'deepth': 4, 'pod': 'adservice-5f6585d649-fnmft', 'resource_alert': 'MemoryUsageRate(%)', 'events_expected': '120_198'}, {'score': 1.0, 'deepth': 4, 'pod': 'adservice-5f6585d649-fnmft', 'resource_alert': 'MemoryUsageRate(%)', 'events_actual': '28_208', 'events_expected': '28_119'}, {'score': 1.0, 'deepth': 1, 'pod': 'frontend-579b9bff58-t2dbm', 'events_actual': '18_191', 'events_expected': '18_78'}, {'score': 1.0, 'deepth': 1, 'pod': 'frontend-579b9bff58-t2dbm', 'events_actual': '18_191', 'events_expected': '18_17'}, {'score': 1.0, 'deepth': 1, 'pod': 'frontend-579b9bff58-t2dbm', 'events_actual': '18_191', 'events_expected': '18_80'}, {'score': 1.0, 'deepth': 1, 'pod': 'frontend-579b9bff58-t2dbm', 'events_actual': '18_191', 'events_expected': '18_82'}, {'score': 1.0, 'deepth': 1, 'pod': 'frontend-579b9bff58-t2dbm', 'events_actual': '18_191', 'events_expected': '18_84'}, {'score': 1.0, 'deepth': 1, 'pod': 'frontend-579b9bff58-t2dbm', 'events_actual': '18_191', 'events_expected': '18_86'}, {'score': 1.0, 'deepth': 1, 'pod': 'frontend-579b9bff58-t2dbm', 'events_actual': '16_41', 'events_expected': '16_15'}, {'score': 0.75, 'deepth': 3, 'pod': 'currencyservice-cf787dd48-vpjrd', 'events_expected': '24_100'}]\n",
       "3  [{'score': 1.0, 'deepth': 4, 'pod': 'adservice-5f6585d649-fnmft', 'resource_alert': 'MemoryUsageRate(%)', 'events_expected': '120_198'}, {'score': 1.0, 'deepth': 4, 'pod': 'adservice-5f6585d649-fnmft', 'resource_alert': 'MemoryUsageRate(%)', 'events_actual': '28_208', 'events_expected': '28_119'}, {'score': 1.0, 'deepth': 4, 'pod': 'adservice-5f6585d649-fnmft', 'resource_alert': 'MemoryUsageRate(%)', 'events_actual': '28_208', 'events_expected': '28_120'}, {'score': 1.0, 'deepth': 1, 'pod': 'frontend-579b9bff58-t2dbm', 'events_actual': '18_191', 'events_expected': '18_78'}, {'score': 1.0, 'deepth': 1, 'pod': 'frontend-579b9bff58-t2dbm', 'events_actual': '18_191', 'events_expected': '18_17'}, {'score': 1.0, 'deepth': 1, 'pod': 'frontend-579b9bff58-t2dbm', 'events_actual': '18_191', 'events_expected': '18_80'}, {'score': 1.0, 'deepth': 1, 'pod': 'frontend-579b9bff58-t2dbm', 'events_actual': '18_191', 'events_expected': '18_82'}, {'score': 1.0, 'deepth': 1, 'pod': 'frontend-579b9bff58-t2dbm', 'events_actual': '18_191', 'events_expected': '18_84'}, {'score': 1.0, 'deepth': 1, 'pod': 'frontend-579b9bff58-t2dbm', 'events_actual': '18_191', 'events_expected': '18_86'}, {'score': 1.0, 'deepth': 1, 'pod': 'frontend-579b9bff58-t2dbm', 'events_actual': '16_41', 'events_expected': '16_15'}]\n",
       "4                                                                                                                                                                                                                                                                                                                                                                                                                                                                                                                                                                                                                                                                                                  [{'score': 0.6055825242718447, 'deepth': 2, 'pod': 'currencyservice-cf787dd48-vpjrd', 'events_expected': '104_106'}, {'score': 0.6, 'deepth': 3, 'pod': 'currencyservice-cf787dd48-vpjrd', 'events_expected': '24_100'}, {'score': 0.5909090909090909, 'deepth': 3, 'pod': 'currencyservice-cf787dd48-vpjrd', 'events_expected': '23_100'}, {'score': 0.5553571428571429, 'deepth': 4, 'pod': 'adservice-5f6585d649-fnmft', 'resource_alert': 'MemoryUsageRate(%)', 'events_expected': '120_198'}, {'score': 0.5048143053645117, 'deepth': 1, 'pod': 'frontend-579b9bff58-t2dbm', 'resource_alert': 'CpuUsageRate(%)', 'events_expected': '38_78'}]"
      ]
     },
     "execution_count": 21,
     "metadata": {},
     "output_type": "execute_result"
    }
   ],
   "source": [
    "pd.set_option(\"display.max_colwidth\", None)\n",
    "df[['result_list_inhealthy_moreoften']].head()"
   ]
  },
  {
   "cell_type": "code",
   "execution_count": 22,
   "metadata": {},
   "outputs": [
    {
     "data": {
      "text/plain": [
       "Index(['abnormal_time', 'inject_pod', 'inject_time', 'inject_type',\n",
       "       'normal_time', 'result_list_inhealthy_lessoften',\n",
       "       'result_list_inhealthy_moreoften', 'root_cause', 'inject_comp_tdiff',\n",
       "       'nezha_rank_050'],\n",
       "      dtype='object')"
      ]
     },
     "execution_count": 22,
     "metadata": {},
     "output_type": "execute_result"
    }
   ],
   "source": [
    "df.columns"
   ]
  },
  {
   "cell_type": "code",
   "execution_count": 23,
   "metadata": {},
   "outputs": [
    {
     "data": {
      "text/plain": [
       "array(['frontend-579b9bff58-t2dbm', 'cartservice-579f59597d-wc2lz',\n",
       "       'checkoutservice-578fcf4766-9csqn',\n",
       "       'currencyservice-cf787dd48-vpjrd', 'emailservice-55fdc5b988-f6xth',\n",
       "       'paymentservice-9cdb6588f-554sm',\n",
       "       'productcatalogservice-668d5f85fb-wckp8',\n",
       "       'recommendationservice-6cfdd55578-gfj6q',\n",
       "       'shippingservice-7b598fc7d-lmggd', 'adservice-5f6585d649-fnmft',\n",
       "       'productcatalogservice-668d5f85fb-jhwx9'], dtype=object)"
      ]
     },
     "execution_count": 23,
     "metadata": {},
     "output_type": "execute_result"
    }
   ],
   "source": [
    "df.inject_pod.unique()"
   ]
  },
  {
   "cell_type": "code",
   "execution_count": 24,
   "metadata": {},
   "outputs": [],
   "source": [
    "df.to_csv(f\"output/features_labeled_4llm_step2.csv\", index=False)"
   ]
  }
 ],
 "metadata": {
  "kernelspec": {
   "display_name": "python3.8",
   "language": "python",
   "name": "python3"
  },
  "language_info": {
   "codemirror_mode": {
    "name": "ipython",
    "version": 3
   },
   "file_extension": ".py",
   "mimetype": "text/x-python",
   "name": "python",
   "nbconvert_exporter": "python",
   "pygments_lexer": "ipython3",
   "version": "3.8.18"
  }
 },
 "nbformat": 4,
 "nbformat_minor": 2
}
